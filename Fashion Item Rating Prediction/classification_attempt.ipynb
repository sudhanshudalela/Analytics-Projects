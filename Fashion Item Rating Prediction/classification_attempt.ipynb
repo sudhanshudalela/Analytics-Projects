{
 "cells": [
  {
   "cell_type": "code",
   "execution_count": 44,
   "id": "9e6b615c",
   "metadata": {},
   "outputs": [],
   "source": [
    "# import libraries\n",
    "\n",
    "import pandas as pd\n",
    "import numpy as np\n",
    "import matplotlib.pyplot as plt\n",
    "import seaborn as sns\n",
    "from sklearn.preprocessing import OneHotEncoder\n",
    "from sklearn.metrics import mean_squared_error, accuracy_score, classification_report\n",
    "from sklearn.model_selection import cross_val_score\n",
    "from sklearn import datasets, linear_model\n",
    "from sklearn.ensemble import RandomForestClassifier, RandomForestRegressor\n",
    "import time\n",
    "from datetime import datetime\n",
    "from tweepy import API\n",
    "from tweepy import Stream\n",
    "from tweepy import OAuthHandler\n",
    "from tweepy.streaming import StreamListener\n",
    "import json\n",
    "import gzip\n",
    "from collections import defaultdict\n",
    "from gensim.models import Word2Vec\n",
    "from nltk.stem.porter import *\n",
    "from sklearn import linear_model\n",
    "from sklearn.manifold import TSNE\n",
    "import string\n",
    "from xgboost import XGBRegressor, XGBClassifier\n",
    "import spacy\n",
    "import en_core_web_sm\n",
    "import nltk\n",
    "import spacy\n",
    "from nltk.tokenize import word_tokenize\n",
    "from nltk.tokenize import sent_tokenize\n",
    "from nltk.stem import PorterStemmer\n",
    "from nltk.corpus import stopwords\n",
    "from gensim.models import Word2Vec\n",
    "from gensim.scripts.glove2word2vec import glove2word2vec\n",
    "from gensim.test.utils import datapath, get_tmpfile\n",
    "from gensim.models import KeyedVectors\n",
    "from collections import Counter, defaultdict\n",
    "import itertools\n",
    "import ast\n",
    "import os\n",
    "import pickle"
   ]
  },
  {
   "cell_type": "code",
   "execution_count": 2,
   "id": "fd7f5346",
   "metadata": {},
   "outputs": [],
   "source": [
    "# read data\n",
    "\n",
    "df = pd.read_json('renttherunway_final_data.json.gz', lines=True)"
   ]
  },
  {
   "cell_type": "code",
   "execution_count": 3,
   "id": "393c2ced",
   "metadata": {},
   "outputs": [
    {
     "data": {
      "text/html": [
       "<div>\n",
       "<style scoped>\n",
       "    .dataframe tbody tr th:only-of-type {\n",
       "        vertical-align: middle;\n",
       "    }\n",
       "\n",
       "    .dataframe tbody tr th {\n",
       "        vertical-align: top;\n",
       "    }\n",
       "\n",
       "    .dataframe thead th {\n",
       "        text-align: right;\n",
       "    }\n",
       "</style>\n",
       "<table border=\"1\" class=\"dataframe\">\n",
       "  <thead>\n",
       "    <tr style=\"text-align: right;\">\n",
       "      <th></th>\n",
       "      <th>fit</th>\n",
       "      <th>user_id</th>\n",
       "      <th>bust size</th>\n",
       "      <th>item_id</th>\n",
       "      <th>weight</th>\n",
       "      <th>rating</th>\n",
       "      <th>rented for</th>\n",
       "      <th>review_text</th>\n",
       "      <th>body type</th>\n",
       "      <th>review_summary</th>\n",
       "      <th>category</th>\n",
       "      <th>height</th>\n",
       "      <th>size</th>\n",
       "      <th>age</th>\n",
       "      <th>review_date</th>\n",
       "    </tr>\n",
       "  </thead>\n",
       "  <tbody>\n",
       "    <tr>\n",
       "      <th>0</th>\n",
       "      <td>fit</td>\n",
       "      <td>420272</td>\n",
       "      <td>34d</td>\n",
       "      <td>2260466</td>\n",
       "      <td>137lbs</td>\n",
       "      <td>10.0</td>\n",
       "      <td>vacation</td>\n",
       "      <td>An adorable romper! Belt and zipper were a lit...</td>\n",
       "      <td>hourglass</td>\n",
       "      <td>So many compliments!</td>\n",
       "      <td>romper</td>\n",
       "      <td>5' 8\"</td>\n",
       "      <td>14</td>\n",
       "      <td>28.0</td>\n",
       "      <td>April 20, 2016</td>\n",
       "    </tr>\n",
       "    <tr>\n",
       "      <th>1</th>\n",
       "      <td>fit</td>\n",
       "      <td>273551</td>\n",
       "      <td>34b</td>\n",
       "      <td>153475</td>\n",
       "      <td>132lbs</td>\n",
       "      <td>10.0</td>\n",
       "      <td>other</td>\n",
       "      <td>I rented this dress for a photo shoot. The the...</td>\n",
       "      <td>straight &amp; narrow</td>\n",
       "      <td>I felt so glamourous!!!</td>\n",
       "      <td>gown</td>\n",
       "      <td>5' 6\"</td>\n",
       "      <td>12</td>\n",
       "      <td>36.0</td>\n",
       "      <td>June 18, 2013</td>\n",
       "    </tr>\n",
       "    <tr>\n",
       "      <th>2</th>\n",
       "      <td>fit</td>\n",
       "      <td>360448</td>\n",
       "      <td>NaN</td>\n",
       "      <td>1063761</td>\n",
       "      <td>NaN</td>\n",
       "      <td>10.0</td>\n",
       "      <td>party</td>\n",
       "      <td>This hugged in all the right places! It was a ...</td>\n",
       "      <td>NaN</td>\n",
       "      <td>It was a great time to celebrate the (almost) ...</td>\n",
       "      <td>sheath</td>\n",
       "      <td>5' 4\"</td>\n",
       "      <td>4</td>\n",
       "      <td>116.0</td>\n",
       "      <td>December 14, 2015</td>\n",
       "    </tr>\n",
       "    <tr>\n",
       "      <th>3</th>\n",
       "      <td>fit</td>\n",
       "      <td>909926</td>\n",
       "      <td>34c</td>\n",
       "      <td>126335</td>\n",
       "      <td>135lbs</td>\n",
       "      <td>8.0</td>\n",
       "      <td>formal affair</td>\n",
       "      <td>I rented this for my company's black tie award...</td>\n",
       "      <td>pear</td>\n",
       "      <td>Dress arrived on time and in perfect condition.</td>\n",
       "      <td>dress</td>\n",
       "      <td>5' 5\"</td>\n",
       "      <td>8</td>\n",
       "      <td>34.0</td>\n",
       "      <td>February 12, 2014</td>\n",
       "    </tr>\n",
       "    <tr>\n",
       "      <th>4</th>\n",
       "      <td>fit</td>\n",
       "      <td>151944</td>\n",
       "      <td>34b</td>\n",
       "      <td>616682</td>\n",
       "      <td>145lbs</td>\n",
       "      <td>10.0</td>\n",
       "      <td>wedding</td>\n",
       "      <td>I have always been petite in my upper body and...</td>\n",
       "      <td>athletic</td>\n",
       "      <td>Was in love with this dress !!!</td>\n",
       "      <td>gown</td>\n",
       "      <td>5' 9\"</td>\n",
       "      <td>12</td>\n",
       "      <td>27.0</td>\n",
       "      <td>September 26, 2016</td>\n",
       "    </tr>\n",
       "  </tbody>\n",
       "</table>\n",
       "</div>"
      ],
      "text/plain": [
       "   fit  user_id bust size  item_id  weight  rating     rented for  \\\n",
       "0  fit   420272       34d  2260466  137lbs    10.0       vacation   \n",
       "1  fit   273551       34b   153475  132lbs    10.0          other   \n",
       "2  fit   360448       NaN  1063761     NaN    10.0          party   \n",
       "3  fit   909926       34c   126335  135lbs     8.0  formal affair   \n",
       "4  fit   151944       34b   616682  145lbs    10.0        wedding   \n",
       "\n",
       "                                         review_text          body type  \\\n",
       "0  An adorable romper! Belt and zipper were a lit...          hourglass   \n",
       "1  I rented this dress for a photo shoot. The the...  straight & narrow   \n",
       "2  This hugged in all the right places! It was a ...                NaN   \n",
       "3  I rented this for my company's black tie award...               pear   \n",
       "4  I have always been petite in my upper body and...           athletic   \n",
       "\n",
       "                                      review_summary category height  size  \\\n",
       "0                               So many compliments!   romper  5' 8\"    14   \n",
       "1                            I felt so glamourous!!!     gown  5' 6\"    12   \n",
       "2  It was a great time to celebrate the (almost) ...   sheath  5' 4\"     4   \n",
       "3   Dress arrived on time and in perfect condition.     dress  5' 5\"     8   \n",
       "4                    Was in love with this dress !!!     gown  5' 9\"    12   \n",
       "\n",
       "     age         review_date  \n",
       "0   28.0      April 20, 2016  \n",
       "1   36.0       June 18, 2013  \n",
       "2  116.0   December 14, 2015  \n",
       "3   34.0   February 12, 2014  \n",
       "4   27.0  September 26, 2016  "
      ]
     },
     "execution_count": 3,
     "metadata": {},
     "output_type": "execute_result"
    }
   ],
   "source": [
    "df.head() # this is how the data looks like"
   ]
  },
  {
   "cell_type": "code",
   "execution_count": 4,
   "id": "6263de42",
   "metadata": {},
   "outputs": [
    {
     "data": {
      "text/plain": [
       "(192544, 15)"
      ]
     },
     "execution_count": 4,
     "metadata": {},
     "output_type": "execute_result"
    }
   ],
   "source": [
    "df.shape"
   ]
  },
  {
   "cell_type": "code",
   "execution_count": 5,
   "id": "7de55cd9",
   "metadata": {},
   "outputs": [
    {
     "data": {
      "text/plain": [
       "fit                   0\n",
       "user_id               0\n",
       "bust size         18411\n",
       "item_id               0\n",
       "weight            29982\n",
       "rating               82\n",
       "rented for           10\n",
       "review_text           0\n",
       "body type         14637\n",
       "review_summary        0\n",
       "category              0\n",
       "height              677\n",
       "size                  0\n",
       "age                 960\n",
       "review_date           0\n",
       "dtype: int64"
      ]
     },
     "execution_count": 5,
     "metadata": {},
     "output_type": "execute_result"
    }
   ],
   "source": [
    "# missing values per column\n",
    "\n",
    "df.isna().sum()"
   ]
  },
  {
   "cell_type": "code",
   "execution_count": 6,
   "id": "4410e08b",
   "metadata": {},
   "outputs": [],
   "source": [
    "# dropping all rows missing values\n",
    "\n",
    "df = df.dropna()\n",
    "df = df.reset_index(drop = True)"
   ]
  },
  {
   "cell_type": "code",
   "execution_count": 7,
   "id": "d78099e9",
   "metadata": {},
   "outputs": [
    {
     "data": {
      "text/plain": [
       "(146381, 15)"
      ]
     },
     "execution_count": 7,
     "metadata": {},
     "output_type": "execute_result"
    }
   ],
   "source": [
    "df.shape"
   ]
  },
  {
   "cell_type": "code",
   "execution_count": 8,
   "id": "f9832fdf",
   "metadata": {},
   "outputs": [
    {
     "name": "stdout",
     "output_type": "stream",
     "text": [
      "10.0    94291\n",
      "8.0     40761\n",
      "6.0      8341\n",
      "4.0      2205\n",
      "2.0       783\n",
      "Name: rating, dtype: int64\n",
      "\n",
      "\n"
     ]
    },
    {
     "data": {
      "image/png": "[encoded data removed]",
      "text/plain": [
       "<Figure size 360x360 with 1 Axes>"
      ]
     },
     "metadata": {
      "needs_background": "light"
     },
     "output_type": "display_data"
    }
   ],
   "source": [
    "# Check distribution of data for each type\n",
    "## ratings\n",
    "\n",
    "print(df['rating'].value_counts())\n",
    "print(\"\")\n",
    "print(\"\")\n",
    "plt.figure(figsize=(5,5))\n",
    "ax = sns.countplot(x=\"rating\", data=df, order = df['rating'].value_counts().index)\n",
    "ax.set_xticklabels(ax.get_xticklabels(), rotation=0, ha=\"right\")\n",
    "plt.tight_layout()\n",
    "plt.show()"
   ]
  },
  {
   "cell_type": "code",
   "execution_count": 9,
   "id": "d3cdd5c9",
   "metadata": {},
   "outputs": [],
   "source": [
    "# Before proceeding forward we will convert numeric strings to numeric\n",
    "\n",
    "# Weight\n",
    "df['weight'] = df['weight'].str.replace('lbs', '')\n",
    "df['weight'] = df['weight'].astype('int')\n",
    "\n",
    "# Rating\n",
    "df['rating'] = df['rating'].astype('int')\n",
    "\n",
    "# Age\n",
    "df['age'] = df['age'].astype('int')"
   ]
  },
  {
   "cell_type": "code",
   "execution_count": 10,
   "id": "58a70a11",
   "metadata": {},
   "outputs": [
    {
     "data": {
      "text/html": [
       "<div>\n",
       "<style scoped>\n",
       "    .dataframe tbody tr th:only-of-type {\n",
       "        vertical-align: middle;\n",
       "    }\n",
       "\n",
       "    .dataframe tbody tr th {\n",
       "        vertical-align: top;\n",
       "    }\n",
       "\n",
       "    .dataframe thead th {\n",
       "        text-align: right;\n",
       "    }\n",
       "</style>\n",
       "<table border=\"1\" class=\"dataframe\">\n",
       "  <thead>\n",
       "    <tr style=\"text-align: right;\">\n",
       "      <th></th>\n",
       "      <th>fit</th>\n",
       "      <th>user_id</th>\n",
       "      <th>bust size</th>\n",
       "      <th>item_id</th>\n",
       "      <th>weight</th>\n",
       "      <th>rating</th>\n",
       "      <th>rented for</th>\n",
       "      <th>review_text</th>\n",
       "      <th>body type</th>\n",
       "      <th>review_summary</th>\n",
       "      <th>category</th>\n",
       "      <th>height</th>\n",
       "      <th>size</th>\n",
       "      <th>age</th>\n",
       "      <th>review_date</th>\n",
       "    </tr>\n",
       "  </thead>\n",
       "  <tbody>\n",
       "    <tr>\n",
       "      <th>0</th>\n",
       "      <td>fit</td>\n",
       "      <td>420272</td>\n",
       "      <td>34d</td>\n",
       "      <td>2260466</td>\n",
       "      <td>137</td>\n",
       "      <td>10</td>\n",
       "      <td>vacation</td>\n",
       "      <td>An adorable romper! Belt and zipper were a lit...</td>\n",
       "      <td>hourglass</td>\n",
       "      <td>So many compliments!</td>\n",
       "      <td>romper</td>\n",
       "      <td>5' 8\"</td>\n",
       "      <td>14</td>\n",
       "      <td>28</td>\n",
       "      <td>April 20, 2016</td>\n",
       "    </tr>\n",
       "    <tr>\n",
       "      <th>1</th>\n",
       "      <td>fit</td>\n",
       "      <td>273551</td>\n",
       "      <td>34b</td>\n",
       "      <td>153475</td>\n",
       "      <td>132</td>\n",
       "      <td>10</td>\n",
       "      <td>other</td>\n",
       "      <td>I rented this dress for a photo shoot. The the...</td>\n",
       "      <td>straight &amp; narrow</td>\n",
       "      <td>I felt so glamourous!!!</td>\n",
       "      <td>gown</td>\n",
       "      <td>5' 6\"</td>\n",
       "      <td>12</td>\n",
       "      <td>36</td>\n",
       "      <td>June 18, 2013</td>\n",
       "    </tr>\n",
       "    <tr>\n",
       "      <th>2</th>\n",
       "      <td>fit</td>\n",
       "      <td>909926</td>\n",
       "      <td>34c</td>\n",
       "      <td>126335</td>\n",
       "      <td>135</td>\n",
       "      <td>8</td>\n",
       "      <td>formal affair</td>\n",
       "      <td>I rented this for my company's black tie award...</td>\n",
       "      <td>pear</td>\n",
       "      <td>Dress arrived on time and in perfect condition.</td>\n",
       "      <td>dress</td>\n",
       "      <td>5' 5\"</td>\n",
       "      <td>8</td>\n",
       "      <td>34</td>\n",
       "      <td>February 12, 2014</td>\n",
       "    </tr>\n",
       "    <tr>\n",
       "      <th>3</th>\n",
       "      <td>fit</td>\n",
       "      <td>151944</td>\n",
       "      <td>34b</td>\n",
       "      <td>616682</td>\n",
       "      <td>145</td>\n",
       "      <td>10</td>\n",
       "      <td>wedding</td>\n",
       "      <td>I have always been petite in my upper body and...</td>\n",
       "      <td>athletic</td>\n",
       "      <td>Was in love with this dress !!!</td>\n",
       "      <td>gown</td>\n",
       "      <td>5' 9\"</td>\n",
       "      <td>12</td>\n",
       "      <td>27</td>\n",
       "      <td>September 26, 2016</td>\n",
       "    </tr>\n",
       "    <tr>\n",
       "      <th>4</th>\n",
       "      <td>fit</td>\n",
       "      <td>734848</td>\n",
       "      <td>32b</td>\n",
       "      <td>364092</td>\n",
       "      <td>138</td>\n",
       "      <td>8</td>\n",
       "      <td>date</td>\n",
       "      <td>Didn't actually wear it. It fit perfectly. The...</td>\n",
       "      <td>athletic</td>\n",
       "      <td>Traditional with a touch a sass</td>\n",
       "      <td>dress</td>\n",
       "      <td>5' 8\"</td>\n",
       "      <td>8</td>\n",
       "      <td>45</td>\n",
       "      <td>April 30, 2016</td>\n",
       "    </tr>\n",
       "  </tbody>\n",
       "</table>\n",
       "</div>"
      ],
      "text/plain": [
       "   fit  user_id bust size  item_id  weight  rating     rented for  \\\n",
       "0  fit   420272       34d  2260466     137      10       vacation   \n",
       "1  fit   273551       34b   153475     132      10          other   \n",
       "2  fit   909926       34c   126335     135       8  formal affair   \n",
       "3  fit   151944       34b   616682     145      10        wedding   \n",
       "4  fit   734848       32b   364092     138       8           date   \n",
       "\n",
       "                                         review_text          body type  \\\n",
       "0  An adorable romper! Belt and zipper were a lit...          hourglass   \n",
       "1  I rented this dress for a photo shoot. The the...  straight & narrow   \n",
       "2  I rented this for my company's black tie award...               pear   \n",
       "3  I have always been petite in my upper body and...           athletic   \n",
       "4  Didn't actually wear it. It fit perfectly. The...           athletic   \n",
       "\n",
       "                                     review_summary category height  size  \\\n",
       "0                              So many compliments!   romper  5' 8\"    14   \n",
       "1                           I felt so glamourous!!!     gown  5' 6\"    12   \n",
       "2  Dress arrived on time and in perfect condition.     dress  5' 5\"     8   \n",
       "3                   Was in love with this dress !!!     gown  5' 9\"    12   \n",
       "4                   Traditional with a touch a sass    dress  5' 8\"     8   \n",
       "\n",
       "   age         review_date  \n",
       "0   28      April 20, 2016  \n",
       "1   36       June 18, 2013  \n",
       "2   34   February 12, 2014  \n",
       "3   27  September 26, 2016  \n",
       "4   45      April 30, 2016  "
      ]
     },
     "execution_count": 10,
     "metadata": {},
     "output_type": "execute_result"
    }
   ],
   "source": [
    "df.head()"
   ]
  },
  {
   "cell_type": "code",
   "execution_count": 11,
   "id": "71d9f11d",
   "metadata": {},
   "outputs": [
    {
     "data": {
      "text/plain": [
       "34676"
      ]
     },
     "execution_count": 11,
     "metadata": {},
     "output_type": "execute_result"
    }
   ],
   "source": [
    "# Unigram\n",
    "\n",
    "wordCount = defaultdict(int)\n",
    "punctuation = set(string.punctuation)\n",
    "stemmer = PorterStemmer()\n",
    "for i,d in df.iterrows():\n",
    "    r = ''.join([c for c in d['review_text'].lower() if not c in punctuation])\n",
    "    for w in r.split():\n",
    "        w = stemmer.stem(w)\n",
    "        wordCount[w] += 1\n",
    "\n",
    "len(wordCount)"
   ]
  },
  {
   "cell_type": "code",
   "execution_count": 12,
   "id": "6f9e4790",
   "metadata": {},
   "outputs": [],
   "source": [
    "counts = [(wordCount[w], w) for w in wordCount]\n",
    "counts.sort()\n",
    "counts.reverse()\n",
    "words = [x[1] for x in counts[:10000]]\n",
    "wordId = dict(zip(words, range(len(words))))\n",
    "wordSet = set(words)"
   ]
  },
  {
   "cell_type": "code",
   "execution_count": 13,
   "id": "9e43b25a",
   "metadata": {},
   "outputs": [
    {
     "data": {
      "text/plain": [
       "9"
      ]
     },
     "execution_count": 13,
     "metadata": {},
     "output_type": "execute_result"
    }
   ],
   "source": [
    "df['rented for'].nunique()"
   ]
  },
  {
   "cell_type": "code",
   "execution_count": 14,
   "id": "b552a82c",
   "metadata": {},
   "outputs": [],
   "source": [
    "df['fit'] = df['fit'].astype('category')\n",
    "df['category'] = df['category'].astype('category')\n",
    "df['body type'] = df['body type'].astype('category')\n",
    "df['rented for'] = df['rented for'].astype('category')"
   ]
  },
  {
   "cell_type": "code",
   "execution_count": 15,
   "id": "0e82cff0",
   "metadata": {},
   "outputs": [
    {
     "name": "stderr",
     "output_type": "stream",
     "text": [
      "<ipython-input-15-3ef4b8c011a7>:3: SettingWithCopyWarning: \n",
      "A value is trying to be set on a copy of a slice from a DataFrame\n",
      "\n",
      "See the caveats in the documentation: https://pandas.pydata.org/pandas-docs/stable/user_guide/indexing.html#returning-a-view-versus-a-copy\n",
      "  df['bust_inch'][i] = df['bust size'][i][:2]\n"
     ]
    }
   ],
   "source": [
    "df['bust_inch'] = 1\n",
    "for i in range(df.shape[0]):\n",
    "    df['bust_inch'][i] = df['bust size'][i][:2]\n",
    "df['bust_inch'] = df['bust_inch'].astype('int')"
   ]
  },
  {
   "cell_type": "code",
   "execution_count": 16,
   "id": "83a1f946",
   "metadata": {},
   "outputs": [
    {
     "name": "stderr",
     "output_type": "stream",
     "text": [
      "<ipython-input-16-0d9949799d42>:3: SettingWithCopyWarning: \n",
      "A value is trying to be set on a copy of a slice from a DataFrame\n",
      "\n",
      "See the caveats in the documentation: https://pandas.pydata.org/pandas-docs/stable/user_guide/indexing.html#returning-a-view-versus-a-copy\n",
      "  df['hgt'][i] = int(df['height'][i].split('\\' ')[0])*12 + int(df['height'][i].split('\\' ')[1].split(\"\\\"\")[0])\n"
     ]
    }
   ],
   "source": [
    "df['hgt'] = 1\n",
    "for i in range(df.shape[0]):\n",
    "    df['hgt'][i] = int(df['height'][i].split('\\' ')[0])*12 + int(df['height'][i].split('\\' ')[1].split(\"\\\"\")[0])\n",
    "df['hgt'] = df['hgt'].astype('int')"
   ]
  },
  {
   "cell_type": "code",
   "execution_count": 17,
   "id": "d4e15067",
   "metadata": {},
   "outputs": [
    {
     "name": "stderr",
     "output_type": "stream",
     "text": [
      "<ipython-input-17-22bb4ca4aeca>:3: SettingWithCopyWarning: \n",
      "A value is trying to be set on a copy of a slice from a DataFrame\n",
      "\n",
      "See the caveats in the documentation: https://pandas.pydata.org/pandas-docs/stable/user_guide/indexing.html#returning-a-view-versus-a-copy\n",
      "  df['ut'][i] = time.mktime(time.strptime(df['review_date'][i], '%B %d, %Y'))\n"
     ]
    }
   ],
   "source": [
    "df['ut'] = 1\n",
    "for i in range(df.shape[0]):\n",
    "    df['ut'][i] = time.mktime(time.strptime(df['review_date'][i], '%B %d, %Y'))\n",
    "df['ut'] = df['ut'].astype('int')"
   ]
  },
  {
   "cell_type": "code",
   "execution_count": 18,
   "id": "4c49ad49",
   "metadata": {},
   "outputs": [
    {
     "data": {
      "image/png": "[encoded data removed]",
      "text/plain": [
       "<Figure size 360x360 with 1 Axes>"
      ]
     },
     "metadata": {
      "needs_background": "light"
     },
     "output_type": "display_data"
    },
    {
     "data": {
      "text/plain": [
       "Weight (50-75 lb)          7\n",
       "Weight (275-300 lb)       29\n",
       "Weight (250-275 lb)      205\n",
       "Weight (225-250 lb)      476\n",
       "Weight (75-100 lb)       647\n",
       "Weight (200-225 lb)     1892\n",
       "Weight (175-200 lb)     6373\n",
       "Weight (150-175 lb)    27172\n",
       "Weight (100-125 lb)    37021\n",
       "Weight (125-150 lb)    72559\n",
       "Name: weight_bin, dtype: int64"
      ]
     },
     "execution_count": 18,
     "metadata": {},
     "output_type": "execute_result"
    }
   ],
   "source": [
    "def binning_operation(value):\n",
    "    if value >= 50 and value < 75:\n",
    "        column_value = 'Weight (50-75 lb)'\n",
    "    elif value >= 75 and value < 100:\n",
    "        column_value = 'Weight (75-100 lb)'\n",
    "    elif value >= 100 and value < 125:\n",
    "        column_value = 'Weight (100-125 lb)'\n",
    "    elif value >= 125 and value < 150:\n",
    "        column_value = 'Weight (125-150 lb)'\n",
    "    elif value >= 150 and value < 175:\n",
    "        column_value = 'Weight (150-175 lb)'\n",
    "    elif value >= 175 and value < 200:\n",
    "        column_value = 'Weight (175-200 lb)'\n",
    "    elif value >= 200 and value < 225:\n",
    "        column_value = 'Weight (200-225 lb)'\n",
    "    elif value >= 225 and value < 250:\n",
    "        column_value = 'Weight (225-250 lb)'\n",
    "    elif value >= 250 and value < 275:\n",
    "        column_value = 'Weight (250-275 lb)'\n",
    "    elif value >= 275 and value <= 300:\n",
    "        column_value = 'Weight (275-300 lb)'\n",
    "    \n",
    "    return column_value\n",
    "\n",
    "\n",
    "df['weight_bin'] = df['weight'].apply(binning_operation)\n",
    "order_list = ['Weight (50-75 lb)', 'Weight (75-100 lb)', 'Weight (100-125 lb)', 'Weight (125-150 lb)',\n",
    "              'Weight (150-175 lb)', 'Weight (175-200 lb)', 'Weight (175-200 lb)', 'Weight (200-225 lb)',\n",
    "              'Weight (225-250 lb)', 'Weight (250-275 lb)', 'Weight (275-300 lb)']\n",
    "\n",
    "# Plot the distribution\n",
    "plt.figure(figsize=(5,5))\n",
    "ax = sns.countplot(x=\"weight_bin\", data=df, order = order_list)\n",
    "ax.set_xticklabels(ax.get_xticklabels(), rotation=45, ha=\"right\")\n",
    "plt.show()\n",
    "\n",
    "# Print the count\n",
    "df['weight_bin'].value_counts(ascending = True)"
   ]
  },
  {
   "cell_type": "markdown",
   "id": "f2cbfd7a",
   "metadata": {},
   "source": [
    "# Filtering data on weights\n",
    "\n",
    "df = df[np.logical_and(df.weight >= 100, df.weight <= 200)]"
   ]
  },
  {
   "cell_type": "code",
   "execution_count": 19,
   "id": "3b7a0ad6",
   "metadata": {},
   "outputs": [
    {
     "data": {
      "text/plain": [
       "<seaborn.axisgrid.FacetGrid at 0x7f4ab65e3280>"
      ]
     },
     "execution_count": 19,
     "metadata": {},
     "output_type": "execute_result"
    },
    {
     "data": {
      "text/plain": [
       "<Figure size 360x360 with 0 Axes>"
      ]
     },
     "metadata": {},
     "output_type": "display_data"
    },
    {
     "data": {
      "image/png": "[encoded data removed]",
      "text/plain": [
       "<Figure size 360x360 with 1 Axes>"
      ]
     },
     "metadata": {
      "needs_background": "light"
     },
     "output_type": "display_data"
    }
   ],
   "source": [
    "# Plot distribution for height\n",
    "\n",
    "plt.figure(figsize=(5,5))\n",
    "sns.displot(df['hgt'], kde=True)"
   ]
  },
  {
   "cell_type": "code",
   "execution_count": 20,
   "id": "3662e53a",
   "metadata": {},
   "outputs": [
    {
     "data": {
      "image/png": "[encoded data removed]",
      "text/plain": [
       "<Figure size 360x360 with 1 Axes>"
      ]
     },
     "metadata": {
      "needs_background": "light"
     },
     "output_type": "display_data"
    },
    {
     "name": "stdout",
     "output_type": "stream",
     "text": [
      "Number of Unique Categories for Bust Size: 101\n"
     ]
    }
   ],
   "source": [
    "# Distribution plot for Bust size\n",
    "\n",
    "plt.figure(figsize=(5,5))\n",
    "ax = sns.countplot(x=\"bust size\", data=df, order = df['bust size'].value_counts().index)\n",
    "ax.set_xticklabels(ax.get_xticklabels(), rotation=90, ha=\"right\")\n",
    "ax.set_xlim(left = 0, right = 30)\n",
    "plt.tight_layout()\n",
    "plt.show()\n",
    "\n",
    "# Total categories\n",
    "print('Number of Unique Categories for Bust Size:', len(set(df['bust size'])))"
   ]
  },
  {
   "cell_type": "code",
   "execution_count": 21,
   "id": "2edb922a",
   "metadata": {},
   "outputs": [
    {
     "data": {
      "image/png": "[encoded data removed]",
      "text/plain": [
       "<Figure size 360x360 with 1 Axes>"
      ]
     },
     "metadata": {
      "needs_background": "light"
     },
     "output_type": "display_data"
    },
    {
     "data": {
      "text/plain": [
       "wedding            42622\n",
       "formal affair      30496\n",
       "party              27198\n",
       "everyday           13263\n",
       "work               12124\n",
       "other              11510\n",
       "date                5929\n",
       "vacation            3238\n",
       "party: cocktail        1\n",
       "Name: rented for, dtype: int64"
      ]
     },
     "execution_count": 21,
     "metadata": {},
     "output_type": "execute_result"
    }
   ],
   "source": [
    "# Plot Distribution for 'rented for'\n",
    "\n",
    "plt.figure(figsize=(5,5))\n",
    "ax = sns.countplot(x=\"rented for\", data=df, order = df['rented for'].value_counts().index)\n",
    "ax.set_xticklabels(ax.get_xticklabels(), rotation=40, ha=\"right\")\n",
    "plt.tight_layout()\n",
    "plt.show()\n",
    "\n",
    "# Count Table\n",
    "df['rented for'].value_counts()"
   ]
  },
  {
   "cell_type": "code",
   "execution_count": 22,
   "id": "16cbba33",
   "metadata": {},
   "outputs": [],
   "source": [
    "# Filtering out 'party: cocktail'\n",
    "\n",
    "df = df[df['rented for'] != 'party: cocktail']"
   ]
  },
  {
   "cell_type": "code",
   "execution_count": 24,
   "id": "7288b519",
   "metadata": {},
   "outputs": [
    {
     "name": "stdout",
     "output_type": "stream",
     "text": [
      "   rating  len_review_text\n",
      "0       2        54.349936\n",
      "1       4        59.809070\n",
      "2       6        66.416856\n",
      "3       8        70.458047\n",
      "4      10        64.996277\n"
     ]
    },
    {
     "data": {
      "image/png": "[encoded data removed]",
      "text/plain": [
       "<Figure size 360x360 with 1 Axes>"
      ]
     },
     "metadata": {
      "needs_background": "light"
     },
     "output_type": "display_data"
    }
   ],
   "source": [
    "# Review Text Length Analysis\n",
    "\n",
    "# Create column for length of review text\n",
    "def len_review(review_text):\n",
    "    length = len(review_text.split())\n",
    "    return length\n",
    "\n",
    "df['len_review_text'] = (df['review_text'] + ' ' + df['review_summary']).apply(len_review)\n",
    "\n",
    "# Create Bar Plot\n",
    "plt.figure(figsize=(5,5))\n",
    "rating_len_review = df.groupby(by = 'rating')['len_review_text'].mean().reset_index()\n",
    "rating_len_review\n",
    "sns.barplot(data = rating_len_review, x = 'rating', y = 'len_review_text')\n",
    "print(rating_len_review)"
   ]
  },
  {
   "cell_type": "code",
   "execution_count": 25,
   "id": "29a4a63d",
   "metadata": {},
   "outputs": [
    {
     "name": "stdout",
     "output_type": "stream",
     "text": [
      "hourglass            43982\n",
      "athletic             37518\n",
      "petite               19357\n",
      "pear                 18051\n",
      "straight & narrow    12866\n",
      "full bust            10797\n",
      "apple                 3809\n",
      "Name: body type, dtype: int64\n"
     ]
    },
    {
     "data": {
      "image/png": "[encoded data removed]",
      "text/plain": [
       "<Figure size 360x360 with 1 Axes>"
      ]
     },
     "metadata": {
      "needs_background": "light"
     },
     "output_type": "display_data"
    }
   ],
   "source": [
    "# Distribution plot for Body Type\n",
    "\n",
    "print(df['body type'].value_counts(dropna=False))\n",
    "plt.figure(figsize=(5,5))\n",
    "ax = sns.countplot(x=\"body type\", data=df, order = df['body type'].value_counts().index)\n",
    "ax.set_xticklabels(ax.get_xticklabels(), rotation=40, ha=\"right\")\n",
    "#ax.set_xlim(left = 0, right = 50)\n",
    "plt.tight_layout()\n",
    "plt.show()"
   ]
  },
  {
   "cell_type": "code",
   "execution_count": 26,
   "id": "2691cded",
   "metadata": {},
   "outputs": [
    {
     "data": {
      "image/png": "[encoded data removed]",
      "text/plain": [
       "<Figure size 360x360 with 1 Axes>"
      ]
     },
     "metadata": {
      "needs_background": "light"
     },
     "output_type": "display_data"
    }
   ],
   "source": [
    "# Plot Distribution for Age\n",
    "\n",
    "plt.figure(figsize = (5,5))\n",
    "plt.hist(df['age'], bins = 50)\n",
    "plt.xlim(0, 120)\n",
    "plt.show()"
   ]
  },
  {
   "cell_type": "code",
   "execution_count": 28,
   "id": "cf7fe7e1",
   "metadata": {},
   "outputs": [
    {
     "data": {
      "text/plain": [
       "(146253, 20)"
      ]
     },
     "execution_count": 28,
     "metadata": {},
     "output_type": "execute_result"
    }
   ],
   "source": [
    "# Filter out ages 0-15 and > 80 from df\n",
    "\n",
    "df = df[np.logical_and(df.age > 15, df.age <= 80)]\n",
    "df.shape"
   ]
  },
  {
   "cell_type": "code",
   "execution_count": 29,
   "id": "51740405",
   "metadata": {},
   "outputs": [],
   "source": [
    "df.to_csv('data.csv', index = False, header = True)"
   ]
  },
  {
   "cell_type": "code",
   "execution_count": 30,
   "id": "1905f7dc",
   "metadata": {},
   "outputs": [
    {
     "data": {
      "text/html": [
       "<div>\n",
       "<style scoped>\n",
       "    .dataframe tbody tr th:only-of-type {\n",
       "        vertical-align: middle;\n",
       "    }\n",
       "\n",
       "    .dataframe tbody tr th {\n",
       "        vertical-align: top;\n",
       "    }\n",
       "\n",
       "    .dataframe thead th {\n",
       "        text-align: right;\n",
       "    }\n",
       "</style>\n",
       "<table border=\"1\" class=\"dataframe\">\n",
       "  <thead>\n",
       "    <tr style=\"text-align: right;\">\n",
       "      <th></th>\n",
       "      <th>fit</th>\n",
       "      <th>user_id</th>\n",
       "      <th>bust size</th>\n",
       "      <th>item_id</th>\n",
       "      <th>weight</th>\n",
       "      <th>rating</th>\n",
       "      <th>rented for</th>\n",
       "      <th>review_text</th>\n",
       "      <th>body type</th>\n",
       "      <th>review_summary</th>\n",
       "      <th>category</th>\n",
       "      <th>height</th>\n",
       "      <th>size</th>\n",
       "      <th>age</th>\n",
       "      <th>review_date</th>\n",
       "      <th>bust_inch</th>\n",
       "      <th>hgt</th>\n",
       "      <th>ut</th>\n",
       "      <th>weight_bin</th>\n",
       "      <th>len_review_text</th>\n",
       "    </tr>\n",
       "  </thead>\n",
       "  <tbody>\n",
       "    <tr>\n",
       "      <th>0</th>\n",
       "      <td>fit</td>\n",
       "      <td>420272</td>\n",
       "      <td>34d</td>\n",
       "      <td>2260466</td>\n",
       "      <td>137</td>\n",
       "      <td>10</td>\n",
       "      <td>vacation</td>\n",
       "      <td>An adorable romper! Belt and zipper were a lit...</td>\n",
       "      <td>hourglass</td>\n",
       "      <td>So many compliments!</td>\n",
       "      <td>romper</td>\n",
       "      <td>5' 8\"</td>\n",
       "      <td>14</td>\n",
       "      <td>28</td>\n",
       "      <td>April 20, 2016</td>\n",
       "      <td>34</td>\n",
       "      <td>68</td>\n",
       "      <td>1461135600</td>\n",
       "      <td>Weight (125-150 lb)</td>\n",
       "      <td>42</td>\n",
       "    </tr>\n",
       "    <tr>\n",
       "      <th>1</th>\n",
       "      <td>fit</td>\n",
       "      <td>273551</td>\n",
       "      <td>34b</td>\n",
       "      <td>153475</td>\n",
       "      <td>132</td>\n",
       "      <td>10</td>\n",
       "      <td>other</td>\n",
       "      <td>I rented this dress for a photo shoot. The the...</td>\n",
       "      <td>straight &amp; narrow</td>\n",
       "      <td>I felt so glamourous!!!</td>\n",
       "      <td>gown</td>\n",
       "      <td>5' 6\"</td>\n",
       "      <td>12</td>\n",
       "      <td>36</td>\n",
       "      <td>June 18, 2013</td>\n",
       "      <td>34</td>\n",
       "      <td>66</td>\n",
       "      <td>1371538800</td>\n",
       "      <td>Weight (125-150 lb)</td>\n",
       "      <td>45</td>\n",
       "    </tr>\n",
       "    <tr>\n",
       "      <th>2</th>\n",
       "      <td>fit</td>\n",
       "      <td>909926</td>\n",
       "      <td>34c</td>\n",
       "      <td>126335</td>\n",
       "      <td>135</td>\n",
       "      <td>8</td>\n",
       "      <td>formal affair</td>\n",
       "      <td>I rented this for my company's black tie award...</td>\n",
       "      <td>pear</td>\n",
       "      <td>Dress arrived on time and in perfect condition.</td>\n",
       "      <td>dress</td>\n",
       "      <td>5' 5\"</td>\n",
       "      <td>8</td>\n",
       "      <td>34</td>\n",
       "      <td>February 12, 2014</td>\n",
       "      <td>34</td>\n",
       "      <td>65</td>\n",
       "      <td>1392192000</td>\n",
       "      <td>Weight (125-150 lb)</td>\n",
       "      <td>91</td>\n",
       "    </tr>\n",
       "    <tr>\n",
       "      <th>3</th>\n",
       "      <td>fit</td>\n",
       "      <td>151944</td>\n",
       "      <td>34b</td>\n",
       "      <td>616682</td>\n",
       "      <td>145</td>\n",
       "      <td>10</td>\n",
       "      <td>wedding</td>\n",
       "      <td>I have always been petite in my upper body and...</td>\n",
       "      <td>athletic</td>\n",
       "      <td>Was in love with this dress !!!</td>\n",
       "      <td>gown</td>\n",
       "      <td>5' 9\"</td>\n",
       "      <td>12</td>\n",
       "      <td>27</td>\n",
       "      <td>September 26, 2016</td>\n",
       "      <td>34</td>\n",
       "      <td>69</td>\n",
       "      <td>1474873200</td>\n",
       "      <td>Weight (125-150 lb)</td>\n",
       "      <td>118</td>\n",
       "    </tr>\n",
       "    <tr>\n",
       "      <th>4</th>\n",
       "      <td>fit</td>\n",
       "      <td>734848</td>\n",
       "      <td>32b</td>\n",
       "      <td>364092</td>\n",
       "      <td>138</td>\n",
       "      <td>8</td>\n",
       "      <td>date</td>\n",
       "      <td>Didn't actually wear it. It fit perfectly. The...</td>\n",
       "      <td>athletic</td>\n",
       "      <td>Traditional with a touch a sass</td>\n",
       "      <td>dress</td>\n",
       "      <td>5' 8\"</td>\n",
       "      <td>8</td>\n",
       "      <td>45</td>\n",
       "      <td>April 30, 2016</td>\n",
       "      <td>32</td>\n",
       "      <td>68</td>\n",
       "      <td>1461999600</td>\n",
       "      <td>Weight (125-150 lb)</td>\n",
       "      <td>43</td>\n",
       "    </tr>\n",
       "  </tbody>\n",
       "</table>\n",
       "</div>"
      ],
      "text/plain": [
       "   fit  user_id bust size  item_id  weight  rating     rented for  \\\n",
       "0  fit   420272       34d  2260466     137      10       vacation   \n",
       "1  fit   273551       34b   153475     132      10          other   \n",
       "2  fit   909926       34c   126335     135       8  formal affair   \n",
       "3  fit   151944       34b   616682     145      10        wedding   \n",
       "4  fit   734848       32b   364092     138       8           date   \n",
       "\n",
       "                                         review_text          body type  \\\n",
       "0  An adorable romper! Belt and zipper were a lit...          hourglass   \n",
       "1  I rented this dress for a photo shoot. The the...  straight & narrow   \n",
       "2  I rented this for my company's black tie award...               pear   \n",
       "3  I have always been petite in my upper body and...           athletic   \n",
       "4  Didn't actually wear it. It fit perfectly. The...           athletic   \n",
       "\n",
       "                                     review_summary category height  size  \\\n",
       "0                              So many compliments!   romper  5' 8\"    14   \n",
       "1                           I felt so glamourous!!!     gown  5' 6\"    12   \n",
       "2  Dress arrived on time and in perfect condition.     dress  5' 5\"     8   \n",
       "3                   Was in love with this dress !!!     gown  5' 9\"    12   \n",
       "4                   Traditional with a touch a sass    dress  5' 8\"     8   \n",
       "\n",
       "   age         review_date  bust_inch  hgt          ut           weight_bin  \\\n",
       "0   28      April 20, 2016         34   68  1461135600  Weight (125-150 lb)   \n",
       "1   36       June 18, 2013         34   66  1371538800  Weight (125-150 lb)   \n",
       "2   34   February 12, 2014         34   65  1392192000  Weight (125-150 lb)   \n",
       "3   27  September 26, 2016         34   69  1474873200  Weight (125-150 lb)   \n",
       "4   45      April 30, 2016         32   68  1461999600  Weight (125-150 lb)   \n",
       "\n",
       "   len_review_text  \n",
       "0               42  \n",
       "1               45  \n",
       "2               91  \n",
       "3              118  \n",
       "4               43  "
      ]
     },
     "execution_count": 30,
     "metadata": {},
     "output_type": "execute_result"
    }
   ],
   "source": [
    "df.head()"
   ]
  },
  {
   "cell_type": "code",
   "execution_count": 34,
   "id": "a8911341",
   "metadata": {},
   "outputs": [],
   "source": [
    "data = df.drop(columns = ['user_id','bust size','item_id','height','weight_bin','review_date','category'])"
   ]
  },
  {
   "cell_type": "code",
   "execution_count": 35,
   "id": "78d74e27",
   "metadata": {},
   "outputs": [
    {
     "data": {
      "text/html": [
       "<div>\n",
       "<style scoped>\n",
       "    .dataframe tbody tr th:only-of-type {\n",
       "        vertical-align: middle;\n",
       "    }\n",
       "\n",
       "    .dataframe tbody tr th {\n",
       "        vertical-align: top;\n",
       "    }\n",
       "\n",
       "    .dataframe thead th {\n",
       "        text-align: right;\n",
       "    }\n",
       "</style>\n",
       "<table border=\"1\" class=\"dataframe\">\n",
       "  <thead>\n",
       "    <tr style=\"text-align: right;\">\n",
       "      <th></th>\n",
       "      <th>fit</th>\n",
       "      <th>weight</th>\n",
       "      <th>rating</th>\n",
       "      <th>rented for</th>\n",
       "      <th>review_text</th>\n",
       "      <th>body type</th>\n",
       "      <th>review_summary</th>\n",
       "      <th>size</th>\n",
       "      <th>age</th>\n",
       "      <th>bust_inch</th>\n",
       "      <th>hgt</th>\n",
       "      <th>ut</th>\n",
       "      <th>len_review_text</th>\n",
       "    </tr>\n",
       "  </thead>\n",
       "  <tbody>\n",
       "    <tr>\n",
       "      <th>0</th>\n",
       "      <td>fit</td>\n",
       "      <td>137</td>\n",
       "      <td>10</td>\n",
       "      <td>vacation</td>\n",
       "      <td>An adorable romper! Belt and zipper were a lit...</td>\n",
       "      <td>hourglass</td>\n",
       "      <td>So many compliments!</td>\n",
       "      <td>14</td>\n",
       "      <td>28</td>\n",
       "      <td>34</td>\n",
       "      <td>68</td>\n",
       "      <td>1461135600</td>\n",
       "      <td>42</td>\n",
       "    </tr>\n",
       "    <tr>\n",
       "      <th>1</th>\n",
       "      <td>fit</td>\n",
       "      <td>132</td>\n",
       "      <td>10</td>\n",
       "      <td>other</td>\n",
       "      <td>I rented this dress for a photo shoot. The the...</td>\n",
       "      <td>straight &amp; narrow</td>\n",
       "      <td>I felt so glamourous!!!</td>\n",
       "      <td>12</td>\n",
       "      <td>36</td>\n",
       "      <td>34</td>\n",
       "      <td>66</td>\n",
       "      <td>1371538800</td>\n",
       "      <td>45</td>\n",
       "    </tr>\n",
       "    <tr>\n",
       "      <th>2</th>\n",
       "      <td>fit</td>\n",
       "      <td>135</td>\n",
       "      <td>8</td>\n",
       "      <td>formal affair</td>\n",
       "      <td>I rented this for my company's black tie award...</td>\n",
       "      <td>pear</td>\n",
       "      <td>Dress arrived on time and in perfect condition.</td>\n",
       "      <td>8</td>\n",
       "      <td>34</td>\n",
       "      <td>34</td>\n",
       "      <td>65</td>\n",
       "      <td>1392192000</td>\n",
       "      <td>91</td>\n",
       "    </tr>\n",
       "    <tr>\n",
       "      <th>3</th>\n",
       "      <td>fit</td>\n",
       "      <td>145</td>\n",
       "      <td>10</td>\n",
       "      <td>wedding</td>\n",
       "      <td>I have always been petite in my upper body and...</td>\n",
       "      <td>athletic</td>\n",
       "      <td>Was in love with this dress !!!</td>\n",
       "      <td>12</td>\n",
       "      <td>27</td>\n",
       "      <td>34</td>\n",
       "      <td>69</td>\n",
       "      <td>1474873200</td>\n",
       "      <td>118</td>\n",
       "    </tr>\n",
       "    <tr>\n",
       "      <th>4</th>\n",
       "      <td>fit</td>\n",
       "      <td>138</td>\n",
       "      <td>8</td>\n",
       "      <td>date</td>\n",
       "      <td>Didn't actually wear it. It fit perfectly. The...</td>\n",
       "      <td>athletic</td>\n",
       "      <td>Traditional with a touch a sass</td>\n",
       "      <td>8</td>\n",
       "      <td>45</td>\n",
       "      <td>32</td>\n",
       "      <td>68</td>\n",
       "      <td>1461999600</td>\n",
       "      <td>43</td>\n",
       "    </tr>\n",
       "  </tbody>\n",
       "</table>\n",
       "</div>"
      ],
      "text/plain": [
       "   fit  weight  rating     rented for  \\\n",
       "0  fit     137      10       vacation   \n",
       "1  fit     132      10          other   \n",
       "2  fit     135       8  formal affair   \n",
       "3  fit     145      10        wedding   \n",
       "4  fit     138       8           date   \n",
       "\n",
       "                                         review_text          body type  \\\n",
       "0  An adorable romper! Belt and zipper were a lit...          hourglass   \n",
       "1  I rented this dress for a photo shoot. The the...  straight & narrow   \n",
       "2  I rented this for my company's black tie award...               pear   \n",
       "3  I have always been petite in my upper body and...           athletic   \n",
       "4  Didn't actually wear it. It fit perfectly. The...           athletic   \n",
       "\n",
       "                                     review_summary  size  age  bust_inch  \\\n",
       "0                              So many compliments!    14   28         34   \n",
       "1                           I felt so glamourous!!!    12   36         34   \n",
       "2  Dress arrived on time and in perfect condition.      8   34         34   \n",
       "3                   Was in love with this dress !!!    12   27         34   \n",
       "4                   Traditional with a touch a sass     8   45         32   \n",
       "\n",
       "   hgt          ut  len_review_text  \n",
       "0   68  1461135600               42  \n",
       "1   66  1371538800               45  \n",
       "2   65  1392192000               91  \n",
       "3   69  1474873200              118  \n",
       "4   68  1461999600               43  "
      ]
     },
     "execution_count": 35,
     "metadata": {},
     "output_type": "execute_result"
    }
   ],
   "source": [
    "data.head()"
   ]
  },
  {
   "cell_type": "code",
   "execution_count": 33,
   "id": "ebbd4577",
   "metadata": {},
   "outputs": [
    {
     "data": {
      "text/plain": [
       "fit                     3\n",
       "weight                186\n",
       "rating                  5\n",
       "rented for              8\n",
       "review_text        145297\n",
       "body type               7\n",
       "review_summary     119586\n",
       "size                   56\n",
       "age                    62\n",
       "bust_inch              11\n",
       "hgt                    24\n",
       "ut                   2239\n",
       "len_review_text       395\n",
       "dtype: int64"
      ]
     },
     "execution_count": 33,
     "metadata": {},
     "output_type": "execute_result"
    }
   ],
   "source": [
    "data.nunique(axis = 0)"
   ]
  },
  {
   "cell_type": "code",
   "execution_count": 36,
   "id": "83554adb",
   "metadata": {},
   "outputs": [],
   "source": [
    "y = [d['rating'] for i,d in data.iterrows()]\n",
    "data = data.drop(columns = ['rating'])"
   ]
  },
  {
   "cell_type": "code",
   "execution_count": 37,
   "id": "0d42c8cf",
   "metadata": {},
   "outputs": [],
   "source": [
    "data = pd.get_dummies(data, columns = ['fit','rented for','body type'], drop_first=True)"
   ]
  },
  {
   "cell_type": "code",
   "execution_count": 38,
   "id": "3ad66113",
   "metadata": {},
   "outputs": [
    {
     "data": {
      "text/html": [
       "<div>\n",
       "<style scoped>\n",
       "    .dataframe tbody tr th:only-of-type {\n",
       "        vertical-align: middle;\n",
       "    }\n",
       "\n",
       "    .dataframe tbody tr th {\n",
       "        vertical-align: top;\n",
       "    }\n",
       "\n",
       "    .dataframe thead th {\n",
       "        text-align: right;\n",
       "    }\n",
       "</style>\n",
       "<table border=\"1\" class=\"dataframe\">\n",
       "  <thead>\n",
       "    <tr style=\"text-align: right;\">\n",
       "      <th></th>\n",
       "      <th>weight</th>\n",
       "      <th>review_text</th>\n",
       "      <th>review_summary</th>\n",
       "      <th>size</th>\n",
       "      <th>age</th>\n",
       "      <th>bust_inch</th>\n",
       "      <th>hgt</th>\n",
       "      <th>ut</th>\n",
       "      <th>len_review_text</th>\n",
       "      <th>fit_large</th>\n",
       "      <th>...</th>\n",
       "      <th>rented for_party: cocktail</th>\n",
       "      <th>rented for_vacation</th>\n",
       "      <th>rented for_wedding</th>\n",
       "      <th>rented for_work</th>\n",
       "      <th>body type_athletic</th>\n",
       "      <th>body type_full bust</th>\n",
       "      <th>body type_hourglass</th>\n",
       "      <th>body type_pear</th>\n",
       "      <th>body type_petite</th>\n",
       "      <th>body type_straight &amp; narrow</th>\n",
       "    </tr>\n",
       "  </thead>\n",
       "  <tbody>\n",
       "    <tr>\n",
       "      <th>0</th>\n",
       "      <td>137</td>\n",
       "      <td>An adorable romper! Belt and zipper were a lit...</td>\n",
       "      <td>So many compliments!</td>\n",
       "      <td>14</td>\n",
       "      <td>28</td>\n",
       "      <td>34</td>\n",
       "      <td>68</td>\n",
       "      <td>1461135600</td>\n",
       "      <td>42</td>\n",
       "      <td>0</td>\n",
       "      <td>...</td>\n",
       "      <td>0</td>\n",
       "      <td>1</td>\n",
       "      <td>0</td>\n",
       "      <td>0</td>\n",
       "      <td>0</td>\n",
       "      <td>0</td>\n",
       "      <td>1</td>\n",
       "      <td>0</td>\n",
       "      <td>0</td>\n",
       "      <td>0</td>\n",
       "    </tr>\n",
       "    <tr>\n",
       "      <th>1</th>\n",
       "      <td>132</td>\n",
       "      <td>I rented this dress for a photo shoot. The the...</td>\n",
       "      <td>I felt so glamourous!!!</td>\n",
       "      <td>12</td>\n",
       "      <td>36</td>\n",
       "      <td>34</td>\n",
       "      <td>66</td>\n",
       "      <td>1371538800</td>\n",
       "      <td>45</td>\n",
       "      <td>0</td>\n",
       "      <td>...</td>\n",
       "      <td>0</td>\n",
       "      <td>0</td>\n",
       "      <td>0</td>\n",
       "      <td>0</td>\n",
       "      <td>0</td>\n",
       "      <td>0</td>\n",
       "      <td>0</td>\n",
       "      <td>0</td>\n",
       "      <td>0</td>\n",
       "      <td>1</td>\n",
       "    </tr>\n",
       "    <tr>\n",
       "      <th>2</th>\n",
       "      <td>135</td>\n",
       "      <td>I rented this for my company's black tie award...</td>\n",
       "      <td>Dress arrived on time and in perfect condition.</td>\n",
       "      <td>8</td>\n",
       "      <td>34</td>\n",
       "      <td>34</td>\n",
       "      <td>65</td>\n",
       "      <td>1392192000</td>\n",
       "      <td>91</td>\n",
       "      <td>0</td>\n",
       "      <td>...</td>\n",
       "      <td>0</td>\n",
       "      <td>0</td>\n",
       "      <td>0</td>\n",
       "      <td>0</td>\n",
       "      <td>0</td>\n",
       "      <td>0</td>\n",
       "      <td>0</td>\n",
       "      <td>1</td>\n",
       "      <td>0</td>\n",
       "      <td>0</td>\n",
       "    </tr>\n",
       "    <tr>\n",
       "      <th>3</th>\n",
       "      <td>145</td>\n",
       "      <td>I have always been petite in my upper body and...</td>\n",
       "      <td>Was in love with this dress !!!</td>\n",
       "      <td>12</td>\n",
       "      <td>27</td>\n",
       "      <td>34</td>\n",
       "      <td>69</td>\n",
       "      <td>1474873200</td>\n",
       "      <td>118</td>\n",
       "      <td>0</td>\n",
       "      <td>...</td>\n",
       "      <td>0</td>\n",
       "      <td>0</td>\n",
       "      <td>1</td>\n",
       "      <td>0</td>\n",
       "      <td>1</td>\n",
       "      <td>0</td>\n",
       "      <td>0</td>\n",
       "      <td>0</td>\n",
       "      <td>0</td>\n",
       "      <td>0</td>\n",
       "    </tr>\n",
       "    <tr>\n",
       "      <th>4</th>\n",
       "      <td>138</td>\n",
       "      <td>Didn't actually wear it. It fit perfectly. The...</td>\n",
       "      <td>Traditional with a touch a sass</td>\n",
       "      <td>8</td>\n",
       "      <td>45</td>\n",
       "      <td>32</td>\n",
       "      <td>68</td>\n",
       "      <td>1461999600</td>\n",
       "      <td>43</td>\n",
       "      <td>0</td>\n",
       "      <td>...</td>\n",
       "      <td>0</td>\n",
       "      <td>0</td>\n",
       "      <td>0</td>\n",
       "      <td>0</td>\n",
       "      <td>1</td>\n",
       "      <td>0</td>\n",
       "      <td>0</td>\n",
       "      <td>0</td>\n",
       "      <td>0</td>\n",
       "      <td>0</td>\n",
       "    </tr>\n",
       "  </tbody>\n",
       "</table>\n",
       "<p>5 rows × 25 columns</p>\n",
       "</div>"
      ],
      "text/plain": [
       "   weight                                        review_text  \\\n",
       "0     137  An adorable romper! Belt and zipper were a lit...   \n",
       "1     132  I rented this dress for a photo shoot. The the...   \n",
       "2     135  I rented this for my company's black tie award...   \n",
       "3     145  I have always been petite in my upper body and...   \n",
       "4     138  Didn't actually wear it. It fit perfectly. The...   \n",
       "\n",
       "                                     review_summary  size  age  bust_inch  \\\n",
       "0                              So many compliments!    14   28         34   \n",
       "1                           I felt so glamourous!!!    12   36         34   \n",
       "2  Dress arrived on time and in perfect condition.      8   34         34   \n",
       "3                   Was in love with this dress !!!    12   27         34   \n",
       "4                   Traditional with a touch a sass     8   45         32   \n",
       "\n",
       "   hgt          ut  len_review_text  fit_large  ...  \\\n",
       "0   68  1461135600               42          0  ...   \n",
       "1   66  1371538800               45          0  ...   \n",
       "2   65  1392192000               91          0  ...   \n",
       "3   69  1474873200              118          0  ...   \n",
       "4   68  1461999600               43          0  ...   \n",
       "\n",
       "   rented for_party: cocktail  rented for_vacation  rented for_wedding  \\\n",
       "0                           0                    1                   0   \n",
       "1                           0                    0                   0   \n",
       "2                           0                    0                   0   \n",
       "3                           0                    0                   1   \n",
       "4                           0                    0                   0   \n",
       "\n",
       "   rented for_work  body type_athletic  body type_full bust  \\\n",
       "0                0                   0                    0   \n",
       "1                0                   0                    0   \n",
       "2                0                   0                    0   \n",
       "3                0                   1                    0   \n",
       "4                0                   1                    0   \n",
       "\n",
       "   body type_hourglass  body type_pear  body type_petite  \\\n",
       "0                    1               0                 0   \n",
       "1                    0               0                 0   \n",
       "2                    0               1                 0   \n",
       "3                    0               0                 0   \n",
       "4                    0               0                 0   \n",
       "\n",
       "   body type_straight & narrow  \n",
       "0                            0  \n",
       "1                            1  \n",
       "2                            0  \n",
       "3                            0  \n",
       "4                            0  \n",
       "\n",
       "[5 rows x 25 columns]"
      ]
     },
     "execution_count": 38,
     "metadata": {},
     "output_type": "execute_result"
    }
   ],
   "source": [
    "data.head()"
   ]
  },
  {
   "cell_type": "code",
   "execution_count": 39,
   "id": "59b1640c",
   "metadata": {},
   "outputs": [],
   "source": [
    "data = data.reset_index(drop = True)"
   ]
  },
  {
   "cell_type": "code",
   "execution_count": 40,
   "id": "d4eb9965",
   "metadata": {},
   "outputs": [],
   "source": [
    "# features for unigrams\n",
    "\n",
    "data[\"text\"] = data[\"review_summary\"] + ' ' + data['review_text']\n",
    "\n",
    "def preprocess_df(df):\n",
    "    # get English stopwords\n",
    "    en = spacy.load('en_core_web_sm')\n",
    "    sw_spacy = en.Defaults.stop_words\n",
    "    stop_words = set(sw_spacy)\n",
    "    translator = str.maketrans(string.punctuation, ' ' * len(string.punctuation))\n",
    "    preprocessed_sentences = []\n",
    "    for i, row in df.iterrows():\n",
    "        sent = row[\"text\"].lower()\n",
    "        sent_nopuncts = sent.translate(translator)\n",
    "        words_list = sent_nopuncts.strip().split()\n",
    "        filtered_words = [word for word in words_list if word not in stop_words and len(word) != 1] # also skip space from above translation\n",
    "        preprocessed_sentences.append(\" \".join(filtered_words))\n",
    "    df[\"text\"] = preprocessed_sentences\n",
    "    return df\n",
    "\n",
    "def build_vocab(sentences):\n",
    "    word_counts = Counter(itertools.chain(*sentences))\n",
    "    vocabulary_inv = [x[0] for x in word_counts.most_common()]\n",
    "    vocabulary = {x: i for i, x in enumerate(vocabulary_inv)}\n",
    "    return word_counts, vocabulary, vocabulary_inv\n",
    "\n",
    "def feature(d):\n",
    "    feat = [0]*len(words)\n",
    "    r = ''.join([c for c in d['text'].lower() if not c in punctuation])\n",
    "    for w in r.split():\n",
    "        if w in words:\n",
    "            feat[wordId[w]] += 1\n",
    "    #feat.append(1)\n",
    "    return feat"
   ]
  },
  {
   "cell_type": "code",
   "execution_count": 42,
   "id": "bac488b5",
   "metadata": {},
   "outputs": [],
   "source": [
    "df_pre = preprocess_df(data)"
   ]
  },
  {
   "cell_type": "code",
   "execution_count": 45,
   "id": "1a5988ae",
   "metadata": {},
   "outputs": [],
   "source": [
    "tagged_data = [word_tokenize(_d) for i, _d in enumerate(df_pre[\"text\"])]\n",
    "word_counts, vocabulary, vocabulary_inv = build_vocab(tagged_data)\n",
    "inp_data = [[vocabulary[word] for word in text] for text in tagged_data]"
   ]
  },
  {
   "cell_type": "code",
   "execution_count": 56,
   "id": "96883253",
   "metadata": {
    "collapsed": true,
    "jupyter": {
     "outputs_hidden": true
    }
   },
   "outputs": [
    {
     "data": {
      "text/plain": [
       "[['adorable',\n",
       "  'romper',\n",
       "  'belt',\n",
       "  'zipper',\n",
       "  'little',\n",
       "  'hard',\n",
       "  'navigate',\n",
       "  'day',\n",
       "  'wear',\n",
       "  'bathroom',\n",
       "  'use',\n",
       "  'expected',\n",
       "  'wish',\n",
       "  'pockets',\n",
       "  'absolutely',\n",
       "  'perfect',\n",
       "  'got',\n",
       "  'million',\n",
       "  'compliments',\n",
       "  'compliments'],\n",
       " ['rented',\n",
       "  'dress',\n",
       "  'photo',\n",
       "  'shoot',\n",
       "  'theme',\n",
       "  'hollywood',\n",
       "  'glam',\n",
       "  'big',\n",
       "  'beautiful',\n",
       "  'hats',\n",
       "  'dress',\n",
       "  'comfortable',\n",
       "  'easy',\n",
       "  'definitely',\n",
       "  'list',\n",
       "  'rent',\n",
       "  'formal',\n",
       "  'event',\n",
       "  'felt',\n",
       "  'glamourous'],\n",
       " ['rented',\n",
       "  'company',\n",
       "  'black',\n",
       "  'tie',\n",
       "  'awards',\n",
       "  'banquet',\n",
       "  'liked',\n",
       "  'dress',\n",
       "  'short',\n",
       "  'little',\n",
       "  'fancier',\n",
       "  'sequins',\n",
       "  'generally',\n",
       "  'don',\n",
       "  'care',\n",
       "  'long',\n",
       "  'dresses',\n",
       "  'describe',\n",
       "  'color',\n",
       "  'rose',\n",
       "  'gold',\n",
       "  'yellow',\n",
       "  'gold',\n",
       "  'blonde',\n",
       "  'hair',\n",
       "  'fair',\n",
       "  'skin',\n",
       "  'color',\n",
       "  'flattering',\n",
       "  'forgiving',\n",
       "  'dress',\n",
       "  'form',\n",
       "  'fitting',\n",
       "  'making',\n",
       "  'feel',\n",
       "  'like',\n",
       "  'squeezed',\n",
       "  'rent',\n",
       "  'highly',\n",
       "  'recommend',\n",
       "  'dress',\n",
       "  'arrived',\n",
       "  'time',\n",
       "  'perfect',\n",
       "  'condition'],\n",
       " ['petite',\n",
       "  'upper',\n",
       "  'body',\n",
       "  'extremely',\n",
       "  'athletic',\n",
       "  'typically',\n",
       "  'size',\n",
       "  'fact',\n",
       "  'smaller',\n",
       "  'upper',\n",
       "  'frame',\n",
       "  '34b',\n",
       "  'cup',\n",
       "  'depends',\n",
       "  'fabric',\n",
       "  'talking',\n",
       "  'lifting',\n",
       "  'weights',\n",
       "  'grown',\n",
       "  'odd',\n",
       "  'add',\n",
       "  'figured',\n",
       "  'knowing',\n",
       "  'people',\n",
       "  'lift',\n",
       "  'weights',\n",
       "  'lat',\n",
       "  'area',\n",
       "  'wide',\n",
       "  'suffocating',\n",
       "  'size',\n",
       "  'wasn',\n",
       "  'muscular',\n",
       "  've',\n",
       "  'fine',\n",
       "  'recommend',\n",
       "  'size',\n",
       "  'lifting',\n",
       "  'weights',\n",
       "  'broad',\n",
       "  'upper',\n",
       "  'body',\n",
       "  'love',\n",
       "  'dress'],\n",
       " ['didn',\n",
       "  'actually',\n",
       "  'wear',\n",
       "  'fit',\n",
       "  'perfectly',\n",
       "  'fabric',\n",
       "  'little',\n",
       "  'thicker',\n",
       "  'higher',\n",
       "  'quality',\n",
       "  'felt',\n",
       "  'bit',\n",
       "  'conservative',\n",
       "  'taste',\n",
       "  'rented',\n",
       "  'color',\n",
       "  'loved',\n",
       "  'berry',\n",
       "  'shade',\n",
       "  'red',\n",
       "  'traditional',\n",
       "  'touch',\n",
       "  'sass'],\n",
       " [1,\n",
       "  137,\n",
       "  14,\n",
       "  28,\n",
       "  34,\n",
       "  68,\n",
       "  1461135600,\n",
       "  42,\n",
       "  0,\n",
       "  0,\n",
       "  0,\n",
       "  0,\n",
       "  0,\n",
       "  0,\n",
       "  0,\n",
       "  1,\n",
       "  0,\n",
       "  0,\n",
       "  0,\n",
       "  0,\n",
       "  1,\n",
       "  0,\n",
       "  0,\n",
       "  0,\n",
       "  'adorable romper belt zipper little hard navigate day wear bathroom use expected wish pockets absolutely perfect got million compliments compliments'],\n",
       " [1,\n",
       "  132,\n",
       "  12,\n",
       "  36,\n",
       "  34,\n",
       "  66,\n",
       "  1371538800,\n",
       "  45,\n",
       "  0,\n",
       "  0,\n",
       "  0,\n",
       "  0,\n",
       "  1,\n",
       "  0,\n",
       "  0,\n",
       "  0,\n",
       "  0,\n",
       "  0,\n",
       "  0,\n",
       "  0,\n",
       "  0,\n",
       "  0,\n",
       "  0,\n",
       "  1,\n",
       "  'rented dress photo shoot theme hollywood glam big beautiful hats dress comfortable easy definitely list rent formal event felt glamourous'],\n",
       " [1,\n",
       "  135,\n",
       "  8,\n",
       "  34,\n",
       "  34,\n",
       "  65,\n",
       "  1392192000,\n",
       "  91,\n",
       "  0,\n",
       "  0,\n",
       "  0,\n",
       "  1,\n",
       "  0,\n",
       "  0,\n",
       "  0,\n",
       "  0,\n",
       "  0,\n",
       "  0,\n",
       "  0,\n",
       "  0,\n",
       "  0,\n",
       "  1,\n",
       "  0,\n",
       "  0,\n",
       "  'rented company black tie awards banquet liked dress short little fancier sequins generally don care long dresses describe color rose gold yellow gold blonde hair fair skin color flattering forgiving dress form fitting making feel like squeezed rent highly recommend dress arrived time perfect condition'],\n",
       " [1,\n",
       "  145,\n",
       "  12,\n",
       "  27,\n",
       "  34,\n",
       "  69,\n",
       "  1474873200,\n",
       "  118,\n",
       "  0,\n",
       "  0,\n",
       "  0,\n",
       "  0,\n",
       "  0,\n",
       "  0,\n",
       "  0,\n",
       "  0,\n",
       "  1,\n",
       "  0,\n",
       "  1,\n",
       "  0,\n",
       "  0,\n",
       "  0,\n",
       "  0,\n",
       "  0,\n",
       "  'petite upper body extremely athletic typically size fact smaller upper frame 34b cup depends fabric talking lifting weights grown odd add figured knowing people lift weights lat area wide suffocating size wasn muscular ve fine recommend size lifting weights broad upper body love dress'],\n",
       " [1,\n",
       "  138,\n",
       "  8,\n",
       "  45,\n",
       "  32,\n",
       "  68,\n",
       "  1461999600,\n",
       "  43,\n",
       "  0,\n",
       "  0,\n",
       "  0,\n",
       "  0,\n",
       "  0,\n",
       "  0,\n",
       "  0,\n",
       "  0,\n",
       "  0,\n",
       "  0,\n",
       "  1,\n",
       "  0,\n",
       "  0,\n",
       "  0,\n",
       "  0,\n",
       "  0,\n",
       "  'didn actually wear fit perfectly fabric little thicker higher quality felt bit conservative taste rented color loved berry shade red traditional touch sass']]"
      ]
     },
     "execution_count": 56,
     "metadata": {},
     "output_type": "execute_result"
    }
   ],
   "source": [
    "tagged_data[:5] + [feature_1(d) for i,d in df_pre.iterrows()][:5]"
   ]
  },
  {
   "cell_type": "code",
   "execution_count": 54,
   "id": "fadb11f2",
   "metadata": {},
   "outputs": [
    {
     "data": {
      "text/plain": [
       "(146253, 26)"
      ]
     },
     "execution_count": 54,
     "metadata": {},
     "output_type": "execute_result"
    }
   ],
   "source": [
    "df_pre.shape"
   ]
  },
  {
   "cell_type": "code",
   "execution_count": 49,
   "id": "a31fc46e",
   "metadata": {},
   "outputs": [
    {
     "data": {
      "text/plain": [
       "'review_summary'"
      ]
     },
     "execution_count": 49,
     "metadata": {},
     "output_type": "execute_result"
    }
   ],
   "source": [
    "col_list = df_pre.columns.tolist()\n",
    "col_list.pop(1)\n",
    "col_list.pop(1)\n",
    "col_list"
   ]
  },
  {
   "cell_type": "code",
   "execution_count": 57,
   "id": "b1a37934",
   "metadata": {},
   "outputs": [
    {
     "data": {
      "text/plain": [
       "['weight',\n",
       " 'size',\n",
       " 'age',\n",
       " 'bust_inch',\n",
       " 'hgt',\n",
       " 'ut',\n",
       " 'len_review_text',\n",
       " 'fit_large',\n",
       " 'fit_small',\n",
       " 'rented for_everyday',\n",
       " 'rented for_formal affair',\n",
       " 'rented for_other',\n",
       " 'rented for_party',\n",
       " 'rented for_party: cocktail',\n",
       " 'rented for_vacation',\n",
       " 'rented for_wedding',\n",
       " 'rented for_work',\n",
       " 'body type_athletic',\n",
       " 'body type_full bust',\n",
       " 'body type_hourglass',\n",
       " 'body type_pear',\n",
       " 'body type_petite',\n",
       " 'body type_straight & narrow',\n",
       " 'text']"
      ]
     },
     "execution_count": 57,
     "metadata": {},
     "output_type": "execute_result"
    }
   ],
   "source": [
    "col_list"
   ]
  },
  {
   "cell_type": "code",
   "execution_count": 50,
   "id": "478d164b",
   "metadata": {},
   "outputs": [],
   "source": [
    "# other features\n",
    "\n",
    "def feature_1(d):\n",
    "    feat = [1]\n",
    "    for col in col_list:\n",
    "        feat.append(d[col])\n",
    "    return feat"
   ]
  },
  {
   "cell_type": "code",
   "execution_count": 35,
   "id": "86cf47ac",
   "metadata": {},
   "outputs": [],
   "source": [
    "X = [feature(d) + feature_1(d) for i,d in df_pre.iterrows()]\n",
    "X = data.drop(columns = ['rating'])\n",
    "y = data['rating']"
   ]
  },
  {
   "cell_type": "code",
   "execution_count": 36,
   "id": "8236975d",
   "metadata": {},
   "outputs": [
    {
     "data": {
      "text/plain": [
       "(143759, 24)"
      ]
     },
     "execution_count": 36,
     "metadata": {},
     "output_type": "execute_result"
    }
   ],
   "source": [
    "data.shape"
   ]
  },
  {
   "cell_type": "code",
   "execution_count": 37,
   "id": "456920fa",
   "metadata": {},
   "outputs": [],
   "source": [
    "X_train = X[:120000]\n",
    "X_test = X[120000:]\n",
    "y_train = y[:120000]\n",
    "y_test = y[120000:]"
   ]
  },
  {
   "cell_type": "code",
   "execution_count": 38,
   "id": "378768d4",
   "metadata": {},
   "outputs": [
    {
     "data": {
      "text/plain": [
       "RandomForestRegressor()"
      ]
     },
     "execution_count": 38,
     "metadata": {},
     "output_type": "execute_result"
    }
   ],
   "source": [
    "clf = RandomForestRegressor()\n",
    "clf.fit(X_train, y_train)"
   ]
  },
  {
   "cell_type": "code",
   "execution_count": 39,
   "id": "02ea8191",
   "metadata": {},
   "outputs": [],
   "source": [
    "y_pred = clf.predict(X_test)"
   ]
  },
  {
   "cell_type": "code",
   "execution_count": 40,
   "id": "2227851d",
   "metadata": {},
   "outputs": [
    {
     "data": {
      "text/plain": [
       "1.9827776848101217"
      ]
     },
     "execution_count": 40,
     "metadata": {},
     "output_type": "execute_result"
    }
   ],
   "source": [
    "mean_squared_error(y_pred,y_test)"
   ]
  },
  {
   "cell_type": "code",
   "execution_count": 43,
   "id": "b51336c7",
   "metadata": {},
   "outputs": [
    {
     "data": {
      "text/plain": [
       "[('weight', 0.11118574756442247),\n",
       " ('size', 0.06599127651746317),\n",
       " ('age', 0.11848201327768701),\n",
       " ('bust_inch', 0.03629591598578696),\n",
       " ('hgt', 0.08826761746797686),\n",
       " ('ut', 0.2156451801785871),\n",
       " ('len_review_text', 0.16812288150626506),\n",
       " ('fit_large', 0.032471949055459096),\n",
       " ('fit_small', 0.03273718361982273),\n",
       " ('rented for_everyday', 0.007948023185531465),\n",
       " ('rented for_formal affair', 0.008222085844031174),\n",
       " ('rented for_other', 0.008354909172233953),\n",
       " ('rented for_party', 0.011229455454163532),\n",
       " ('rented for_party: cocktail', 0.0),\n",
       " ('rented for_vacation', 0.0051118825408305755),\n",
       " ('rented for_wedding', 0.009371712485786556),\n",
       " ('rented for_work', 0.006514458965402614),\n",
       " ('body type_athletic', 0.015942910455135774),\n",
       " ('body type_full bust', 0.010122267511056186),\n",
       " ('body type_hourglass', 0.01695747397393104),\n",
       " ('body type_pear', 0.013062901243081904),\n",
       " ('body type_petite', 0.008684546204970951),\n",
       " ('body type_straight & narrow', 0.009277607790374029)]"
      ]
     },
     "execution_count": 43,
     "metadata": {},
     "output_type": "execute_result"
    }
   ],
   "source": [
    "list(zip(X.columns, clf.feature_importances_))"
   ]
  },
  {
   "cell_type": "code",
   "execution_count": 41,
   "id": "6d62204d",
   "metadata": {},
   "outputs": [
    {
     "data": {
      "text/plain": [
       "RandomForestClassifier(class_weight='balanced')"
      ]
     },
     "execution_count": 41,
     "metadata": {},
     "output_type": "execute_result"
    }
   ],
   "source": [
    "cl = RandomForestClassifier(class_weight = 'balanced')\n",
    "cl.fit(X_train, y_train)"
   ]
  },
  {
   "cell_type": "code",
   "execution_count": 42,
   "id": "644b0a6d",
   "metadata": {},
   "outputs": [
    {
     "name": "stdout",
     "output_type": "stream",
     "text": [
      "              precision    recall  f1-score   support\n",
      "\n",
      "           2       0.00      0.00      0.00         3\n",
      "           4       0.02      0.27      0.03        22\n",
      "           6       0.02      0.26      0.04       117\n",
      "           8       0.14      0.39      0.20      2310\n",
      "          10       0.93      0.67      0.78     21307\n",
      "\n",
      "    accuracy                           0.64     23759\n",
      "   macro avg       0.22      0.32      0.21     23759\n",
      "weighted avg       0.85      0.64      0.72     23759\n",
      "\n"
     ]
    }
   ],
   "source": [
    "print(classification_report(cl.predict(X_test),y_test))"
   ]
  },
  {
   "cell_type": "code",
   "execution_count": 44,
   "id": "7146afbe",
   "metadata": {},
   "outputs": [
    {
     "data": {
      "text/plain": [
       "[('weight', 0.11984827038235343),\n",
       " ('size', 0.08277474588044925),\n",
       " ('age', 0.12667052475928545),\n",
       " ('bust_inch', 0.04566539958841053),\n",
       " ('hgt', 0.09866054062704861),\n",
       " ('ut', 0.1808141772818105),\n",
       " ('len_review_text', 0.1648373592539944),\n",
       " ('fit_large', 0.019038995545664503),\n",
       " ('fit_small', 0.024687172381355083),\n",
       " ('rented for_everyday', 0.008307380345308906),\n",
       " ('rented for_formal affair', 0.010740719968236067),\n",
       " ('rented for_other', 0.00902490927031238),\n",
       " ('rented for_party', 0.012764321968634751),\n",
       " ('rented for_party: cocktail', 0.0),\n",
       " ('rented for_vacation', 0.004769145787839589),\n",
       " ('rented for_wedding', 0.011024439650428881),\n",
       " ('rented for_work', 0.007710519718977971),\n",
       " ('body type_athletic', 0.015574688929580669),\n",
       " ('body type_full bust', 0.009324178004238829),\n",
       " ('body type_hourglass', 0.017346181928069793),\n",
       " ('body type_pear', 0.011927171085876036),\n",
       " ('body type_petite', 0.009344807167176965),\n",
       " ('body type_straight & narrow', 0.009144350474947277)]"
      ]
     },
     "execution_count": 44,
     "metadata": {},
     "output_type": "execute_result"
    }
   ],
   "source": [
    "list(zip(X.columns, cl.feature_importances_))"
   ]
  },
  {
   "cell_type": "code",
   "execution_count": 46,
   "id": "39635992",
   "metadata": {},
   "outputs": [
    {
     "data": {
      "text/plain": [
       "XGBRegressor(base_score=0.5, booster='gbtree', colsample_bylevel=1,\n",
       "             colsample_bynode=1, colsample_bytree=1, gamma=0, gpu_id=-1,\n",
       "             importance_type='gain', interaction_constraints='',\n",
       "             learning_rate=0.300000012, max_delta_step=0, max_depth=6,\n",
       "             min_child_weight=1, missing=nan, monotone_constraints='()',\n",
       "             n_estimators=100, n_jobs=12, num_parallel_tree=1, random_state=0,\n",
       "             reg_alpha=0, reg_lambda=1, scale_pos_weight=1, subsample=1,\n",
       "             tree_method='exact', validate_parameters=1, verbosity=None)"
      ]
     },
     "execution_count": 46,
     "metadata": {},
     "output_type": "execute_result"
    }
   ],
   "source": [
    "xg = XGBRegressor()\n",
    "xg.fit(X_train,y_train)"
   ]
  },
  {
   "cell_type": "code",
   "execution_count": 47,
   "id": "0950e298",
   "metadata": {},
   "outputs": [
    {
     "name": "stderr",
     "output_type": "stream",
     "text": [
      "/usr/local/lib/python3.8/dist-packages/xgboost/data.py:112: UserWarning: Use subset (sliced data) of np.ndarray is not recommended because it will generate extra copies and increase memory consumption\n",
      "  warnings.warn(\n"
     ]
    }
   ],
   "source": [
    "pred = xg.predict(X_test)"
   ]
  },
  {
   "cell_type": "code",
   "execution_count": 48,
   "id": "744fa4ec",
   "metadata": {},
   "outputs": [
    {
     "data": {
      "text/plain": [
       "1.8975495267350957"
      ]
     },
     "execution_count": 48,
     "metadata": {},
     "output_type": "execute_result"
    }
   ],
   "source": [
    "mean_squared_error(pred,y_test)"
   ]
  },
  {
   "cell_type": "code",
   "execution_count": 50,
   "id": "70725c49",
   "metadata": {},
   "outputs": [
    {
     "data": {
      "text/plain": [
       "[('weight', 0.02549891),\n",
       " ('size', 0.024641842),\n",
       " ('age', 0.022188278),\n",
       " ('bust_inch', 0.017365094),\n",
       " ('hgt', 0.019741058),\n",
       " ('ut', 0.027036443),\n",
       " ('len_review_text', 0.023490326),\n",
       " ('fit_large', 0.20723152),\n",
       " ('fit_small', 0.20755033),\n",
       " ('rented for_everyday', 0.07864257),\n",
       " ('rented for_formal affair', 0.033898357),\n",
       " ('rented for_other', 0.017306136),\n",
       " ('rented for_party', 0.021154065),\n",
       " ('rented for_party: cocktail', 0.0),\n",
       " ('rented for_vacation', 0.022167934),\n",
       " ('rented for_wedding', 0.052300196),\n",
       " ('rented for_work', 0.076209955),\n",
       " ('body type_athletic', 0.016624661),\n",
       " ('body type_full bust', 0.024591554),\n",
       " ('body type_hourglass', 0.017142428),\n",
       " ('body type_pear', 0.02021146),\n",
       " ('body type_petite', 0.025224159),\n",
       " ('body type_straight & narrow', 0.019782672)]"
      ]
     },
     "execution_count": 50,
     "metadata": {},
     "output_type": "execute_result"
    }
   ],
   "source": [
    "list(zip(X.columns, xg.feature_importances_))"
   ]
  },
  {
   "cell_type": "code",
   "execution_count": 51,
   "id": "6a95a73d",
   "metadata": {},
   "outputs": [
    {
     "name": "stderr",
     "output_type": "stream",
     "text": [
      "/usr/local/lib/python3.8/dist-packages/xgboost/sklearn.py:1146: UserWarning: The use of label encoder in XGBClassifier is deprecated and will be removed in a future release. To remove this warning, do the following: 1) Pass option use_label_encoder=False when constructing XGBClassifier object; and 2) Encode your labels (y) as integers starting with 0, i.e. 0, 1, 2, ..., [num_class - 1].\n",
      "  warnings.warn(label_encoder_deprecation_msg, UserWarning)\n"
     ]
    },
    {
     "name": "stdout",
     "output_type": "stream",
     "text": [
      "[19:07:48] WARNING: ../src/learner.cc:573: \n",
      "Parameters: { \"class_weight\" } might not be used.\n",
      "\n",
      "  This may not be accurate due to some parameters are only used in language bindings but\n",
      "  passed down to XGBoost core.  Or some parameters are not used but slip through this\n",
      "  verification. Please open an issue if you find above cases.\n",
      "\n",
      "\n",
      "[19:07:48] WARNING: ../src/learner.cc:1095: Starting in XGBoost 1.3.0, the default evaluation metric used with the objective 'multi:softprob' was changed from 'merror' to 'mlogloss'. Explicitly set eval_metric if you'd like to restore the old behavior.\n"
     ]
    },
    {
     "data": {
      "text/plain": [
       "XGBClassifier(base_score=0.5, booster='gbtree', class_weight='balanced',\n",
       "              colsample_bylevel=1, colsample_bynode=1, colsample_bytree=1,\n",
       "              gamma=0, gpu_id=-1, importance_type='gain',\n",
       "              interaction_constraints='', learning_rate=0.300000012,\n",
       "              max_delta_step=0, max_depth=6, min_child_weight=1, missing=nan,\n",
       "              monotone_constraints='()', n_estimators=100, n_jobs=12,\n",
       "              num_parallel_tree=1, objective='multi:softprob', random_state=0,\n",
       "              reg_alpha=0, reg_lambda=1, scale_pos_weight=None, subsample=1,\n",
       "              tree_method='exact', validate_parameters=1, verbosity=None)"
      ]
     },
     "execution_count": 51,
     "metadata": {},
     "output_type": "execute_result"
    }
   ],
   "source": [
    "xgc = XGBClassifier(class_weight = 'balanced')\n",
    "xgc.fit(X_train,y_train)"
   ]
  },
  {
   "cell_type": "code",
   "execution_count": 52,
   "id": "d506a1c9",
   "metadata": {},
   "outputs": [
    {
     "name": "stdout",
     "output_type": "stream",
     "text": [
      "              precision    recall  f1-score   support\n",
      "\n",
      "           2       0.00      0.00      0.00         5\n",
      "           4       0.01      0.20      0.02        15\n",
      "           6       0.02      0.37      0.04        87\n",
      "           8       0.12      0.41      0.18      1880\n",
      "          10       0.95      0.67      0.78     21772\n",
      "\n",
      "    accuracy                           0.65     23759\n",
      "   macro avg       0.22      0.33      0.20     23759\n",
      "weighted avg       0.88      0.65      0.73     23759\n",
      "\n"
     ]
    },
    {
     "name": "stderr",
     "output_type": "stream",
     "text": [
      "/usr/local/lib/python3.8/dist-packages/xgboost/data.py:112: UserWarning: Use subset (sliced data) of np.ndarray is not recommended because it will generate extra copies and increase memory consumption\n",
      "  warnings.warn(\n"
     ]
    }
   ],
   "source": [
    "print(classification_report(xgc.predict(X_test),y_test))"
   ]
  },
  {
   "cell_type": "code",
   "execution_count": null,
   "id": "2e92f880",
   "metadata": {},
   "outputs": [],
   "source": []
  }
 ],
 "metadata": {
  "kernelspec": {
   "display_name": "Python 3 (ipykernel)",
   "language": "python",
   "name": "python3"
  },
  "language_info": {
   "codemirror_mode": {
    "name": "ipython",
    "version": 3
   },
   "file_extension": ".py",
   "mimetype": "text/x-python",
   "name": "python",
   "nbconvert_exporter": "python",
   "pygments_lexer": "ipython3",
   "version": "3.9.10"
  }
 },
 "nbformat": 4,
 "nbformat_minor": 5
}
