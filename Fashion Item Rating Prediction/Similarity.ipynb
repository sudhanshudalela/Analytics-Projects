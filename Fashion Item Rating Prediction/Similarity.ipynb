{
 "cells": [
  {
   "cell_type": "code",
   "execution_count": 64,
   "metadata": {
    "executionInfo": {
     "elapsed": 4,
     "status": "ok",
     "timestamp": 1638415299740,
     "user": {
      "displayName": "Saksham Rana",
      "photoUrl": "https://lh3.googleusercontent.com/a-/AOh14GhDAhIr-VXm3l13_OGqgc6mtnFxapqkbcpsEy7GZw=s64",
      "userId": "11476776675987548379"
     },
     "user_tz": 480
    },
    "id": "HVeJIVXzqnq-"
   },
   "outputs": [],
   "source": [
    "# Data Extraction\n",
    "import gzip\n",
    "import json\n",
    "\n",
    "# Utility\n",
    "import pandas as pd\n",
    "import numpy as np\n",
    "\n",
    "# Machine Learning\n",
    "from sklearn.linear_model import LogisticRegression\n",
    "from sklearn.model_selection import train_test_split\n",
    "from sklearn.metrics import classification_report, confusion_matrix\n",
    "from sklearn.naive_bayes import GaussianNB\n",
    "\n",
    "# Dictionary\n",
    "from collections import defaultdict\n",
    "\n",
    "# Plots\n",
    "import matplotlib.pyplot as plt\n",
    "import seaborn as sns\n",
    "\n",
    "# Date Time\n",
    "from datetime import datetime\n",
    "import time\n",
    "\n",
    "import math"
   ]
  },
  {
   "cell_type": "code",
   "execution_count": 2,
   "metadata": {
    "colab": {
     "base_uri": "https://localhost:8080/"
    },
    "executionInfo": {
     "elapsed": 38071,
     "status": "ok",
     "timestamp": 1638409416863,
     "user": {
      "displayName": "Saksham Rana",
      "photoUrl": "https://lh3.googleusercontent.com/a-/AOh14GhDAhIr-VXm3l13_OGqgc6mtnFxapqkbcpsEy7GZw=s64",
      "userId": "11476776675987548379"
     },
     "user_tz": 480
    },
    "id": "K4vcZyNKnc0F",
    "outputId": "a2c6f427-8465-4d08-b2aa-3b8c8b6aca1c"
   },
   "outputs": [
    {
     "name": "stdout",
     "output_type": "stream",
     "text": [
      "Mounted at /content/drive\n"
     ]
    }
   ],
   "source": [
    "from google.colab import drive\n",
    "drive.mount('/content/drive')"
   ]
  },
  {
   "cell_type": "code",
   "execution_count": 3,
   "metadata": {
    "executionInfo": {
     "elapsed": 7,
     "status": "ok",
     "timestamp": 1638409416863,
     "user": {
      "displayName": "Saksham Rana",
      "photoUrl": "https://lh3.googleusercontent.com/a-/AOh14GhDAhIr-VXm3l13_OGqgc6mtnFxapqkbcpsEy7GZw=s64",
      "userId": "11476776675987548379"
     },
     "user_tz": 480
    },
    "id": "qqsafu9PpB6a"
   },
   "outputs": [],
   "source": [
    "path = '/content/drive/MyDrive/Colab Notebooks/Reco Final Project/renttherunway_final_data.json.gz'\n",
    "# path_mod_cloth = "
   ]
  },
  {
   "cell_type": "code",
   "execution_count": 4,
   "metadata": {
    "executionInfo": {
     "elapsed": 4204,
     "status": "ok",
     "timestamp": 1638409421062,
     "user": {
      "displayName": "Saksham Rana",
      "photoUrl": "https://lh3.googleusercontent.com/a-/AOh14GhDAhIr-VXm3l13_OGqgc6mtnFxapqkbcpsEy7GZw=s64",
      "userId": "11476776675987548379"
     },
     "user_tz": 480
    },
    "id": "KpFXWiQHqGlS"
   },
   "outputs": [],
   "source": [
    "data2 = []\n",
    "with gzip.open(path) as file:\n",
    "    for line in file:\n",
    "        row_data = json.loads(line)\n",
    "        data2.append(row_data) "
   ]
  },
  {
   "cell_type": "code",
   "execution_count": 5,
   "metadata": {
    "colab": {
     "base_uri": "https://localhost:8080/"
    },
    "executionInfo": {
     "elapsed": 12,
     "status": "ok",
     "timestamp": 1638409421063,
     "user": {
      "displayName": "Saksham Rana",
      "photoUrl": "https://lh3.googleusercontent.com/a-/AOh14GhDAhIr-VXm3l13_OGqgc6mtnFxapqkbcpsEy7GZw=s64",
      "userId": "11476776675987548379"
     },
     "user_tz": 480
    },
    "id": "gUqhp80Is4i6",
    "outputId": "527b2dce-0fa3-46ce-c8d9-f5ec60f4a634"
   },
   "outputs": [
    {
     "data": {
      "text/plain": [
       "{'age': '27',\n",
       " 'body type': 'athletic',\n",
       " 'bust size': '34b',\n",
       " 'category': 'gown',\n",
       " 'fit': 'fit',\n",
       " 'height': '5\\' 9\"',\n",
       " 'item_id': '616682',\n",
       " 'rating': '10',\n",
       " 'rented for': 'wedding',\n",
       " 'review_date': 'September 26, 2016',\n",
       " 'review_summary': 'Was in love with this dress !!!',\n",
       " 'review_text': \"I have always been petite in my upper body and extremely athletic. \\nI'm 5'9 and typically am a size 4,6,8 due to the fact I had a smaller upper frame and 34B cup. Depends what fabric were talking about too! \\nHowever, because I have been lifting weights my back has grown (odd to add- but figured I'd say it knowing other people lift weights) My lat area is so wide that I was suffocating in a size 6. If I wasn't as muscular in my back I would've been fine. I would recommend to go up a size if you are into lifting weights and very broad in your upper body. \",\n",
       " 'size': 12,\n",
       " 'user_id': '151944',\n",
       " 'weight': '145lbs'}"
      ]
     },
     "execution_count": 5,
     "metadata": {},
     "output_type": "execute_result"
    }
   ],
   "source": [
    "data2[4]"
   ]
  },
  {
   "cell_type": "code",
   "execution_count": 6,
   "metadata": {
    "colab": {
     "base_uri": "https://localhost:8080/",
     "height": 310
    },
    "executionInfo": {
     "elapsed": 1318,
     "status": "ok",
     "timestamp": 1638409422375,
     "user": {
      "displayName": "Saksham Rana",
      "photoUrl": "https://lh3.googleusercontent.com/a-/AOh14GhDAhIr-VXm3l13_OGqgc6mtnFxapqkbcpsEy7GZw=s64",
      "userId": "11476776675987548379"
     },
     "user_tz": 480
    },
    "id": "rf9jZ1Sitn26",
    "outputId": "3fd851d3-aa21-4adc-f719-d922e1dbe251"
   },
   "outputs": [
    {
     "data": {
      "text/html": [
       "<div>\n",
       "<style scoped>\n",
       "    .dataframe tbody tr th:only-of-type {\n",
       "        vertical-align: middle;\n",
       "    }\n",
       "\n",
       "    .dataframe tbody tr th {\n",
       "        vertical-align: top;\n",
       "    }\n",
       "\n",
       "    .dataframe thead th {\n",
       "        text-align: right;\n",
       "    }\n",
       "</style>\n",
       "<table border=\"1\" class=\"dataframe\">\n",
       "  <thead>\n",
       "    <tr style=\"text-align: right;\">\n",
       "      <th></th>\n",
       "      <th>fit</th>\n",
       "      <th>user_id</th>\n",
       "      <th>bust size</th>\n",
       "      <th>item_id</th>\n",
       "      <th>weight</th>\n",
       "      <th>rating</th>\n",
       "      <th>rented for</th>\n",
       "      <th>review_text</th>\n",
       "      <th>body type</th>\n",
       "      <th>review_summary</th>\n",
       "      <th>category</th>\n",
       "      <th>height</th>\n",
       "      <th>size</th>\n",
       "      <th>age</th>\n",
       "      <th>review_date</th>\n",
       "    </tr>\n",
       "  </thead>\n",
       "  <tbody>\n",
       "    <tr>\n",
       "      <th>0</th>\n",
       "      <td>fit</td>\n",
       "      <td>420272</td>\n",
       "      <td>34d</td>\n",
       "      <td>2260466</td>\n",
       "      <td>137lbs</td>\n",
       "      <td>10</td>\n",
       "      <td>vacation</td>\n",
       "      <td>An adorable romper! Belt and zipper were a lit...</td>\n",
       "      <td>hourglass</td>\n",
       "      <td>So many compliments!</td>\n",
       "      <td>romper</td>\n",
       "      <td>5' 8\"</td>\n",
       "      <td>14</td>\n",
       "      <td>28</td>\n",
       "      <td>April 20, 2016</td>\n",
       "    </tr>\n",
       "    <tr>\n",
       "      <th>1</th>\n",
       "      <td>fit</td>\n",
       "      <td>273551</td>\n",
       "      <td>34b</td>\n",
       "      <td>153475</td>\n",
       "      <td>132lbs</td>\n",
       "      <td>10</td>\n",
       "      <td>other</td>\n",
       "      <td>I rented this dress for a photo shoot. The the...</td>\n",
       "      <td>straight &amp; narrow</td>\n",
       "      <td>I felt so glamourous!!!</td>\n",
       "      <td>gown</td>\n",
       "      <td>5' 6\"</td>\n",
       "      <td>12</td>\n",
       "      <td>36</td>\n",
       "      <td>June 18, 2013</td>\n",
       "    </tr>\n",
       "    <tr>\n",
       "      <th>2</th>\n",
       "      <td>fit</td>\n",
       "      <td>360448</td>\n",
       "      <td>NaN</td>\n",
       "      <td>1063761</td>\n",
       "      <td>NaN</td>\n",
       "      <td>10</td>\n",
       "      <td>party</td>\n",
       "      <td>This hugged in all the right places! It was a ...</td>\n",
       "      <td>NaN</td>\n",
       "      <td>It was a great time to celebrate the (almost) ...</td>\n",
       "      <td>sheath</td>\n",
       "      <td>5' 4\"</td>\n",
       "      <td>4</td>\n",
       "      <td>116</td>\n",
       "      <td>December 14, 2015</td>\n",
       "    </tr>\n",
       "    <tr>\n",
       "      <th>3</th>\n",
       "      <td>fit</td>\n",
       "      <td>909926</td>\n",
       "      <td>34c</td>\n",
       "      <td>126335</td>\n",
       "      <td>135lbs</td>\n",
       "      <td>8</td>\n",
       "      <td>formal affair</td>\n",
       "      <td>I rented this for my company's black tie award...</td>\n",
       "      <td>pear</td>\n",
       "      <td>Dress arrived on time and in perfect condition.</td>\n",
       "      <td>dress</td>\n",
       "      <td>5' 5\"</td>\n",
       "      <td>8</td>\n",
       "      <td>34</td>\n",
       "      <td>February 12, 2014</td>\n",
       "    </tr>\n",
       "    <tr>\n",
       "      <th>4</th>\n",
       "      <td>fit</td>\n",
       "      <td>151944</td>\n",
       "      <td>34b</td>\n",
       "      <td>616682</td>\n",
       "      <td>145lbs</td>\n",
       "      <td>10</td>\n",
       "      <td>wedding</td>\n",
       "      <td>I have always been petite in my upper body and...</td>\n",
       "      <td>athletic</td>\n",
       "      <td>Was in love with this dress !!!</td>\n",
       "      <td>gown</td>\n",
       "      <td>5' 9\"</td>\n",
       "      <td>12</td>\n",
       "      <td>27</td>\n",
       "      <td>September 26, 2016</td>\n",
       "    </tr>\n",
       "  </tbody>\n",
       "</table>\n",
       "</div>"
      ],
      "text/plain": [
       "   fit user_id bust size  item_id  ... height size  age         review_date\n",
       "0  fit  420272       34d  2260466  ...  5' 8\"   14   28      April 20, 2016\n",
       "1  fit  273551       34b   153475  ...  5' 6\"   12   36       June 18, 2013\n",
       "2  fit  360448       NaN  1063761  ...  5' 4\"    4  116   December 14, 2015\n",
       "3  fit  909926       34c   126335  ...  5' 5\"    8   34   February 12, 2014\n",
       "4  fit  151944       34b   616682  ...  5' 9\"   12   27  September 26, 2016\n",
       "\n",
       "[5 rows x 15 columns]"
      ]
     },
     "execution_count": 6,
     "metadata": {},
     "output_type": "execute_result"
    }
   ],
   "source": [
    "# Convert to dataframe\n",
    "df = pd.DataFrame(data2)\n",
    "df.head()"
   ]
  },
  {
   "cell_type": "markdown",
   "metadata": {
    "id": "T5hLaB_euRAO"
   },
   "source": [
    "# <b> Exploratory Data Analysis </b>"
   ]
  },
  {
   "cell_type": "markdown",
   "metadata": {
    "id": "ASEnGPX_z5L_"
   },
   "source": [
    "*Objective of Exploratory Analysis is to remove data rows that have NAs, remove any outliers and clean data for modelling purposes.*"
   ]
  },
  {
   "cell_type": "code",
   "execution_count": 7,
   "metadata": {
    "colab": {
     "base_uri": "https://localhost:8080/"
    },
    "executionInfo": {
     "elapsed": 10,
     "status": "ok",
     "timestamp": 1638409422376,
     "user": {
      "displayName": "Saksham Rana",
      "photoUrl": "https://lh3.googleusercontent.com/a-/AOh14GhDAhIr-VXm3l13_OGqgc6mtnFxapqkbcpsEy7GZw=s64",
      "userId": "11476776675987548379"
     },
     "user_tz": 480
    },
    "id": "5lO0GOXJurXW",
    "outputId": "e5739c7d-2fa3-403f-d0d0-ea3d4664659c"
   },
   "outputs": [
    {
     "data": {
      "text/plain": [
       "(192544, 15)"
      ]
     },
     "execution_count": 7,
     "metadata": {},
     "output_type": "execute_result"
    }
   ],
   "source": [
    "df.shape"
   ]
  },
  {
   "cell_type": "code",
   "execution_count": 8,
   "metadata": {
    "colab": {
     "base_uri": "https://localhost:8080/"
    },
    "executionInfo": {
     "elapsed": 400,
     "status": "ok",
     "timestamp": 1638409422769,
     "user": {
      "displayName": "Saksham Rana",
      "photoUrl": "https://lh3.googleusercontent.com/a-/AOh14GhDAhIr-VXm3l13_OGqgc6mtnFxapqkbcpsEy7GZw=s64",
      "userId": "11476776675987548379"
     },
     "user_tz": 480
    },
    "id": "eqIsO-aItoDT",
    "outputId": "03354c2d-477e-43bf-9b95-8a995dae269b"
   },
   "outputs": [
    {
     "data": {
      "text/plain": [
       "fit               False\n",
       "user_id           False\n",
       "bust size          True\n",
       "item_id           False\n",
       "weight             True\n",
       "rating             True\n",
       "rented for         True\n",
       "review_text       False\n",
       "body type          True\n",
       "review_summary    False\n",
       "category          False\n",
       "height             True\n",
       "size              False\n",
       "age                True\n",
       "review_date       False\n",
       "dtype: bool"
      ]
     },
     "execution_count": 8,
     "metadata": {},
     "output_type": "execute_result"
    }
   ],
   "source": [
    "# Check which columns have NAN values\n",
    "df.isna().any()"
   ]
  },
  {
   "cell_type": "markdown",
   "metadata": {
    "id": "d7874xc8uWQT"
   },
   "source": [
    "*We can see that ratings columns along with others has NA values. For our model fitting, we will remove all NAs from our dataframe.*"
   ]
  },
  {
   "cell_type": "code",
   "execution_count": 9,
   "metadata": {
    "colab": {
     "base_uri": "https://localhost:8080/"
    },
    "executionInfo": {
     "elapsed": 797,
     "status": "ok",
     "timestamp": 1638409423563,
     "user": {
      "displayName": "Saksham Rana",
      "photoUrl": "https://lh3.googleusercontent.com/a-/AOh14GhDAhIr-VXm3l13_OGqgc6mtnFxapqkbcpsEy7GZw=s64",
      "userId": "11476776675987548379"
     },
     "user_tz": 480
    },
    "id": "5JDcQ6wY2Pmy",
    "outputId": "0c24f870-c80f-4f95-d4fe-4e5512aaea66"
   },
   "outputs": [
    {
     "data": {
      "text/plain": [
       "(146381, 15)"
      ]
     },
     "execution_count": 9,
     "metadata": {},
     "output_type": "execute_result"
    }
   ],
   "source": [
    "# Dropping all NAs\n",
    "df.dropna(inplace= True)\n",
    "df = df.reset_index(drop = True)\n",
    "df.shape"
   ]
  },
  {
   "cell_type": "code",
   "execution_count": 10,
   "metadata": {
    "colab": {
     "base_uri": "https://localhost:8080/",
     "height": 436
    },
    "executionInfo": {
     "elapsed": 534,
     "status": "ok",
     "timestamp": 1638409424090,
     "user": {
      "displayName": "Saksham Rana",
      "photoUrl": "https://lh3.googleusercontent.com/a-/AOh14GhDAhIr-VXm3l13_OGqgc6mtnFxapqkbcpsEy7GZw=s64",
      "userId": "11476776675987548379"
     },
     "user_tz": 480
    },
    "id": "D2pnVGg7toHL",
    "outputId": "65ed4ef1-edbc-42f3-e071-678d38d2bc19"
   },
   "outputs": [
    {
     "name": "stdout",
     "output_type": "stream",
     "text": [
      "10    94291\n",
      "8     40761\n",
      "6      8341\n",
      "4      2205\n",
      "2       783\n",
      "Name: rating, dtype: int64\n",
      "\n",
      "\n"
     ]
    },
    {
     "data": {
      "image/png": "[encoded data removed]",
      "text/plain": [
       "<Figure size 576x288 with 1 Axes>"
      ]
     },
     "metadata": {
      "needs_background": "light"
     },
     "output_type": "display_data"
    }
   ],
   "source": [
    "# Check distribution of data for each type\n",
    "\n",
    "## ratings\n",
    "print(df['rating'].value_counts(dropna=False))\n",
    "print(\"\")\n",
    "print(\"\")\n",
    "plt.figure(figsize=(8,4))\n",
    "ax = sns.countplot(x=\"rating\", data=df, order = df['rating'].value_counts().index)\n",
    "ax.set_xticklabels(ax.get_xticklabels(), rotation=0, ha=\"right\")\n",
    "plt.tight_layout()\n",
    "plt.show()"
   ]
  },
  {
   "cell_type": "markdown",
   "metadata": {
    "id": "ofdbdhUt0IU5"
   },
   "source": [
    "*We can see that there are a majority of ratings that are under '10' category and very few ratings that are negative.*"
   ]
  },
  {
   "cell_type": "code",
   "execution_count": 11,
   "metadata": {
    "colab": {
     "base_uri": "https://localhost:8080/"
    },
    "executionInfo": {
     "elapsed": 32012,
     "status": "ok",
     "timestamp": 1638409456098,
     "user": {
      "displayName": "Saksham Rana",
      "photoUrl": "https://lh3.googleusercontent.com/a-/AOh14GhDAhIr-VXm3l13_OGqgc6mtnFxapqkbcpsEy7GZw=s64",
      "userId": "11476776675987548379"
     },
     "user_tz": 480
    },
    "id": "TIflG5q8683V",
    "outputId": "1901fa9c-b881-4b46-80b2-1a951be7b75c"
   },
   "outputs": [
    {
     "name": "stderr",
     "output_type": "stream",
     "text": [
      "/usr/local/lib/python3.7/dist-packages/ipykernel_launcher.py:13: SettingWithCopyWarning: \n",
      "A value is trying to be set on a copy of a slice from a DataFrame\n",
      "\n",
      "See the caveats in the documentation: https://pandas.pydata.org/pandas-docs/stable/user_guide/indexing.html#returning-a-view-versus-a-copy\n",
      "  del sys.path[0]\n",
      "/usr/local/lib/python3.7/dist-packages/ipykernel_launcher.py:23: SettingWithCopyWarning: \n",
      "A value is trying to be set on a copy of a slice from a DataFrame\n",
      "\n",
      "See the caveats in the documentation: https://pandas.pydata.org/pandas-docs/stable/user_guide/indexing.html#returning-a-view-versus-a-copy\n"
     ]
    }
   ],
   "source": [
    "# Before proceeding forward we will convert numeric strings to numeric\n",
    "\n",
    "# Weight\n",
    "df['weight'] = df['weight'].str.replace('lbs', '')\n",
    "df['weight'] = df['weight'].astype('int')\n",
    "\n",
    "# Rating\n",
    "df['rating'] = df['rating'].astype('int')\n",
    "\n",
    "# Height\n",
    "df['hgt'] = 1\n",
    "for i in range(df.shape[0]):\n",
    "    df['hgt'][i] = int(df['height'][i].split('\\' ')[0])*12 + int(df['height'][i].split('\\' ')[1].split(\"\\\"\")[0])\n",
    "df['hgt'] = df['hgt'].astype('int')\n",
    "df.drop(columns = ['height'], inplace=True)\n",
    "\n",
    "# Age\n",
    "df['age'] = df['age'].astype('int')\n",
    "\n",
    "# Time\n",
    "df['ut'] = 1\n",
    "for i in range(df.shape[0]):\n",
    "    df['ut'][i] = time.mktime(time.strptime(df['review_date'][i], '%B %d, %Y'))\n",
    "df['ut'] = df['ut'].astype('int')"
   ]
  },
  {
   "cell_type": "code",
   "execution_count": 12,
   "metadata": {
    "colab": {
     "base_uri": "https://localhost:8080/",
     "height": 310
    },
    "executionInfo": {
     "elapsed": 18,
     "status": "ok",
     "timestamp": 1638409456099,
     "user": {
      "displayName": "Saksham Rana",
      "photoUrl": "https://lh3.googleusercontent.com/a-/AOh14GhDAhIr-VXm3l13_OGqgc6mtnFxapqkbcpsEy7GZw=s64",
      "userId": "11476776675987548379"
     },
     "user_tz": 480
    },
    "id": "Yw-khlCB-CPt",
    "outputId": "575f855a-af45-4adf-8928-3ee8a86534c3"
   },
   "outputs": [
    {
     "data": {
      "text/html": [
       "<div>\n",
       "<style scoped>\n",
       "    .dataframe tbody tr th:only-of-type {\n",
       "        vertical-align: middle;\n",
       "    }\n",
       "\n",
       "    .dataframe tbody tr th {\n",
       "        vertical-align: top;\n",
       "    }\n",
       "\n",
       "    .dataframe thead th {\n",
       "        text-align: right;\n",
       "    }\n",
       "</style>\n",
       "<table border=\"1\" class=\"dataframe\">\n",
       "  <thead>\n",
       "    <tr style=\"text-align: right;\">\n",
       "      <th></th>\n",
       "      <th>fit</th>\n",
       "      <th>user_id</th>\n",
       "      <th>bust size</th>\n",
       "      <th>item_id</th>\n",
       "      <th>weight</th>\n",
       "      <th>rating</th>\n",
       "      <th>rented for</th>\n",
       "      <th>review_text</th>\n",
       "      <th>body type</th>\n",
       "      <th>review_summary</th>\n",
       "      <th>category</th>\n",
       "      <th>size</th>\n",
       "      <th>age</th>\n",
       "      <th>review_date</th>\n",
       "      <th>hgt</th>\n",
       "      <th>ut</th>\n",
       "    </tr>\n",
       "  </thead>\n",
       "  <tbody>\n",
       "    <tr>\n",
       "      <th>0</th>\n",
       "      <td>fit</td>\n",
       "      <td>420272</td>\n",
       "      <td>34d</td>\n",
       "      <td>2260466</td>\n",
       "      <td>137</td>\n",
       "      <td>10</td>\n",
       "      <td>vacation</td>\n",
       "      <td>An adorable romper! Belt and zipper were a lit...</td>\n",
       "      <td>hourglass</td>\n",
       "      <td>So many compliments!</td>\n",
       "      <td>romper</td>\n",
       "      <td>14</td>\n",
       "      <td>28</td>\n",
       "      <td>April 20, 2016</td>\n",
       "      <td>68</td>\n",
       "      <td>1461110400</td>\n",
       "    </tr>\n",
       "    <tr>\n",
       "      <th>1</th>\n",
       "      <td>fit</td>\n",
       "      <td>273551</td>\n",
       "      <td>34b</td>\n",
       "      <td>153475</td>\n",
       "      <td>132</td>\n",
       "      <td>10</td>\n",
       "      <td>other</td>\n",
       "      <td>I rented this dress for a photo shoot. The the...</td>\n",
       "      <td>straight &amp; narrow</td>\n",
       "      <td>I felt so glamourous!!!</td>\n",
       "      <td>gown</td>\n",
       "      <td>12</td>\n",
       "      <td>36</td>\n",
       "      <td>June 18, 2013</td>\n",
       "      <td>66</td>\n",
       "      <td>1371513600</td>\n",
       "    </tr>\n",
       "    <tr>\n",
       "      <th>2</th>\n",
       "      <td>fit</td>\n",
       "      <td>909926</td>\n",
       "      <td>34c</td>\n",
       "      <td>126335</td>\n",
       "      <td>135</td>\n",
       "      <td>8</td>\n",
       "      <td>formal affair</td>\n",
       "      <td>I rented this for my company's black tie award...</td>\n",
       "      <td>pear</td>\n",
       "      <td>Dress arrived on time and in perfect condition.</td>\n",
       "      <td>dress</td>\n",
       "      <td>8</td>\n",
       "      <td>34</td>\n",
       "      <td>February 12, 2014</td>\n",
       "      <td>65</td>\n",
       "      <td>1392163200</td>\n",
       "    </tr>\n",
       "    <tr>\n",
       "      <th>3</th>\n",
       "      <td>fit</td>\n",
       "      <td>151944</td>\n",
       "      <td>34b</td>\n",
       "      <td>616682</td>\n",
       "      <td>145</td>\n",
       "      <td>10</td>\n",
       "      <td>wedding</td>\n",
       "      <td>I have always been petite in my upper body and...</td>\n",
       "      <td>athletic</td>\n",
       "      <td>Was in love with this dress !!!</td>\n",
       "      <td>gown</td>\n",
       "      <td>12</td>\n",
       "      <td>27</td>\n",
       "      <td>September 26, 2016</td>\n",
       "      <td>69</td>\n",
       "      <td>1474848000</td>\n",
       "    </tr>\n",
       "    <tr>\n",
       "      <th>4</th>\n",
       "      <td>fit</td>\n",
       "      <td>734848</td>\n",
       "      <td>32b</td>\n",
       "      <td>364092</td>\n",
       "      <td>138</td>\n",
       "      <td>8</td>\n",
       "      <td>date</td>\n",
       "      <td>Didn't actually wear it. It fit perfectly. The...</td>\n",
       "      <td>athletic</td>\n",
       "      <td>Traditional with a touch a sass</td>\n",
       "      <td>dress</td>\n",
       "      <td>8</td>\n",
       "      <td>45</td>\n",
       "      <td>April 30, 2016</td>\n",
       "      <td>68</td>\n",
       "      <td>1461974400</td>\n",
       "    </tr>\n",
       "  </tbody>\n",
       "</table>\n",
       "</div>"
      ],
      "text/plain": [
       "   fit user_id bust size  item_id  ...  age         review_date hgt          ut\n",
       "0  fit  420272       34d  2260466  ...   28      April 20, 2016  68  1461110400\n",
       "1  fit  273551       34b   153475  ...   36       June 18, 2013  66  1371513600\n",
       "2  fit  909926       34c   126335  ...   34   February 12, 2014  65  1392163200\n",
       "3  fit  151944       34b   616682  ...   27  September 26, 2016  69  1474848000\n",
       "4  fit  734848       32b   364092  ...   45      April 30, 2016  68  1461974400\n",
       "\n",
       "[5 rows x 16 columns]"
      ]
     },
     "execution_count": 12,
     "metadata": {},
     "output_type": "execute_result"
    }
   ],
   "source": [
    "df.head()"
   ]
  },
  {
   "cell_type": "code",
   "execution_count": 13,
   "metadata": {
    "colab": {
     "base_uri": "https://localhost:8080/",
     "height": 539
    },
    "executionInfo": {
     "elapsed": 405,
     "status": "ok",
     "timestamp": 1638409456489,
     "user": {
      "displayName": "Saksham Rana",
      "photoUrl": "https://lh3.googleusercontent.com/a-/AOh14GhDAhIr-VXm3l13_OGqgc6mtnFxapqkbcpsEy7GZw=s64",
      "userId": "11476776675987548379"
     },
     "user_tz": 480
    },
    "id": "xuCZTst7toOj",
    "outputId": "46983f1a-185b-440d-9e96-cdacb2e9c768"
   },
   "outputs": [
    {
     "data": {
      "image/png": "[encoded data removed]",
      "text/plain": [
       "<Figure size 864x288 with 1 Axes>"
      ]
     },
     "metadata": {
      "needs_background": "light"
     },
     "output_type": "display_data"
    },
    {
     "data": {
      "text/plain": [
       "Weight (50-75 lb)          7\n",
       "Weight (275-300 lb)       29\n",
       "Weight (250-275 lb)      205\n",
       "Weight (225-250 lb)      476\n",
       "Weight (75-100 lb)       647\n",
       "Weight (200-225 lb)     1892\n",
       "Weight (175-200 lb)     6373\n",
       "Weight (150-175 lb)    27172\n",
       "Weight (100-125 lb)    37021\n",
       "Weight (125-150 lb)    72559\n",
       "Name: weight_bin, dtype: int64"
      ]
     },
     "execution_count": 13,
     "metadata": {},
     "output_type": "execute_result"
    }
   ],
   "source": [
    "def binning_operation(value):\n",
    "    if value >= 50 and value < 75:\n",
    "        column_value = 'Weight (50-75 lb)'\n",
    "    elif value >= 75 and value < 100:\n",
    "        column_value = 'Weight (75-100 lb)'\n",
    "    elif value >= 100 and value < 125:\n",
    "        column_value = 'Weight (100-125 lb)'\n",
    "    elif value >= 125 and value < 150:\n",
    "        column_value = 'Weight (125-150 lb)'\n",
    "    elif value >= 150 and value < 175:\n",
    "        column_value = 'Weight (150-175 lb)'\n",
    "    elif value >= 175 and value < 200:\n",
    "        column_value = 'Weight (175-200 lb)'\n",
    "    elif value >= 200 and value < 225:\n",
    "        column_value = 'Weight (200-225 lb)'\n",
    "    elif value >= 225 and value < 250:\n",
    "        column_value = 'Weight (225-250 lb)'\n",
    "    elif value >= 250 and value < 275:\n",
    "        column_value = 'Weight (250-275 lb)'\n",
    "    elif value >= 275 and value <= 300:\n",
    "        column_value = 'Weight (275-300 lb)'\n",
    "    \n",
    "    return column_value\n",
    "\n",
    "\n",
    "df['weight_bin'] = df['weight'].apply(binning_operation)\n",
    "order_list = ['Weight (50-75 lb)', 'Weight (75-100 lb)', 'Weight (100-125 lb)', 'Weight (125-150 lb)',\n",
    "              'Weight (150-175 lb)', 'Weight (175-200 lb)', 'Weight (175-200 lb)', 'Weight (200-225 lb)',\n",
    "              'Weight (225-250 lb)', 'Weight (250-275 lb)', 'Weight (275-300 lb)']\n",
    "\n",
    "# Plot the distribution\n",
    "plt.figure(figsize=(12,4))\n",
    "ax = sns.countplot(x=\"weight_bin\", data=df, order = order_list)\n",
    "ax.set_xticklabels(ax.get_xticklabels(), rotation=45, ha=\"right\")\n",
    "plt.show()\n",
    "\n",
    "# Print the count\n",
    "df['weight_bin'].value_counts(ascending = True)"
   ]
  },
  {
   "cell_type": "markdown",
   "metadata": {
    "id": "2_MS961T6dZb"
   },
   "source": [
    "*Based on the above chart we can see that very few apparel has bene rented for weight less than 100 lbs and more than 250 lbs. All these observations can be removed because they have very less variablility and will not contribute to variations in ratings.*"
   ]
  },
  {
   "cell_type": "code",
   "execution_count": 14,
   "metadata": {
    "executionInfo": {
     "elapsed": 224,
     "status": "ok",
     "timestamp": 1638409456709,
     "user": {
      "displayName": "Saksham Rana",
      "photoUrl": "https://lh3.googleusercontent.com/a-/AOh14GhDAhIr-VXm3l13_OGqgc6mtnFxapqkbcpsEy7GZw=s64",
      "userId": "11476776675987548379"
     },
     "user_tz": 480
    },
    "id": "fhRYWh7OtoSW"
   },
   "outputs": [],
   "source": [
    "# Filtering data on weights\n",
    "df = df[np.logical_and(df.weight >= 100, df.weight <= 200)]"
   ]
  },
  {
   "cell_type": "code",
   "execution_count": 15,
   "metadata": {
    "colab": {
     "base_uri": "https://localhost:8080/",
     "height": 404
    },
    "executionInfo": {
     "elapsed": 1617,
     "status": "ok",
     "timestamp": 1638409458324,
     "user": {
      "displayName": "Saksham Rana",
      "photoUrl": "https://lh3.googleusercontent.com/a-/AOh14GhDAhIr-VXm3l13_OGqgc6mtnFxapqkbcpsEy7GZw=s64",
      "userId": "11476776675987548379"
     },
     "user_tz": 480
    },
    "id": "KYNMLtHn30-P",
    "outputId": "413835e6-c434-467b-b7be-ec8bdc4f7185"
   },
   "outputs": [
    {
     "data": {
      "text/plain": [
       "<seaborn.axisgrid.FacetGrid at 0x7fe478ba3490>"
      ]
     },
     "execution_count": 15,
     "metadata": {},
     "output_type": "execute_result"
    },
    {
     "data": {
      "text/plain": [
       "<Figure size 1440x1440 with 0 Axes>"
      ]
     },
     "metadata": {},
     "output_type": "display_data"
    },
    {
     "data": {
      "image/png": "[encoded data removed]",
      "text/plain": [
       "<Figure size 360x360 with 1 Axes>"
      ]
     },
     "metadata": {
      "needs_background": "light"
     },
     "output_type": "display_data"
    }
   ],
   "source": [
    "# Plot distribution for height\n",
    "plt.figure(figsize=(20,20))\n",
    "sns.displot(df['hgt'], kde=True)"
   ]
  },
  {
   "cell_type": "markdown",
   "metadata": {
    "id": "_SE71rMHH0Sx"
   },
   "source": [
    "*Height is in acceptable range of values with significant count, hence all data is kept*"
   ]
  },
  {
   "cell_type": "code",
   "execution_count": 16,
   "metadata": {
    "colab": {
     "base_uri": "https://localhost:8080/",
     "height": 386
    },
    "executionInfo": {
     "elapsed": 1007,
     "status": "ok",
     "timestamp": 1638409459328,
     "user": {
      "displayName": "Saksham Rana",
      "photoUrl": "https://lh3.googleusercontent.com/a-/AOh14GhDAhIr-VXm3l13_OGqgc6mtnFxapqkbcpsEy7GZw=s64",
      "userId": "11476776675987548379"
     },
     "user_tz": 480
    },
    "id": "XnKjQsBg31Cn",
    "outputId": "1aa5cbcd-7300-4d11-bcb2-55b6b989728c"
   },
   "outputs": [
    {
     "data": {
      "image/png": "[encoded data removed]",
      "text/plain": [
       "<Figure size 360x360 with 1 Axes>"
      ]
     },
     "metadata": {
      "needs_background": "light"
     },
     "output_type": "display_data"
    },
    {
     "name": "stdout",
     "output_type": "stream",
     "text": [
      "Number of Unique Categories for Bust Size: 91\n"
     ]
    }
   ],
   "source": [
    "# Distribution plot for Bust size\n",
    "# print(df['bust size'].value_counts(dropna=False))\n",
    "plt.figure(figsize=(5,5))\n",
    "ax = sns.countplot(x=\"bust size\", data=df, order = df['bust size'].value_counts().index)\n",
    "ax.set_xticklabels(ax.get_xticklabels(), rotation=90, ha=\"right\")\n",
    "ax.set_xlim(left = 0, right = 30)\n",
    "plt.tight_layout()\n",
    "plt.show()\n",
    "\n",
    "# Total categories\n",
    "print('Number of Unique Categories for Bust Size:', len(set(df['bust size'])))"
   ]
  },
  {
   "cell_type": "markdown",
   "metadata": {
    "id": "_nAXQNBBItR5"
   },
   "source": [
    "*As we can see from above graph, there are 91 categories under Bust Size and performing One-Hot Encolding*"
   ]
  },
  {
   "cell_type": "code",
   "execution_count": 17,
   "metadata": {
    "colab": {
     "base_uri": "https://localhost:8080/",
     "height": 542
    },
    "executionInfo": {
     "elapsed": 837,
     "status": "ok",
     "timestamp": 1638409460160,
     "user": {
      "displayName": "Saksham Rana",
      "photoUrl": "https://lh3.googleusercontent.com/a-/AOh14GhDAhIr-VXm3l13_OGqgc6mtnFxapqkbcpsEy7GZw=s64",
      "userId": "11476776675987548379"
     },
     "user_tz": 480
    },
    "id": "6dqJIEzvtoWQ",
    "outputId": "6033fc41-c2ff-4c1e-acb8-d53d22c10a06"
   },
   "outputs": [
    {
     "data": {
      "image/png": "[encoded data removed]",
      "text/plain": [
       "<Figure size 360x360 with 1 Axes>"
      ]
     },
     "metadata": {
      "needs_background": "light"
     },
     "output_type": "display_data"
    },
    {
     "data": {
      "text/plain": [
       "wedding            41844\n",
       "formal affair      29856\n",
       "party              26684\n",
       "everyday           13155\n",
       "work               12000\n",
       "other              11304\n",
       "date                5850\n",
       "vacation            3192\n",
       "party: cocktail        1\n",
       "Name: rented for, dtype: int64"
      ]
     },
     "execution_count": 17,
     "metadata": {},
     "output_type": "execute_result"
    }
   ],
   "source": [
    "# Plot Distribution for 'rented for'\n",
    "\n",
    "plt.figure(figsize=(5,5))\n",
    "ax = sns.countplot(x=\"rented for\", data=df, order = df['rented for'].value_counts().index)\n",
    "ax.set_xticklabels(ax.get_xticklabels(), rotation=40, ha=\"right\")\n",
    "plt.tight_layout()\n",
    "plt.show()\n",
    "\n",
    "# Count Table\n",
    "df['rented for'].value_counts()"
   ]
  },
  {
   "cell_type": "markdown",
   "metadata": {
    "id": "RDLUb508KAov"
   },
   "source": [
    "*There are only 9 categories with significant amount of values under each category except 'party: cocktail'. We are filtering out the category 'party: cocktail' from our data since there is only one record for this category and it will not impact the model.* "
   ]
  },
  {
   "cell_type": "code",
   "execution_count": 18,
   "metadata": {
    "executionInfo": {
     "elapsed": 5,
     "status": "ok",
     "timestamp": 1638409460161,
     "user": {
      "displayName": "Saksham Rana",
      "photoUrl": "https://lh3.googleusercontent.com/a-/AOh14GhDAhIr-VXm3l13_OGqgc6mtnFxapqkbcpsEy7GZw=s64",
      "userId": "11476776675987548379"
     },
     "user_tz": 480
    },
    "id": "OEEWpOdXtoaB"
   },
   "outputs": [],
   "source": [
    "# Filtering out 'party: cocktail'\n",
    "df = df[df['rented for'] != 'party: cocktail']"
   ]
  },
  {
   "cell_type": "code",
   "execution_count": 19,
   "metadata": {
    "colab": {
     "base_uri": "https://localhost:8080/",
     "height": 438
    },
    "executionInfo": {
     "elapsed": 967,
     "status": "ok",
     "timestamp": 1638409461125,
     "user": {
      "displayName": "Saksham Rana",
      "photoUrl": "https://lh3.googleusercontent.com/a-/AOh14GhDAhIr-VXm3l13_OGqgc6mtnFxapqkbcpsEy7GZw=s64",
      "userId": "11476776675987548379"
     },
     "user_tz": 480
    },
    "id": "gFBvlgejtod6",
    "outputId": "efa049bd-e13d-40e3-aba2-9fd3d4043744"
   },
   "outputs": [
    {
     "name": "stdout",
     "output_type": "stream",
     "text": [
      "   rating  len_review_text\n",
      "0       2        47.511229\n",
      "1       4        53.088059\n",
      "2       6        59.886175\n",
      "3       8        63.685972\n",
      "4      10        57.949272\n"
     ]
    },
    {
     "data": {
      "image/png": "[encoded data removed]",
      "text/plain": [
       "<Figure size 360x360 with 1 Axes>"
      ]
     },
     "metadata": {
      "needs_background": "light"
     },
     "output_type": "display_data"
    }
   ],
   "source": [
    "# Review Text Length Analysis\n",
    "\n",
    "# Create column for length of review text\n",
    "def len_review(review_text):\n",
    "    length = len(review_text.split())\n",
    "    return length\n",
    "\n",
    "df['len_review_text'] = df['review_text'].apply(len_review)\n",
    "\n",
    "# Create Bar Plot\n",
    "plt.figure(figsize=(5,5))\n",
    "rating_len_review = df.groupby(by = 'rating')['len_review_text'].mean().reset_index()\n",
    "rating_len_review\n",
    "sns.barplot(data = rating_len_review, x = 'rating', y = 'len_review_text')\n",
    "print(rating_len_review)"
   ]
  },
  {
   "cell_type": "code",
   "execution_count": 20,
   "metadata": {
    "colab": {
     "base_uri": "https://localhost:8080/",
     "height": 508
    },
    "executionInfo": {
     "elapsed": 713,
     "status": "ok",
     "timestamp": 1638409461832,
     "user": {
      "displayName": "Saksham Rana",
      "photoUrl": "https://lh3.googleusercontent.com/a-/AOh14GhDAhIr-VXm3l13_OGqgc6mtnFxapqkbcpsEy7GZw=s64",
      "userId": "11476776675987548379"
     },
     "user_tz": 480
    },
    "id": "7LgX-Q-9toiI",
    "outputId": "9bdd0cb8-0a8a-4db1-fe6a-fef1097e111c"
   },
   "outputs": [
    {
     "name": "stdout",
     "output_type": "stream",
     "text": [
      "hourglass            43216\n",
      "athletic             37438\n",
      "petite               18800\n",
      "pear                 17682\n",
      "straight & narrow    12810\n",
      "full bust            10362\n",
      "apple                 3577\n",
      "Name: body type, dtype: int64\n"
     ]
    },
    {
     "data": {
      "image/png": "[encoded data removed]",
      "text/plain": [
       "<Figure size 360x360 with 1 Axes>"
      ]
     },
     "metadata": {
      "needs_background": "light"
     },
     "output_type": "display_data"
    }
   ],
   "source": [
    "# Distribution plot for Body Type\n",
    "print(df['body type'].value_counts(dropna=False))\n",
    "plt.figure(figsize=(5,5))\n",
    "ax = sns.countplot(x=\"body type\", data=df, order = df['body type'].value_counts().index)\n",
    "ax.set_xticklabels(ax.get_xticklabels(), rotation=40, ha=\"right\")\n",
    "#ax.set_xlim(left = 0, right = 50)\n",
    "plt.tight_layout()\n",
    "plt.show()"
   ]
  },
  {
   "cell_type": "markdown",
   "metadata": {
    "id": "jOOkrabwQYKC"
   },
   "source": [
    "*For 'body type' all of the categories have sufficient number of records. Hence, we are keeping this feature.*"
   ]
  },
  {
   "cell_type": "code",
   "execution_count": 21,
   "metadata": {
    "colab": {
     "base_uri": "https://localhost:8080/",
     "height": 320
    },
    "executionInfo": {
     "elapsed": 232,
     "status": "ok",
     "timestamp": 1638409462062,
     "user": {
      "displayName": "Saksham Rana",
      "photoUrl": "https://lh3.googleusercontent.com/a-/AOh14GhDAhIr-VXm3l13_OGqgc6mtnFxapqkbcpsEy7GZw=s64",
      "userId": "11476776675987548379"
     },
     "user_tz": 480
    },
    "id": "YIMZLA8lQVw9",
    "outputId": "aee84eb9-e272-4b97-d510-b0db7e782b42"
   },
   "outputs": [
    {
     "data": {
      "image/png": "[encoded data removed]",
      "text/plain": [
       "<Figure size 360x360 with 1 Axes>"
      ]
     },
     "metadata": {
      "needs_background": "light"
     },
     "output_type": "display_data"
    }
   ],
   "source": [
    "# Plot Distribution for Age\n",
    "\n",
    "plt.figure(figsize = (5,5))\n",
    "plt.hist(df['age'], bins = 50)\n",
    "plt.xlim(0, 120)\n",
    "plt.show()"
   ]
  },
  {
   "cell_type": "markdown",
   "metadata": {
    "id": "cs0UrkfdWZ6U"
   },
   "source": [
    "*From the above graph, we can see there are clear outliers in data with ages like 0 and 117. To resolve these outliers as epr the histogram above, we have removed ages with range as 0-15 and > 80.*"
   ]
  },
  {
   "cell_type": "code",
   "execution_count": 22,
   "metadata": {
    "colab": {
     "base_uri": "https://localhost:8080/"
    },
    "executionInfo": {
     "elapsed": 12,
     "status": "ok",
     "timestamp": 1638409462063,
     "user": {
      "displayName": "Saksham Rana",
      "photoUrl": "https://lh3.googleusercontent.com/a-/AOh14GhDAhIr-VXm3l13_OGqgc6mtnFxapqkbcpsEy7GZw=s64",
      "userId": "11476776675987548379"
     },
     "user_tz": 480
    },
    "id": "aBNozPHpWZh0",
    "outputId": "e89c6493-77be-41a5-96fb-bad06f70b97d"
   },
   "outputs": [
    {
     "data": {
      "text/plain": [
       "(143759, 18)"
      ]
     },
     "execution_count": 22,
     "metadata": {},
     "output_type": "execute_result"
    }
   ],
   "source": [
    "# Filter out ages 0-15 and > 80 from df\n",
    "\n",
    "df = df[np.logical_and(df.age > 15, df.age <= 80)]\n",
    "df.shape"
   ]
  },
  {
   "cell_type": "markdown",
   "metadata": {
    "id": "uRC78utJ0yYt"
   },
   "source": [
    "# <b> Ratings Prediction using Pearson Similarity"
   ]
  },
  {
   "cell_type": "code",
   "execution_count": 45,
   "metadata": {
    "executionInfo": {
     "elapsed": 3711,
     "status": "ok",
     "timestamp": 1638412367968,
     "user": {
      "displayName": "Saksham Rana",
      "photoUrl": "https://lh3.googleusercontent.com/a-/AOh14GhDAhIr-VXm3l13_OGqgc6mtnFxapqkbcpsEy7GZw=s64",
      "userId": "11476776675987548379"
     },
     "user_tz": 480
    },
    "id": "K8XcmTbkXyye"
   },
   "outputs": [],
   "source": [
    "dataset = df.to_dict('records')\n",
    "\n",
    "usersPerItem = defaultdict(set)\n",
    "itemsPerUser = defaultdict(set)\n",
    "ratingDict = {}\n",
    "\n",
    "for d in dataset:\n",
    "    user,item = d['user_id'], d['item_id']\n",
    "    usersPerItem[item].add(user)\n",
    "    itemsPerUser[user].add(item)\n",
    "    ratingDict[(user,item)] = d['rating']"
   ]
  },
  {
   "cell_type": "code",
   "execution_count": 46,
   "metadata": {
    "executionInfo": {
     "elapsed": 421,
     "status": "ok",
     "timestamp": 1638412368379,
     "user": {
      "displayName": "Saksham Rana",
      "photoUrl": "https://lh3.googleusercontent.com/a-/AOh14GhDAhIr-VXm3l13_OGqgc6mtnFxapqkbcpsEy7GZw=s64",
      "userId": "11476776675987548379"
     },
     "user_tz": 480
    },
    "id": "DTLsgcGyq3w_"
   },
   "outputs": [],
   "source": [
    "userAverages = {}\n",
    "itemAverages = {}\n",
    "\n",
    "for u in itemsPerUser:\n",
    "    rs = [ratingDict[(u,i)] for i in itemsPerUser[u]]\n",
    "    userAverages[u] = sum(rs) / len(rs)\n",
    "    \n",
    "for i in usersPerItem:\n",
    "    rs = [ratingDict[(u,i)] for u in usersPerItem[i]]\n",
    "    itemAverages[i] = sum(rs) / len(rs)"
   ]
  },
  {
   "cell_type": "code",
   "execution_count": 66,
   "metadata": {
    "executionInfo": {
     "elapsed": 213,
     "status": "ok",
     "timestamp": 1638415469548,
     "user": {
      "displayName": "Saksham Rana",
      "photoUrl": "https://lh3.googleusercontent.com/a-/AOh14GhDAhIr-VXm3l13_OGqgc6mtnFxapqkbcpsEy7GZw=s64",
      "userId": "11476776675987548379"
     },
     "user_tz": 480
    },
    "id": "OxGOW3Fgq6ae"
   },
   "outputs": [],
   "source": [
    "# Jaccard\n",
    "\n",
    "def Jaccard(s1, s2):\n",
    "    numer = len(s1.intersection(s2))\n",
    "    denom = len(s1.union(s2))\n",
    "    if denom == 0:\n",
    "        return 0\n",
    "    return numer / denom\n",
    "\n",
    "# Cosine\n",
    "\n",
    "def Cosine(i1, i2): # items\n",
    "    # Between two items\n",
    "    inter = usersPerItem[i1].intersection(usersPerItem[i2])\n",
    "    numer = 0\n",
    "    denom1 = 0\n",
    "    denom2 = 0\n",
    "    for u in inter:\n",
    "        numer += ratingDict[(u,i1)]*ratingDict[(u,i2)]\n",
    "    for u in usersPerItem[i1]:\n",
    "        denom1 += ratingDict[(u,i1)]**2\n",
    "    for u in usersPerItem[i2]:\n",
    "        denom2 += ratingDict[(u,i2)]**2\n",
    "    denom = math.sqrt(denom1) * math.sqrt(denom2)\n",
    "    if denom == 0: return 0\n",
    "    return numer / denom\n",
    "\n",
    "\n",
    "# Pearson\n",
    "def Pearson(i1, i2):\n",
    "    # Between two items\n",
    "    iBar1 = itemAverages[i1]\n",
    "    iBar2 = itemAverages[i2]\n",
    "    inter = usersPerItem[i1].intersection(usersPerItem[i2])\n",
    "    numer = 0\n",
    "    denom1 = 0\n",
    "    denom2 = 0\n",
    "    for u in inter:\n",
    "        numer += (ratingDict[(u,i1)] - iBar1)*(ratingDict[(u,i2)] - iBar2)\n",
    "    for u in inter: #usersPerItem[i1]:\n",
    "        denom1 += (ratingDict[(u,i1)] - iBar1)**2\n",
    "    #for u in usersPerItem[i2]:\n",
    "        denom2 += (ratingDict[(u,i2)] - iBar2)**2\n",
    "    denom = math.sqrt(denom1) * math.sqrt(denom2)\n",
    "    if denom == 0: return 0\n",
    "    return numer / denom\n",
    "\n",
    "\n",
    "\n",
    "def predictRating(user,item, similarity_type):\n",
    "    ratings = []\n",
    "    similarities = []\n",
    "\n",
    "    if similarity_type == 'Jacard':\n",
    "        for d in reviewsPerUser[user]:\n",
    "            i2 = d['item_id']\n",
    "            if i2 == item: continue\n",
    "            ratings.append(d['rating'] - itemAverages[i2])\n",
    "            similarities.append(Jaccard(usersPerItem[item],usersPerItem[i2]))\n",
    "\n",
    "    if similarity_type == 'Cosine':    \n",
    "        for d in reviewsPerUser[item]:    \n",
    "            i2 = d['item_id']\n",
    "            if i2 == item: continue\n",
    "            ratings.append(d['rating'] - itemAverages[i2])        \n",
    "            similarities.append(Cosine(i2,item)) # items set\n",
    "\n",
    "    if similarity_type == 'Pearson':    \n",
    "        for d in reviewsPerUser[item]:    \n",
    "            i2 = d['item_id']\n",
    "            if i2 == item: continue\n",
    "            ratings.append(d['rating'] - itemAverages[i2])        \n",
    "            similarities.append(Pearson(i2,item)) # items set\n",
    "\n",
    "    if (sum(similarities) > 0):\n",
    "        weightedRatings = [(x*y) for x,y in zip(ratings,similarities)]\n",
    "        return itemAverages[item] + sum(weightedRatings) / sum(similarities)\n",
    "    else:\n",
    "        # User hasn't rated any similar items\n",
    "        return ratingMean\n",
    "\n",
    "def MSE(predictions, labels):\n",
    "    differences = [(x-y)**2 for x,y in zip(predictions,labels)]\n",
    "    return sum(differences) / len(differences)"
   ]
  },
  {
   "cell_type": "code",
   "execution_count": 67,
   "metadata": {
    "colab": {
     "base_uri": "https://localhost:8080/"
    },
    "executionInfo": {
     "elapsed": 971,
     "status": "ok",
     "timestamp": 1638415477706,
     "user": {
      "displayName": "Saksham Rana",
      "photoUrl": "https://lh3.googleusercontent.com/a-/AOh14GhDAhIr-VXm3l13_OGqgc6mtnFxapqkbcpsEy7GZw=s64",
      "userId": "11476776675987548379"
     },
     "user_tz": 480
    },
    "id": "KFjQ_oDmrhfK",
    "outputId": "055b95ad-e0fa-4b90-d77a-e58a8d3e1f38"
   },
   "outputs": [
    {
     "data": {
      "text/plain": [
       "9.083132186506583"
      ]
     },
     "execution_count": 67,
     "metadata": {},
     "output_type": "execute_result"
    }
   ],
   "source": [
    "reviewsPerUser = defaultdict(list)\n",
    "reviewsPerItem = defaultdict(list)\n",
    "\n",
    "for d in dataset:\n",
    "    user,item = d['user_id'], d['item_id']\n",
    "    reviewsPerUser[user].append(d)\n",
    "    reviewsPerItem[item].append(d)\n",
    "\n",
    "ratingMean = sum([d['rating'] for d in dataset]) / len(dataset)\n",
    "ratingMean"
   ]
  },
  {
   "cell_type": "code",
   "execution_count": 53,
   "metadata": {
    "colab": {
     "base_uri": "https://localhost:8080/"
    },
    "executionInfo": {
     "elapsed": 12994,
     "status": "ok",
     "timestamp": 1638413440704,
     "user": {
      "displayName": "Saksham Rana",
      "photoUrl": "https://lh3.googleusercontent.com/a-/AOh14GhDAhIr-VXm3l13_OGqgc6mtnFxapqkbcpsEy7GZw=s64",
      "userId": "11476776675987548379"
     },
     "user_tz": 480
    },
    "id": "0h513LVFwt8m",
    "outputId": "015e2235-fc57-4ea6-ed7a-0ec2ce771f37"
   },
   "outputs": [
    {
     "name": "stdout",
     "output_type": "stream",
     "text": [
      "MSE with Jaccard similarity is: 2.3193757160614523\n"
     ]
    }
   ],
   "source": [
    "# Jacard\n",
    "simPredictions = []\n",
    "labels = []\n",
    "simPredictions = [predictRating(d['user_id'], d['item_id'], 'Jaccard') for d in dataset]\n",
    "labels = [d['rating'] for d in dataset]\n",
    "print('MSE with Jaccard similarity is:', MSE(simPredictions, labels))"
   ]
  },
  {
   "cell_type": "code",
   "execution_count": 65,
   "metadata": {
    "colab": {
     "base_uri": "https://localhost:8080/"
    },
    "executionInfo": {
     "elapsed": 5722,
     "status": "ok",
     "timestamp": 1638415312215,
     "user": {
      "displayName": "Saksham Rana",
      "photoUrl": "https://lh3.googleusercontent.com/a-/AOh14GhDAhIr-VXm3l13_OGqgc6mtnFxapqkbcpsEy7GZw=s64",
      "userId": "11476776675987548379"
     },
     "user_tz": 480
    },
    "id": "hnmfCtS9_FIo",
    "outputId": "9b60102b-04ab-4a75-d7d5-a9f9e5a7f3d1"
   },
   "outputs": [
    {
     "name": "stdout",
     "output_type": "stream",
     "text": [
      "MSE with Cosine similarity is: 2.0719649992138947\n"
     ]
    }
   ],
   "source": [
    "# Cosine\n",
    "simPredictions = []\n",
    "labels = []\n",
    "simPredictions = [predictRating(d['user_id'], d['item_id'], 'Cosine') for d in dataset]\n",
    "labels = [d['rating'] for d in dataset]\n",
    "print('MSE with Cosine similarity is:', MSE(simPredictions, labels))\n"
   ]
  },
  {
   "cell_type": "code",
   "execution_count": 68,
   "metadata": {
    "colab": {
     "base_uri": "https://localhost:8080/"
    },
    "executionInfo": {
     "elapsed": 648,
     "status": "ok",
     "timestamp": 1638415480832,
     "user": {
      "displayName": "Saksham Rana",
      "photoUrl": "https://lh3.googleusercontent.com/a-/AOh14GhDAhIr-VXm3l13_OGqgc6mtnFxapqkbcpsEy7GZw=s64",
      "userId": "11476776675987548379"
     },
     "user_tz": 480
    },
    "id": "ccU9LG4z_OoL",
    "outputId": "225afaf3-9c66-4142-cb67-db40e1efd24d"
   },
   "outputs": [
    {
     "name": "stdout",
     "output_type": "stream",
     "text": [
      "MSE with Pearson similarity is: 2.0656872773022226\n"
     ]
    }
   ],
   "source": [
    "# Pearson\n",
    "simPredictions = []\n",
    "labels = []\n",
    "simPredictions = [predictRating(d['user_id'], d['item_id'], 'Pearson') for d in dataset]\n",
    "labels = [d['rating'] for d in dataset]\n",
    "print('MSE with Pearson similarity is:', MSE(simPredictions, labels))\n"
   ]
  },
  {
   "cell_type": "code",
   "execution_count": null,
   "metadata": {
    "id": "MkNlFEHZLDRE"
   },
   "outputs": [],
   "source": []
  }
 ],
 "metadata": {
  "colab": {
   "collapsed_sections": [],
   "name": "Final_Project v2.ipynb",
   "provenance": []
  },
  "kernelspec": {
   "display_name": "Python 3",
   "language": "python",
   "name": "python3"
  },
  "language_info": {
   "codemirror_mode": {
    "name": "ipython",
    "version": 3
   },
   "file_extension": ".py",
   "mimetype": "text/x-python",
   "name": "python",
   "nbconvert_exporter": "python",
   "pygments_lexer": "ipython3",
   "version": "3.8.5"
  }
 },
 "nbformat": 4,
 "nbformat_minor": 4
}
