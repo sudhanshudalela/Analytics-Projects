{
 "cells": [
  {
   "cell_type": "markdown",
   "metadata": {},
   "source": [
    "# Group Project (MGTA - 415)"
   ]
  },
  {
   "cell_type": "code",
   "execution_count": 2,
   "metadata": {},
   "outputs": [],
   "source": [
    "import numpy as np\n",
    "import pandas as pd\n",
    "import gzip\n",
    "import json\n",
    "import os\n",
    "import itertools\n",
    "import string\n",
    "from collections import Counter\n",
    "from nltk import word_tokenize\n",
    "from nltk.corpus import stopwords\n",
    "from gensim.models import word2vec\n",
    "from sklearn.linear_model import LogisticRegression\n",
    "from sklearn.linear_model import LinearRegression\n",
    "from sklearn.metrics import f1_score, make_scorer, accuracy_score, classification_report, roc_auc_score, mean_squared_error\n",
    "from sklearn.model_selection import GridSearchCV\n",
    "from gensim.test.utils import get_tmpfile\n",
    "from gensim.models import KeyedVectors\n",
    "from gensim.scripts.glove2word2vec import glove2word2vec\n",
    "from sklearn.model_selection import train_test_split\n",
    "import time\n",
    "import seaborn as sns\n",
    "import matplotlib.pyplot as plt\n",
    "import spacy"
   ]
  },
  {
   "cell_type": "markdown",
   "metadata": {},
   "source": [
    "## Reading and converting data into features with Explaratory data analysis\n",
    "\n",
    "*Objective of Exploratory Analysis is to remove data rows that have NAs, remove any outliers and clean data for modelling purposes.*"
   ]
  },
  {
   "cell_type": "code",
   "execution_count": 3,
   "metadata": {},
   "outputs": [],
   "source": [
    "path = \"renttherunway_final_data.json.gz\"\n",
    "review_data = []\n",
    "with gzip.open(path,'rb') as file:\n",
    "    for line in file:\n",
    "        row_data = json.loads(line)\n",
    "        review_data.append(row_data)"
   ]
  },
  {
   "cell_type": "code",
   "execution_count": 4,
   "metadata": {},
   "outputs": [
    {
     "data": {
      "text/html": [
       "<div>\n",
       "<style scoped>\n",
       "    .dataframe tbody tr th:only-of-type {\n",
       "        vertical-align: middle;\n",
       "    }\n",
       "\n",
       "    .dataframe tbody tr th {\n",
       "        vertical-align: top;\n",
       "    }\n",
       "\n",
       "    .dataframe thead th {\n",
       "        text-align: right;\n",
       "    }\n",
       "</style>\n",
       "<table border=\"1\" class=\"dataframe\">\n",
       "  <thead>\n",
       "    <tr style=\"text-align: right;\">\n",
       "      <th></th>\n",
       "      <th>fit</th>\n",
       "      <th>user_id</th>\n",
       "      <th>bust size</th>\n",
       "      <th>item_id</th>\n",
       "      <th>weight</th>\n",
       "      <th>rating</th>\n",
       "      <th>rented for</th>\n",
       "      <th>review_text</th>\n",
       "      <th>body type</th>\n",
       "      <th>review_summary</th>\n",
       "      <th>category</th>\n",
       "      <th>height</th>\n",
       "      <th>size</th>\n",
       "      <th>age</th>\n",
       "      <th>review_date</th>\n",
       "    </tr>\n",
       "  </thead>\n",
       "  <tbody>\n",
       "    <tr>\n",
       "      <th>0</th>\n",
       "      <td>fit</td>\n",
       "      <td>420272</td>\n",
       "      <td>34d</td>\n",
       "      <td>2260466</td>\n",
       "      <td>137lbs</td>\n",
       "      <td>10</td>\n",
       "      <td>vacation</td>\n",
       "      <td>An adorable romper! Belt and zipper were a lit...</td>\n",
       "      <td>hourglass</td>\n",
       "      <td>So many compliments!</td>\n",
       "      <td>romper</td>\n",
       "      <td>5' 8\"</td>\n",
       "      <td>14</td>\n",
       "      <td>28</td>\n",
       "      <td>April 20, 2016</td>\n",
       "    </tr>\n",
       "    <tr>\n",
       "      <th>1</th>\n",
       "      <td>fit</td>\n",
       "      <td>273551</td>\n",
       "      <td>34b</td>\n",
       "      <td>153475</td>\n",
       "      <td>132lbs</td>\n",
       "      <td>10</td>\n",
       "      <td>other</td>\n",
       "      <td>I rented this dress for a photo shoot. The the...</td>\n",
       "      <td>straight &amp; narrow</td>\n",
       "      <td>I felt so glamourous!!!</td>\n",
       "      <td>gown</td>\n",
       "      <td>5' 6\"</td>\n",
       "      <td>12</td>\n",
       "      <td>36</td>\n",
       "      <td>June 18, 2013</td>\n",
       "    </tr>\n",
       "    <tr>\n",
       "      <th>2</th>\n",
       "      <td>fit</td>\n",
       "      <td>360448</td>\n",
       "      <td>NaN</td>\n",
       "      <td>1063761</td>\n",
       "      <td>NaN</td>\n",
       "      <td>10</td>\n",
       "      <td>party</td>\n",
       "      <td>This hugged in all the right places! It was a ...</td>\n",
       "      <td>NaN</td>\n",
       "      <td>It was a great time to celebrate the (almost) ...</td>\n",
       "      <td>sheath</td>\n",
       "      <td>5' 4\"</td>\n",
       "      <td>4</td>\n",
       "      <td>116</td>\n",
       "      <td>December 14, 2015</td>\n",
       "    </tr>\n",
       "    <tr>\n",
       "      <th>3</th>\n",
       "      <td>fit</td>\n",
       "      <td>909926</td>\n",
       "      <td>34c</td>\n",
       "      <td>126335</td>\n",
       "      <td>135lbs</td>\n",
       "      <td>8</td>\n",
       "      <td>formal affair</td>\n",
       "      <td>I rented this for my company's black tie award...</td>\n",
       "      <td>pear</td>\n",
       "      <td>Dress arrived on time and in perfect condition.</td>\n",
       "      <td>dress</td>\n",
       "      <td>5' 5\"</td>\n",
       "      <td>8</td>\n",
       "      <td>34</td>\n",
       "      <td>February 12, 2014</td>\n",
       "    </tr>\n",
       "    <tr>\n",
       "      <th>4</th>\n",
       "      <td>fit</td>\n",
       "      <td>151944</td>\n",
       "      <td>34b</td>\n",
       "      <td>616682</td>\n",
       "      <td>145lbs</td>\n",
       "      <td>10</td>\n",
       "      <td>wedding</td>\n",
       "      <td>I have always been petite in my upper body and...</td>\n",
       "      <td>athletic</td>\n",
       "      <td>Was in love with this dress !!!</td>\n",
       "      <td>gown</td>\n",
       "      <td>5' 9\"</td>\n",
       "      <td>12</td>\n",
       "      <td>27</td>\n",
       "      <td>September 26, 2016</td>\n",
       "    </tr>\n",
       "  </tbody>\n",
       "</table>\n",
       "</div>"
      ],
      "text/plain": [
       "   fit user_id bust size  item_id  weight rating     rented for  \\\n",
       "0  fit  420272       34d  2260466  137lbs     10       vacation   \n",
       "1  fit  273551       34b   153475  132lbs     10          other   \n",
       "2  fit  360448       NaN  1063761     NaN     10          party   \n",
       "3  fit  909926       34c   126335  135lbs      8  formal affair   \n",
       "4  fit  151944       34b   616682  145lbs     10        wedding   \n",
       "\n",
       "                                         review_text          body type  \\\n",
       "0  An adorable romper! Belt and zipper were a lit...          hourglass   \n",
       "1  I rented this dress for a photo shoot. The the...  straight & narrow   \n",
       "2  This hugged in all the right places! It was a ...                NaN   \n",
       "3  I rented this for my company's black tie award...               pear   \n",
       "4  I have always been petite in my upper body and...           athletic   \n",
       "\n",
       "                                      review_summary category height  size  \\\n",
       "0                               So many compliments!   romper  5' 8\"    14   \n",
       "1                            I felt so glamourous!!!     gown  5' 6\"    12   \n",
       "2  It was a great time to celebrate the (almost) ...   sheath  5' 4\"     4   \n",
       "3   Dress arrived on time and in perfect condition.     dress  5' 5\"     8   \n",
       "4                    Was in love with this dress !!!     gown  5' 9\"    12   \n",
       "\n",
       "   age         review_date  \n",
       "0   28      April 20, 2016  \n",
       "1   36       June 18, 2013  \n",
       "2  116   December 14, 2015  \n",
       "3   34   February 12, 2014  \n",
       "4   27  September 26, 2016  "
      ]
     },
     "execution_count": 4,
     "metadata": {},
     "output_type": "execute_result"
    }
   ],
   "source": [
    "data = pd.DataFrame(review_data)\n",
    "data.head(5)"
   ]
  },
  {
   "cell_type": "code",
   "execution_count": 5,
   "metadata": {},
   "outputs": [
    {
     "data": {
      "text/plain": [
       "fit               object\n",
       "user_id           object\n",
       "bust size         object\n",
       "item_id           object\n",
       "weight            object\n",
       "rating            object\n",
       "rented for        object\n",
       "review_text       object\n",
       "body type         object\n",
       "review_summary    object\n",
       "category          object\n",
       "height            object\n",
       "size               int64\n",
       "age               object\n",
       "review_date       object\n",
       "dtype: object"
      ]
     },
     "execution_count": 5,
     "metadata": {},
     "output_type": "execute_result"
    }
   ],
   "source": [
    "# Check the datatypes\n",
    "data.dtypes"
   ]
  },
  {
   "cell_type": "code",
   "execution_count": 6,
   "metadata": {},
   "outputs": [
    {
     "data": {
      "text/plain": [
       "fit                   0\n",
       "user_id               0\n",
       "bust size         18411\n",
       "item_id               0\n",
       "weight            29982\n",
       "rating               82\n",
       "rented for           10\n",
       "review_text           0\n",
       "body type         14637\n",
       "review_summary        0\n",
       "category              0\n",
       "height              677\n",
       "size                  0\n",
       "age                 960\n",
       "review_date           0\n",
       "dtype: int64"
      ]
     },
     "execution_count": 6,
     "metadata": {},
     "output_type": "execute_result"
    }
   ],
   "source": [
    "# check rows with na value\n",
    "data.isna().sum()"
   ]
  },
  {
   "cell_type": "code",
   "execution_count": 7,
   "metadata": {},
   "outputs": [
    {
     "data": {
      "text/plain": [
       "(146381, 15)"
      ]
     },
     "execution_count": 7,
     "metadata": {},
     "output_type": "execute_result"
    }
   ],
   "source": [
    "# dropping all rows missing values for any of the features\n",
    "\n",
    "data = data.dropna()\n",
    "data = data.reset_index(drop = True)\n",
    "data.shape"
   ]
  },
  {
   "cell_type": "code",
   "execution_count": 8,
   "metadata": {},
   "outputs": [],
   "source": [
    "# Change the data types\n",
    "data['fit'] = data['fit'].astype('category')\n",
    "data['user_id'] = data['user_id'].astype(np.int64)\n",
    "data['bust size'] = data['bust size'].astype(str)\n",
    "data['item_id'] = data['item_id'].astype(np.int64)\n",
    "data['weight'] = data['weight'].astype(str)\n",
    "data['rating'] = data['rating'].astype(np.float64)\n",
    "data['rented for'] = data['rented for'].astype('category')\n",
    "data['review_text'] = data['review_text'].astype(str)\n",
    "data['body type'] = data['body type'].astype('category')\n",
    "data['review_summary'] = data['review_summary'].astype(str)\n",
    "data['category'] = data['category'].astype('category')\n",
    "data['height'] = data['height'].astype(str)\n",
    "data['size'] = data['size'].astype(np.int32)\n",
    "data['age'] = data['age'].astype(np.float64)\n",
    "data['review_date'] = data['review_date'].astype(str)"
   ]
  },
  {
   "cell_type": "markdown",
   "metadata": {},
   "source": [
    "### Check the distribution of the data"
   ]
  },
  {
   "cell_type": "markdown",
   "metadata": {},
   "source": [
    "##### Bust size has two fields - one is the numerical value and the other is an alphabet or a combination of alphabets and special characters. Hence we are breaking this in to two fields (numerical and categorical)"
   ]
  },
  {
   "cell_type": "code",
   "execution_count": 9,
   "metadata": {},
   "outputs": [
    {
     "data": {
      "image/png": "[encoded data removed]",
      "text/plain": [
       "<Figure size 360x360 with 1 Axes>"
      ]
     },
     "metadata": {
      "needs_background": "light"
     },
     "output_type": "display_data"
    },
    {
     "name": "stdout",
     "output_type": "stream",
     "text": [
      "Number of Unique Categories for Bust Size: 101\n"
     ]
    }
   ],
   "source": [
    "# Distribution plot for Bust size\n",
    "plt.figure(figsize=(5,5))\n",
    "ax = sns.countplot(x=\"bust size\", data=data, order = data['bust size'].value_counts().index)\n",
    "ax.set_xticklabels(ax.get_xticklabels(), rotation=90, ha=\"right\")\n",
    "ax.set_xlim(left = 0, right = 30)\n",
    "plt.tight_layout()\n",
    "plt.show()\n",
    "\n",
    "# Total categories\n",
    "print('Number of Unique Categories for Bust Size:', len(set(data['bust size'])))"
   ]
  },
  {
   "cell_type": "code",
   "execution_count": 10,
   "metadata": {},
   "outputs": [],
   "source": [
    "# Convert bust size into 2 variables\n",
    "data['bust_inch'] = [d[:2] for d in data['bust size']]\n",
    "data['bust_alphabet'] = [d[2:].strip() for d in data['bust size']]\n",
    "data['bust_alphabet'] = data['bust_alphabet'].astype('category')"
   ]
  },
  {
   "cell_type": "markdown",
   "metadata": {},
   "source": [
    "#### Weight - the numerical value is extracted and only that value is used."
   ]
  },
  {
   "cell_type": "code",
   "execution_count": 11,
   "metadata": {},
   "outputs": [],
   "source": [
    "# converting weights into numeric\n",
    "data['weight'] = [d.replace('lbs', '') for d in data['weight']]\n",
    "data['weight'] = data['weight'].astype(np.float64)"
   ]
  },
  {
   "cell_type": "code",
   "execution_count": 12,
   "metadata": {},
   "outputs": [
    {
     "data": {
      "image/png": "[encoded data removed]",
      "text/plain": [
       "<Figure size 864x288 with 1 Axes>"
      ]
     },
     "metadata": {
      "needs_background": "light"
     },
     "output_type": "display_data"
    },
    {
     "data": {
      "text/plain": [
       "Weight (50-75 lb)          7\n",
       "Weight (275-300 lb)       29\n",
       "Weight (250-275 lb)      205\n",
       "Weight (225-250 lb)      476\n",
       "Weight (75-100 lb)       647\n",
       "Weight (200-225 lb)     1892\n",
       "Weight (175-200 lb)     6373\n",
       "Weight (150-175 lb)    27172\n",
       "Weight (100-125 lb)    37021\n",
       "Weight (125-150 lb)    72559\n",
       "Name: weight_bin, dtype: int64"
      ]
     },
     "execution_count": 12,
     "metadata": {},
     "output_type": "execute_result"
    }
   ],
   "source": [
    "def binning_operation(value):\n",
    "    if value >= 50 and value < 75:\n",
    "        column_value = 'Weight (50-75 lb)'\n",
    "    elif value >= 75 and value < 100:\n",
    "        column_value = 'Weight (75-100 lb)'\n",
    "    elif value >= 100 and value < 125:\n",
    "        column_value = 'Weight (100-125 lb)'\n",
    "    elif value >= 125 and value < 150:\n",
    "        column_value = 'Weight (125-150 lb)'\n",
    "    elif value >= 150 and value < 175:\n",
    "        column_value = 'Weight (150-175 lb)'\n",
    "    elif value >= 175 and value < 200:\n",
    "        column_value = 'Weight (175-200 lb)'\n",
    "    elif value >= 200 and value < 225:\n",
    "        column_value = 'Weight (200-225 lb)'\n",
    "    elif value >= 225 and value < 250:\n",
    "        column_value = 'Weight (225-250 lb)'\n",
    "    elif value >= 250 and value < 275:\n",
    "        column_value = 'Weight (250-275 lb)'\n",
    "    elif value >= 275 and value <= 300:\n",
    "        column_value = 'Weight (275-300 lb)'\n",
    "    \n",
    "    return column_value\n",
    "\n",
    "\n",
    "data['weight_bin'] = data['weight'].apply(binning_operation)\n",
    "order_list = ['Weight (50-75 lb)', 'Weight (75-100 lb)', 'Weight (100-125 lb)', 'Weight (125-150 lb)',\n",
    "              'Weight (150-175 lb)', 'Weight (175-200 lb)', 'Weight (175-200 lb)', 'Weight (200-225 lb)',\n",
    "              'Weight (225-250 lb)', 'Weight (250-275 lb)', 'Weight (275-300 lb)']\n",
    "\n",
    "# Plot the distribution\n",
    "plt.figure(figsize=(12,4))\n",
    "ax = sns.countplot(x=\"weight_bin\", data=data, order = order_list)\n",
    "ax.set_xticklabels(ax.get_xticklabels(), rotation=45, ha=\"right\")\n",
    "plt.show()\n",
    "\n",
    "# Print the count\n",
    "data['weight_bin'].value_counts(ascending = True)"
   ]
  },
  {
   "cell_type": "markdown",
   "metadata": {},
   "source": [
    "#### Rating - this is our response variable, we treat it as numerical variable"
   ]
  },
  {
   "cell_type": "code",
   "execution_count": 13,
   "metadata": {},
   "outputs": [
    {
     "name": "stdout",
     "output_type": "stream",
     "text": [
      "10.0    94291\n",
      "8.0     40761\n",
      "6.0      8341\n",
      "4.0      2205\n",
      "2.0       783\n",
      "Name: rating, dtype: int64\n",
      "\n",
      "\n"
     ]
    },
    {
     "data": {
      "image/png": "[encoded data removed]",
      "text/plain": [
       "<Figure size 576x288 with 1 Axes>"
      ]
     },
     "metadata": {
      "needs_background": "light"
     },
     "output_type": "display_data"
    }
   ],
   "source": [
    "## ratings\n",
    "print(data['rating'].value_counts(dropna=False))\n",
    "print(\"\")\n",
    "print(\"\")\n",
    "plt.figure(figsize=(8,4))\n",
    "ax = sns.countplot(x=\"rating\", data=data, order = data['rating'].value_counts().index)\n",
    "ax.set_xticklabels(ax.get_xticklabels(), rotation=0, ha=\"right\")\n",
    "plt.tight_layout()\n",
    "plt.show()"
   ]
  },
  {
   "cell_type": "markdown",
   "metadata": {},
   "source": [
    "#### Rented for is a categorical variable. Here we remove the occasion 'party: cocktail' as it only has one value"
   ]
  },
  {
   "cell_type": "code",
   "execution_count": 14,
   "metadata": {},
   "outputs": [
    {
     "data": {
      "image/png": "[encoded data removed]",
      "text/plain": [
       "<Figure size 360x360 with 1 Axes>"
      ]
     },
     "metadata": {
      "needs_background": "light"
     },
     "output_type": "display_data"
    },
    {
     "data": {
      "text/plain": [
       "wedding            42622\n",
       "formal affair      30496\n",
       "party              27198\n",
       "everyday           13263\n",
       "work               12124\n",
       "other              11510\n",
       "date                5929\n",
       "vacation            3238\n",
       "party: cocktail        1\n",
       "Name: rented for, dtype: int64"
      ]
     },
     "execution_count": 14,
     "metadata": {},
     "output_type": "execute_result"
    }
   ],
   "source": [
    "# Plot Distribution for 'rented for'\n",
    "\n",
    "plt.figure(figsize=(5,5))\n",
    "ax = sns.countplot(x=\"rented for\", data=data, order = data['rented for'].value_counts().index)\n",
    "ax.set_xticklabels(ax.get_xticklabels(), rotation=40, ha=\"right\")\n",
    "plt.tight_layout()\n",
    "plt.show()\n",
    "\n",
    "# Count Table\n",
    "data['rented for'].value_counts()"
   ]
  },
  {
   "cell_type": "code",
   "execution_count": 15,
   "metadata": {},
   "outputs": [],
   "source": [
    "# removing one the rented for entry because it is an outlier\n",
    "data = data[data['rented for'] != 'party: cocktail']"
   ]
  },
  {
   "cell_type": "markdown",
   "metadata": {},
   "source": [
    "#### body type - categorical variable"
   ]
  },
  {
   "cell_type": "code",
   "execution_count": 16,
   "metadata": {},
   "outputs": [
    {
     "name": "stdout",
     "output_type": "stream",
     "text": [
      "hourglass            43982\n",
      "athletic             37518\n",
      "petite               19357\n",
      "pear                 18051\n",
      "straight & narrow    12866\n",
      "full bust            10797\n",
      "apple                 3809\n",
      "Name: body type, dtype: int64\n"
     ]
    },
    {
     "data": {
      "image/png": "[encoded data removed]",
      "text/plain": [
       "<Figure size 360x360 with 1 Axes>"
      ]
     },
     "metadata": {
      "needs_background": "light"
     },
     "output_type": "display_data"
    }
   ],
   "source": [
    "print(data['body type'].value_counts(dropna=False))\n",
    "plt.figure(figsize=(5,5))\n",
    "ax = sns.countplot(x=\"body type\", data=data, order = data['body type'].value_counts().index)\n",
    "ax.set_xticklabels(ax.get_xticklabels(), rotation=40, ha=\"right\")\n",
    "#ax.set_xlim(left = 0, right = 50)\n",
    "plt.tight_layout()\n",
    "plt.show()"
   ]
  },
  {
   "cell_type": "markdown",
   "metadata": {},
   "source": [
    "#### category - categorical variable"
   ]
  },
  {
   "cell_type": "code",
   "execution_count": 17,
   "metadata": {},
   "outputs": [
    {
     "name": "stdout",
     "output_type": "stream",
     "text": [
      "dress           70473\n",
      "gown            33278\n",
      "sheath          14691\n",
      "shift            4039\n",
      "jumpsuit         4019\n",
      "                ...  \n",
      "sweatershirt        3\n",
      "buttondown          1\n",
      "crewneck            1\n",
      "sweatpants          1\n",
      "overcoat            1\n",
      "Name: category, Length: 68, dtype: int64\n"
     ]
    },
    {
     "data": {
      "image/png": "[encoded data removed]",
      "text/plain": [
       "<Figure size 1152x360 with 1 Axes>"
      ]
     },
     "metadata": {
      "needs_background": "light"
     },
     "output_type": "display_data"
    }
   ],
   "source": [
    "print(data['category'].value_counts(dropna=False))\n",
    "plt.figure(figsize=(16,5))\n",
    "ax = sns.countplot(x=\"category\", data=data, order = data['category'].value_counts().index)\n",
    "ax.set_xticklabels(ax.get_xticklabels(), rotation=90, ha=\"right\")\n",
    "#ax.set_xlim(left = 0, right = 50)\n",
    "plt.tight_layout()\n",
    "plt.show()"
   ]
  },
  {
   "cell_type": "markdown",
   "metadata": {},
   "source": [
    "#### Height - this variable is converted in to inches"
   ]
  },
  {
   "cell_type": "code",
   "execution_count": 18,
   "metadata": {},
   "outputs": [
    {
     "data": {
      "text/plain": [
       "<seaborn.axisgrid.FacetGrid at 0x7f1dc89e8490>"
      ]
     },
     "execution_count": 18,
     "metadata": {},
     "output_type": "execute_result"
    },
    {
     "data": {
      "text/plain": [
       "<Figure size 1440x1440 with 0 Axes>"
      ]
     },
     "metadata": {},
     "output_type": "display_data"
    },
    {
     "data": {
      "image/png": "[encoded data removed]",
      "text/plain": [
       "<Figure size 360x360 with 1 Axes>"
      ]
     },
     "metadata": {
      "needs_background": "light"
     },
     "output_type": "display_data"
    }
   ],
   "source": [
    "# converting height into numeric\n",
    "data['height'] = [int(d.split('\\' ')[0])*12 + int(d.split('\\' ')[1].split(\"\\\"\")[0]) for d in data['height']]\n",
    "\n",
    "# Plot distribution for height\n",
    "plt.figure(figsize=(20,20))\n",
    "sns.displot(data['height'], kde=True)"
   ]
  },
  {
   "cell_type": "markdown",
   "metadata": {},
   "source": [
    "#### Size - this is a numeric variable"
   ]
  },
  {
   "cell_type": "code",
   "execution_count": 19,
   "metadata": {},
   "outputs": [
    {
     "data": {
      "text/plain": [
       "<seaborn.axisgrid.FacetGrid at 0x7f1dc8b0b340>"
      ]
     },
     "execution_count": 19,
     "metadata": {},
     "output_type": "execute_result"
    },
    {
     "data": {
      "text/plain": [
       "<Figure size 1440x1440 with 0 Axes>"
      ]
     },
     "metadata": {},
     "output_type": "display_data"
    },
    {
     "data": {
      "image/png": "[encoded data removed]",
      "text/plain": [
       "<Figure size 360x360 with 1 Axes>"
      ]
     },
     "metadata": {
      "needs_background": "light"
     },
     "output_type": "display_data"
    }
   ],
   "source": [
    "# Plot distribution for size\n",
    "plt.figure(figsize=(20,20))\n",
    "sns.displot(data['size'], kde=True)"
   ]
  },
  {
   "cell_type": "markdown",
   "metadata": {},
   "source": [
    "#### Age - this is a numeric variable (only ages greater than zero and less than equal to 80 are considered)"
   ]
  },
  {
   "cell_type": "code",
   "execution_count": 20,
   "metadata": {},
   "outputs": [
    {
     "data": {
      "image/png": "[encoded data removed]",
      "text/plain": [
       "<Figure size 360x360 with 1 Axes>"
      ]
     },
     "metadata": {
      "needs_background": "light"
     },
     "output_type": "display_data"
    }
   ],
   "source": [
    "# Plot Distribution for Age\n",
    "\n",
    "plt.figure(figsize = (5,5))\n",
    "plt.hist(data['age'], bins = 50)\n",
    "plt.xlim(0, 120)\n",
    "plt.show()"
   ]
  },
  {
   "cell_type": "code",
   "execution_count": 21,
   "metadata": {},
   "outputs": [],
   "source": [
    "# restricting the age to more than 0 and less than 80\n",
    "data = data[np.logical_and(data.age > 0, data.age <= 80)]"
   ]
  },
  {
   "cell_type": "markdown",
   "metadata": {},
   "source": [
    "#### Additional data fields included are as below"
   ]
  },
  {
   "cell_type": "code",
   "execution_count": 22,
   "metadata": {},
   "outputs": [],
   "source": [
    "# converting time into unix format\n",
    "data['review_date_converted'] = [time.mktime(time.strptime(d, '%B %d, %Y')) for d in data['review_date']]\n",
    "\n",
    "# combining text fields review summary and review text\n",
    "data[\"text\"] = data['review_summary'] + ' ' + data['review_text']\n",
    "\n",
    "# getting the length of review\n",
    "data[\"text_length\"] = [len(d) for d in data[\"text\"]]"
   ]
  },
  {
   "cell_type": "code",
   "execution_count": 23,
   "metadata": {},
   "outputs": [
    {
     "data": {
      "text/plain": [
       "(146289, 21)"
      ]
     },
     "execution_count": 23,
     "metadata": {},
     "output_type": "execute_result"
    }
   ],
   "source": [
    "data.shape"
   ]
  },
  {
   "cell_type": "code",
   "execution_count": 24,
   "metadata": {},
   "outputs": [
    {
     "data": {
      "text/plain": [
       "Index(['fit', 'user_id', 'bust size', 'item_id', 'weight', 'rating',\n",
       "       'rented for', 'review_text', 'body type', 'review_summary', 'category',\n",
       "       'height', 'size', 'age', 'review_date', 'bust_inch', 'bust_alphabet',\n",
       "       'weight_bin', 'review_date_converted', 'text', 'text_length'],\n",
       "      dtype='object')"
      ]
     },
     "execution_count": 24,
     "metadata": {},
     "output_type": "execute_result"
    }
   ],
   "source": [
    "data.columns"
   ]
  },
  {
   "cell_type": "code",
   "execution_count": 25,
   "metadata": {},
   "outputs": [],
   "source": [
    "# A function used to build a vocabulary based on descending word frequencies \n",
    "def build_vocab(sentences):\n",
    "    # Build vocabulary\n",
    "    word_counts = Counter(itertools.chain(*sentences))\n",
    "    # Mapping from index to word\n",
    "    vocabulary_inv = [x[0] for x in word_counts.most_common()]\n",
    "    # Mapping from word to index\n",
    "    vocabulary = {x: i for i, x in enumerate(vocabulary_inv)}\n",
    "    return word_counts, vocabulary, vocabulary_inv\n",
    "\n",
    "\n",
    "# A function used to learn word embeddings through Word2vec module\n",
    "def get_embeddings(inp_data, vocabulary_inv, size_features=100, mode='skipgram', min_word_count=2, context=5, model='word2vec'):\n",
    "    model_name = \"embedding\"\n",
    "    model_name = os.path.join(model_name)\n",
    "\n",
    "    if model == 'word2vec':\n",
    "        num_workers = 15  # Number of threads to run in parallel\n",
    "        downsampling = 1e-3  # Downsample setting for frequent words\n",
    "        print('Training Word2Vec model...')\n",
    "        # use inp_data and vocabulary_inv to reconstruct sentences\n",
    "        sentences = [[vocabulary_inv[w] for w in s] for s in inp_data]\n",
    "        if mode == 'skipgram':\n",
    "            sg = 1\n",
    "            print('Model: skip-gram')\n",
    "        elif mode == 'cbow':\n",
    "            sg = 0\n",
    "            print('Model: CBOW')\n",
    "        embedding_model = word2vec.Word2Vec(sentences, workers=num_workers,\n",
    "                                            sg=sg,\n",
    "                                            vector_size=size_features,\n",
    "                                            min_count=min_word_count,\n",
    "                                            window=context,\n",
    "                                            sample=downsampling)\n",
    "        print(\"Saving Word2Vec model {}\".format(model_name))\n",
    "        embedding_weights = np.zeros((len(vocabulary_inv), size_features))\n",
    "        for i in range(len(vocabulary_inv)):\n",
    "            word = vocabulary_inv[i]\n",
    "            if word in embedding_model.wv:\n",
    "                embedding_weights[i] = embedding_model.wv[word]\n",
    "            else:\n",
    "                embedding_weights[i] = np.random.uniform(-0.25, 0.25, embedding_model.vector_size)\n",
    "        return embedding_weights\n",
    "    elif model == 'glove':\n",
    "        size_features = 300\n",
    "        glove_file = \"glove.6B.300d.txt\"\n",
    "        tmp_file = get_tmpfile(\"test_word2vec.txt\")\n",
    "\n",
    "        _ = glove2word2vec(glove_file, tmp_file)\n",
    "\n",
    "        glv_model = KeyedVectors.load_word2vec_format(tmp_file)\n",
    "        print('Training GloVe model...')\n",
    "        embedding_model = glv_model\n",
    "        print(\"Saving GloVe model {}\".format(model_name))\n",
    "        embedding_weights = np.zeros((len(vocabulary_inv), size_features))\n",
    "        for i in range(len(vocabulary_inv)):\n",
    "            word = vocabulary_inv[i]\n",
    "            if word in embedding_model:\n",
    "                embedding_weights[i] = embedding_model[word]\n",
    "            else:\n",
    "                embedding_weights[i] = np.random.uniform(-0.25, 0.25, embedding_model.vector_size)\n",
    "        return embedding_weights\n",
    "    return -1\n",
    "\n",
    "def preprocess_df(df):\n",
    "    # get English stopwords\n",
    "    en = spacy.load('en_core_web_sm')\n",
    "    sw_spacy = en.Defaults.stop_words\n",
    "    stop_words = set(sw_spacy)\n",
    "    translator = str.maketrans(string.punctuation, ' ' * len(string.punctuation))\n",
    "    preprocessed_sentences = []\n",
    "    for i, row in df.iterrows():\n",
    "        sent = row[\"text\"].lower()\n",
    "        sent_nopuncts = sent.translate(translator)\n",
    "        words_list = sent_nopuncts.strip().split()\n",
    "        filtered_words = [word for word in words_list if word not in stop_words and len(word) != 1] # also skip space from above translation\n",
    "        preprocessed_sentences.append(\" \".join(filtered_words))\n",
    "    df[\"text\"] = preprocessed_sentences\n",
    "    return df"
   ]
  },
  {
   "cell_type": "markdown",
   "metadata": {},
   "source": [
    "#### Data was further cleaned up post embedding to reomve entries with the 'text' field length to be greater than two."
   ]
  },
  {
   "cell_type": "code",
   "execution_count": 25,
   "metadata": {},
   "outputs": [],
   "source": [
    "data = preprocess_df(data)\n",
    "\n",
    "# removing empty review columns\n",
    "data = data[data['text'].apply(lambda x: len(x) > 2)]"
   ]
  },
  {
   "cell_type": "markdown",
   "metadata": {},
   "source": [
    "### Word2Vec Model - min_word_count = 2, context = 10, mode = skipgram\n",
    "\n",
    "### Logistic regression with max_iteration = 100000000, C = 0.001"
   ]
  },
  {
   "cell_type": "code",
   "execution_count": 26,
   "metadata": {},
   "outputs": [],
   "source": [
    "data['rating'] = data['rating'].astype('int')\n",
    "\n",
    "X = data[['fit', 'weight', 'rented for', 'body type', 'category', \n",
    "            'height', 'size', 'age', 'text', 'bust_inch', \n",
    "            'bust_alphabet', 'review_date_converted', 'text_length']]\n",
    "y = data['rating'].values\n",
    "\n",
    "\n",
    "X = pd.get_dummies(X, columns = ['fit','rented for','body type', 'bust_alphabet', 'category'], drop_first=True)\n",
    "#y = pd.get_dummies(y, columns=['rating'], drop_first=True)\n",
    "\n",
    "X_train, X_test, y_train, y_test = train_test_split(X, y, test_size=0.2, random_state=42)"
   ]
  },
  {
   "cell_type": "code",
   "execution_count": 28,
   "metadata": {},
   "outputs": [
    {
     "name": "stdout",
     "output_type": "stream",
     "text": [
      "Training Word2Vec model...\n",
      "Model: skip-gram\n",
      "Saving Word2Vec model embedding\n"
     ]
    }
   ],
   "source": [
    "# tokenization \n",
    "tagged_data = [word_tokenize(_d) for i, _d in enumerate(X_train[\"text\"])]\n",
    "\n",
    "# build vocabulary from tokenized data\n",
    "word_counts, vocabulary, vocabulary_inv = build_vocab(tagged_data)\n",
    "\n",
    "# use the above mapping to create input data\n",
    "inp_data = [[vocabulary[word] for word in text] for text in tagged_data]\n",
    "\n",
    "# get embedding vector\n",
    "embedding_weights = get_embeddings(inp_data, vocabulary_inv, mode='skipgram', min_word_count=2, context=10)\n",
    "tagged_train_data = [word_tokenize(_d) for i, _d in enumerate(X_train[\"text\"])]\n",
    "tagged_test_data = [word_tokenize(_d) for i, _d in enumerate(X_test[\"text\"])]"
   ]
  },
  {
   "cell_type": "code",
   "execution_count": 29,
   "metadata": {},
   "outputs": [],
   "source": [
    "# Removing text field from the columns to get other features\n",
    "cols_list = X.columns.tolist()\n",
    "cols_list.pop(4)\n",
    "\n",
    "def feature(d):\n",
    "    feat = []\n",
    "    for col in cols_list:\n",
    "        feat.append(d[col])\n",
    "    return feat"
   ]
  },
  {
   "cell_type": "code",
   "execution_count": 30,
   "metadata": {},
   "outputs": [],
   "source": [
    "train_vec = []\n",
    "for doc in tagged_train_data:\n",
    "    vec = 0\n",
    "    for w in doc:\n",
    "        vec += embedding_weights[vocabulary[w]]\n",
    "    vec = vec / len(doc)\n",
    "    train_vec.append(vec)\n",
    "train_vec = [v.tolist() for v in train_vec]\n",
    "train_data_features = [feature(d) for _, d in X_train.iterrows()]\n",
    "train_data_final = [train_data_features[s] + train_vec[s] for s in range(len(train_data_features))]\n",
    "\n",
    "\n",
    "test_vec = []\n",
    "for doc in tagged_test_data:\n",
    "    vec = 0\n",
    "    length = 0\n",
    "    for w in doc:\n",
    "        try:\n",
    "            vec += embedding_weights[vocabulary[w]]\n",
    "            length += 1\n",
    "        except:\n",
    "            vec = np.zeros((100, ), dtype=np.float64)\n",
    "            continue\n",
    "    if length != 0:\n",
    "        vec = vec / length\n",
    "    test_vec.append(vec)\n",
    "test_vec = [v1.tolist() for v1 in test_vec]\n",
    "test_data_features = [feature(d) for _, d in X_test.iterrows()]\n",
    "test_data_final = [test_data_features[s] + test_vec[s] for s in range(len(test_data_features))]"
   ]
  },
  {
   "cell_type": "code",
   "execution_count": null,
   "metadata": {},
   "outputs": [],
   "source": [
    "# COMMENTED ON PURPOSE, BEST C = 0.001\n",
    "\n",
    "#param_grid = [\n",
    "#    {\n",
    "#        'C' : [0.001, 0.01, 0.1, 1, 10, 100]\n",
    "#    }\n",
    "#]\n",
    "#clf = GridSearchCV(LogisticRegression(max_iter=100000000), param_grid = param_grid, cv = 5, n_jobs=-1, scoring='accuracy', verbose=10).fit(train_data_final, y_train.values.ravel())\n",
    "#print(clf.best_params_, clf.best_score_)"
   ]
  },
  {
   "cell_type": "code",
   "execution_count": 31,
   "metadata": {},
   "outputs": [
    {
     "name": "stderr",
     "output_type": "stream",
     "text": [
      "/usr/local/lib/python3.8/dist-packages/sklearn/utils/validation.py:63: FutureWarning: Arrays of bytes/strings is being converted to decimal numbers if dtype='numeric'. This behavior is deprecated in 0.24 and will be removed in 1.1 (renaming of 0.26). Please convert your data to numeric values explicitly instead.\n",
      "  return f(*args, **kwargs)\n"
     ]
    },
    {
     "name": "stdout",
     "output_type": "stream",
     "text": [
      "1.4431975931194703\n"
     ]
    },
    {
     "name": "stderr",
     "output_type": "stream",
     "text": [
      "/usr/local/lib/python3.8/dist-packages/sklearn/utils/validation.py:63: FutureWarning: Arrays of bytes/strings is being converted to decimal numbers if dtype='numeric'. This behavior is deprecated in 0.24 and will be removed in 1.1 (renaming of 0.26). Please convert your data to numeric values explicitly instead.\n",
      "  return f(*args, **kwargs)\n"
     ]
    }
   ],
   "source": [
    "clf = LinearRegression().fit(train_data_final, y_train)\n",
    "y_pred = clf.predict(test_data_final)\n",
    "print(mean_squared_error(y_test, y_pred))"
   ]
  },
  {
   "cell_type": "markdown",
   "metadata": {},
   "source": [
    "### Word2Vec Model - min_word_count = 2, context = 5, mode = cbow\n",
    "\n",
    "### Logistic regression with max_iteration = 100000000, C = 0.001"
   ]
  },
  {
   "cell_type": "code",
   "execution_count": 30,
   "metadata": {
    "collapsed": true,
    "jupyter": {
     "outputs_hidden": true,
     "source_hidden": true
    }
   },
   "outputs": [
    {
     "name": "stdout",
     "output_type": "stream",
     "text": [
      "Training Word2Vec model...\n",
      "Model: CBOW\n",
      "Saving Word2Vec model embedding\n"
     ]
    }
   ],
   "source": [
    "data['rating'] = data['rating'].astype('int')\n",
    "\n",
    "X = data[['fit', 'weight', 'rented for', 'body type', 'category', \n",
    "            'height', 'size', 'age', 'text', 'bust_inch', \n",
    "            'bust_alphabet', 'review_date_converted', 'text_length']]\n",
    "y = data['rating'].values\n",
    "\n",
    "X = pd.get_dummies(X, columns = ['fit','rented for','body type', 'bust_alphabet', 'category'], drop_first=True)\n",
    "#y = pd.get_dummies(y, columns=['rating'], drop_first=True)\n",
    "\n",
    "X_train, X_test, y_train, y_test = train_test_split(X, y, test_size=0.2, random_state=42)\n",
    "\n",
    "# tokenization \n",
    "tagged_data = [word_tokenize(_d) for i, _d in enumerate(X_train[\"text\"])]\n",
    "\n",
    "# build vocabulary from tokenized data\n",
    "word_counts, vocabulary, vocabulary_inv = build_vocab(tagged_data)\n",
    "\n",
    "# use the above mapping to create input data\n",
    "inp_data = [[vocabulary[word] for word in text] for text in tagged_data]\n",
    "\n"
   ]
  },
  {
   "cell_type": "code",
   "execution_count": 32,
   "metadata": {},
   "outputs": [
    {
     "name": "stdout",
     "output_type": "stream",
     "text": [
      "Training Word2Vec model...\n",
      "Model: CBOW\n",
      "Saving Word2Vec model embedding\n"
     ]
    }
   ],
   "source": [
    "# get embedding vector\n",
    "embedding_weights = get_embeddings(inp_data, vocabulary_inv, min_word_count = 2, context = 5, mode='cbow')\n",
    "tagged_train_data = [word_tokenize(_d) for i, _d in enumerate(X_train[\"text\"])]\n",
    "tagged_test_data = [word_tokenize(_d) for i, _d in enumerate(X_test[\"text\"])]"
   ]
  },
  {
   "cell_type": "code",
   "execution_count": 33,
   "metadata": {},
   "outputs": [],
   "source": [
    "# Removing text field from the columns to get other features\n",
    "cols_list = X.columns.tolist()\n",
    "cols_list.pop(4)\n",
    "\n",
    "def feature(d):\n",
    "    feat = []\n",
    "    for col in cols_list:\n",
    "        feat.append(d[col])\n",
    "    return feat"
   ]
  },
  {
   "cell_type": "code",
   "execution_count": 34,
   "metadata": {},
   "outputs": [],
   "source": [
    "train_vec = []\n",
    "for doc in tagged_train_data:\n",
    "    vec = 0\n",
    "    for w in doc:\n",
    "        vec += embedding_weights[vocabulary[w]]\n",
    "    vec = vec / len(doc)\n",
    "    train_vec.append(vec)\n",
    "\n",
    "\n",
    "train_vec = [v.tolist() for v in train_vec]\n",
    "train_data_features = [feature(d) for _, d in X_train.iterrows()]\n",
    "train_data_final = [train_data_features[s] + train_vec[s] for s in range(len(train_data_features))]\n",
    "\n",
    "test_vec = []\n",
    "for doc in tagged_test_data:\n",
    "    vec = 0\n",
    "    length = 0\n",
    "    for w in doc:\n",
    "        try:\n",
    "            vec += embedding_weights[vocabulary[w]]\n",
    "            length += 1\n",
    "        except:\n",
    "            vec = np.zeros((100, ), dtype=np.float64)\n",
    "            continue\n",
    "    if length != 0:\n",
    "        vec = vec / length\n",
    "    test_vec.append(vec)\n",
    "\n",
    "test_vec = [v1.tolist() for v1 in test_vec]\n",
    "test_data_features = [feature(d) for _, d in X_test.iterrows()]\n",
    "test_data_final = [test_data_features[s] + test_vec[s] for s in range(len(test_data_features))]"
   ]
  },
  {
   "cell_type": "code",
   "execution_count": 35,
   "metadata": {},
   "outputs": [
    {
     "name": "stderr",
     "output_type": "stream",
     "text": [
      "/usr/local/lib/python3.8/dist-packages/sklearn/utils/validation.py:63: FutureWarning: Arrays of bytes/strings is being converted to decimal numbers if dtype='numeric'. This behavior is deprecated in 0.24 and will be removed in 1.1 (renaming of 0.26). Please convert your data to numeric values explicitly instead.\n",
      "  return f(*args, **kwargs)\n"
     ]
    },
    {
     "name": "stdout",
     "output_type": "stream",
     "text": [
      "1.5036389325299662\n"
     ]
    },
    {
     "name": "stderr",
     "output_type": "stream",
     "text": [
      "/usr/local/lib/python3.8/dist-packages/sklearn/utils/validation.py:63: FutureWarning: Arrays of bytes/strings is being converted to decimal numbers if dtype='numeric'. This behavior is deprecated in 0.24 and will be removed in 1.1 (renaming of 0.26). Please convert your data to numeric values explicitly instead.\n",
      "  return f(*args, **kwargs)\n"
     ]
    }
   ],
   "source": [
    "clf = LinearRegression().fit(train_data_final, y_train)\n",
    "y_pred = clf.predict(test_data_final)\n",
    "print(mean_squared_error(y_test, y_pred))"
   ]
  },
  {
   "cell_type": "markdown",
   "metadata": {},
   "source": [
    "### GloVe"
   ]
  },
  {
   "cell_type": "code",
   "execution_count": 38,
   "metadata": {},
   "outputs": [],
   "source": [
    "def get_embeddings_g(inp_data, vocabulary_inv):\n",
    "    glove_file = 'glove.6B.300d.txt'\n",
    "    tmp_file = get_tmpfile(\"test_word2vec.txt\")\n",
    "    _ = glove2word2vec(glove_file, tmp_file)\n",
    "    embedding_model = KeyedVectors.load_word2vec_format(tmp_file)\n",
    "    embedding_weights = np.zeros((len(vocabulary_inv), 300))\n",
    "    for i in range(len(vocabulary_inv)):\n",
    "        word = vocabulary_inv[i]\n",
    "        if word in embedding_model:\n",
    "            embedding_weights[i] = embedding_model[word]\n",
    "        else:\n",
    "            embedding_weights[i] = np.random.uniform(-0.25, 0.25, embedding_model.vector_size)\n",
    "    return embedding_weights"
   ]
  },
  {
   "cell_type": "code",
   "execution_count": 39,
   "metadata": {},
   "outputs": [
    {
     "name": "stderr",
     "output_type": "stream",
     "text": [
      "<ipython-input-38-f2fc37ce7895>:4: DeprecationWarning: Call to deprecated `glove2word2vec` (KeyedVectors.load_word2vec_format(.., binary=False, no_header=True) loads GLoVE text vectors.).\n",
      "  _ = glove2word2vec(glove_file, tmp_file)\n"
     ]
    }
   ],
   "source": [
    "embedding_weights = get_embeddings_g(inp_data, vocabulary_inv)"
   ]
  },
  {
   "cell_type": "code",
   "execution_count": 40,
   "metadata": {},
   "outputs": [],
   "source": [
    "train_vec = []\n",
    "for doc in tagged_train_data:\n",
    "    vec = 0\n",
    "    for w in doc:\n",
    "        vec += embedding_weights[vocabulary[w]]\n",
    "    vec = vec / len(doc)\n",
    "    train_vec.append(vec)\n",
    "train_vec = [v.tolist() for v in train_vec]\n",
    "train_data_features = [feature(d) for _, d in X_train.iterrows()]\n",
    "train_data_final = [train_data_features[s] + train_vec[s] for s in range(len(train_data_features))]\n",
    "\n",
    "test_vec = []\n",
    "for doc in tagged_test_data:\n",
    "    vec = 0\n",
    "    length = 0\n",
    "    for w in doc:\n",
    "        try:\n",
    "            vec += embedding_weights[vocabulary[w]]\n",
    "            length += 1\n",
    "        except:\n",
    "            vec = np.zeros((300, ), dtype=np.float64) # 300 dims\n",
    "            continue\n",
    "    if length != 0:\n",
    "        vec = vec / length\n",
    "    test_vec.append(vec)\n",
    "test_vec = [v1.tolist() for v1 in test_vec]\n",
    "test_data_features = [feature(d) for _, d in X_test.iterrows()]\n",
    "test_data_final = [test_data_features[s] + test_vec[s] for s in range(len(test_data_features))]"
   ]
  },
  {
   "cell_type": "code",
   "execution_count": 41,
   "metadata": {},
   "outputs": [
    {
     "name": "stderr",
     "output_type": "stream",
     "text": [
      "/usr/local/lib/python3.8/dist-packages/sklearn/utils/validation.py:63: FutureWarning: Arrays of bytes/strings is being converted to decimal numbers if dtype='numeric'. This behavior is deprecated in 0.24 and will be removed in 1.1 (renaming of 0.26). Please convert your data to numeric values explicitly instead.\n",
      "  return f(*args, **kwargs)\n",
      "/usr/local/lib/python3.8/dist-packages/sklearn/utils/validation.py:63: FutureWarning: Arrays of bytes/strings is being converted to decimal numbers if dtype='numeric'. This behavior is deprecated in 0.24 and will be removed in 1.1 (renaming of 0.26). Please convert your data to numeric values explicitly instead.\n",
      "  return f(*args, **kwargs)\n"
     ]
    },
    {
     "name": "stdout",
     "output_type": "stream",
     "text": [
      "1.4924038083333493\n"
     ]
    }
   ],
   "source": [
    "clf = LinearRegression().fit(train_data_final, y_train)\n",
    "y_pred = clf.predict(test_data_final)\n",
    "print(mean_squared_error(y_test, y_pred))"
   ]
  },
  {
   "cell_type": "code",
   "execution_count": null,
   "metadata": {},
   "outputs": [],
   "source": []
  }
 ],
 "metadata": {
  "interpreter": {
   "hash": "44fb73870f10f05be38a74b5996e7fa9b3932edc06c5ab7768268901003534af"
  },
  "kernelspec": {
   "display_name": "Python 3",
   "language": "python",
   "name": "python3"
  },
  "language_info": {
   "codemirror_mode": {
    "name": "ipython",
    "version": 3
   },
   "file_extension": ".py",
   "mimetype": "text/x-python",
   "name": "python",
   "nbconvert_exporter": "python",
   "pygments_lexer": "ipython3",
   "version": "3.8.5"
  }
 },
 "nbformat": 4,
 "nbformat_minor": 4
}
