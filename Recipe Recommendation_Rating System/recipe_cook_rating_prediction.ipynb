{
 "cells": [
  {
   "cell_type": "code",
   "execution_count": 4,
   "id": "792230ae",
   "metadata": {},
   "outputs": [],
   "source": [
    "# importing libraries\n",
    "\n",
    "import pandas as pd\n",
    "import dateutil.parser\n",
    "import json\n",
    "import gzip\n",
    "import matplotlib.pyplot as plt\n",
    "import numpy as np\n",
    "import sklearn\n",
    "from collections import defaultdict\n",
    "from urllib.request import urlopen\n",
    "from sklearn import linear_model\n",
    "from sklearn.model_selection import train_test_split\n",
    "from sklearn.preprocessing import OneHotEncoder\n",
    "from sklearn.metrics import mean_squared_error, mean_absolute_error, accuracy_score, confusion_matrix, precision_score, recall_score\n",
    "import math\n",
    "import time\n",
    "import datetime\n",
    "import tarfile\n",
    "import csv\n",
    "import random\n",
    "import scipy.optimize"
   ]
  },
  {
   "cell_type": "code",
   "execution_count": 2,
   "id": "deb0b8b3",
   "metadata": {},
   "outputs": [],
   "source": [
    "# 1-time use\n",
    "\n",
    "#tf = tarfile.open(\"assignment1.tar.gz\")\n",
    "#tf.extractall()"
   ]
  },
  {
   "cell_type": "code",
   "execution_count": 3,
   "id": "24f9ff2f",
   "metadata": {},
   "outputs": [],
   "source": [
    "df = pd.read_csv('trainInteractions.csv.gz', compression = 'gzip')"
   ]
  },
  {
   "cell_type": "code",
   "execution_count": 4,
   "id": "bc4da412",
   "metadata": {},
   "outputs": [
    {
     "data": {
      "text/plain": [
       "(500000, 4)"
      ]
     },
     "execution_count": 4,
     "metadata": {},
     "output_type": "execute_result"
    }
   ],
   "source": [
    "df.shape"
   ]
  },
  {
   "cell_type": "code",
   "execution_count": 5,
   "id": "5e8eb007",
   "metadata": {},
   "outputs": [],
   "source": [
    "# splitting data into train and val\n",
    "\n",
    "dft = df[:400000]\n",
    "dfv = df[400000:]"
   ]
  },
  {
   "cell_type": "code",
   "execution_count": 6,
   "id": "825e9094",
   "metadata": {},
   "outputs": [
    {
     "data": {
      "text/plain": [
       "(400000, 4)"
      ]
     },
     "execution_count": 6,
     "metadata": {},
     "output_type": "execute_result"
    }
   ],
   "source": [
    "dft.shape"
   ]
  },
  {
   "cell_type": "code",
   "execution_count": 7,
   "id": "e3597462",
   "metadata": {},
   "outputs": [
    {
     "data": {
      "text/plain": [
       "(100000, 4)"
      ]
     },
     "execution_count": 7,
     "metadata": {},
     "output_type": "execute_result"
    }
   ],
   "source": [
    "dfv.shape"
   ]
  },
  {
   "cell_type": "markdown",
   "id": "95b08a70",
   "metadata": {},
   "source": [
    "# Cook Prediction"
   ]
  },
  {
   "cell_type": "code",
   "execution_count": 2,
   "id": "4e9e8efd",
   "metadata": {},
   "outputs": [],
   "source": [
    "def readCSV(path):\n",
    "    f = gzip.open(path, 'rt')\n",
    "    c = csv.reader(f)\n",
    "    header = next(c)\n",
    "    for l in c:\n",
    "        d = dict(zip(header,l))\n",
    "        yield d['user_id'],d['recipe_id'],d"
   ]
  },
  {
   "cell_type": "code",
   "execution_count": 8,
   "id": "3401014b",
   "metadata": {},
   "outputs": [
    {
     "name": "stderr",
     "output_type": "stream",
     "text": [
      "<ipython-input-8-e7902c83c0a3>:3: SettingWithCopyWarning: \n",
      "A value is trying to be set on a copy of a slice from a DataFrame.\n",
      "Try using .loc[row_indexer,col_indexer] = value instead\n",
      "\n",
      "See the caveats in the documentation: https://pandas.pydata.org/pandas-docs/stable/user_guide/indexing.html#returning-a-view-versus-a-copy\n",
      "  dfv['cooked'] = 1\n"
     ]
    }
   ],
   "source": [
    "# creating a column that will be used to classify\n",
    "\n",
    "dfv['cooked'] = 1"
   ]
  },
  {
   "cell_type": "code",
   "execution_count": 9,
   "id": "f228c714",
   "metadata": {},
   "outputs": [],
   "source": [
    "itemsPerUser = defaultdict(set)\n",
    "for i, d in dfv.iterrows():\n",
    "    itemsPerUser[d['user_id']].add(d['recipe_id'])"
   ]
  },
  {
   "cell_type": "code",
   "execution_count": 10,
   "id": "5273e959",
   "metadata": {},
   "outputs": [],
   "source": [
    "# creating one negative validation entry for every posiive validation entry using set subtraction\n",
    "\n",
    "for i, d in dfv.iterrows():\n",
    "    random.seed(0)\n",
    "    dfv = dfv.append({'user_id': d['user_id'], 'recipe_id': random.sample(set(dfv['recipe_id']) - itemsPerUser[d['user_id']], 1)[0], \n",
    "                      'rating': 0, 'cooked':0}, ignore_index=True)"
   ]
  },
  {
   "cell_type": "code",
   "execution_count": 11,
   "id": "efbf2623",
   "metadata": {},
   "outputs": [
    {
     "data": {
      "text/plain": [
       "(200000, 5)"
      ]
     },
     "execution_count": 11,
     "metadata": {},
     "output_type": "execute_result"
    }
   ],
   "source": [
    "# was previously (100000,4)\n",
    "\n",
    "dfv.shape"
   ]
  },
  {
   "cell_type": "code",
   "execution_count": 9,
   "id": "15287d6b",
   "metadata": {},
   "outputs": [
    {
     "name": "stderr",
     "output_type": "stream",
     "text": [
      "/usr/local/lib/python3.8/dist-packages/IPython/core/interactiveshell.py:3165: DtypeWarning: Columns (2) have mixed types.Specify dtype option on import or set low_memory=False.\n",
      "  has_raised = await self.run_ast_nodes(code_ast.body, cell_name,\n"
     ]
    }
   ],
   "source": [
    "# save validation data as it takes a lot of time to generate it (cell 294)\n",
    "\n",
    "#dfv.to_csv('sampled_validation.csv', index = False)\n",
    "#dfv = pd.read_csv('sampled_validation.csv')"
   ]
  },
  {
   "cell_type": "code",
   "execution_count": 10,
   "id": "dac7209e",
   "metadata": {},
   "outputs": [],
   "source": [
    "usersPerItem = defaultdict(set)\n",
    "itemsPerUser = defaultdict(set)\n",
    "for i, d in dft.iterrows():\n",
    "    usersPerItem[d['recipe_id']].add(d['user_id'])\n",
    "    itemsPerUser[d['user_id']].add(d['recipe_id'])"
   ]
  },
  {
   "cell_type": "code",
   "execution_count": 11,
   "id": "84159940",
   "metadata": {},
   "outputs": [],
   "source": [
    "def parse(f):\n",
    "    for l in gzip.open(f):\n",
    "        yield eval(l)"
   ]
  },
  {
   "cell_type": "code",
   "execution_count": 13,
   "id": "13690751",
   "metadata": {},
   "outputs": [],
   "source": [
    "dataset = list(parse(\"trainRecipes.json.gz\"))"
   ]
  },
  {
   "cell_type": "code",
   "execution_count": 15,
   "id": "be52c513",
   "metadata": {},
   "outputs": [],
   "source": [
    "dfi = pd.DataFrame()\n",
    "dfi['name'] = [d['name'] for d in dataset]\n",
    "dfi['minutes'] = [d['minutes'] for d in dataset]\n",
    "dfi['contributor_id'] = [d['contributor_id'] for d in dataset]\n",
    "dfi['submitted'] = [d['submitted'] for d in dataset]\n",
    "dfi['steps'] = [d['steps'] for d in dataset]\n",
    "dfi['description'] = [d['description'] for d in dataset]\n",
    "dfi['ingredients'] = [d['ingredients'] for d in dataset]\n",
    "dfi['recipe_id'] = [d['recipe_id'] for d in dataset]"
   ]
  },
  {
   "cell_type": "code",
   "execution_count": 20,
   "id": "b5db4c03",
   "metadata": {},
   "outputs": [],
   "source": [
    "dfi['recipe_id'] = dfi['recipe_id'].astype('int')"
   ]
  },
  {
   "cell_type": "code",
   "execution_count": 17,
   "id": "c68290f2",
   "metadata": {},
   "outputs": [],
   "source": [
    "long_string = ''\n",
    "for d in dfi['ingredients']:\n",
    "    long_string = long_string + ',' + ','.join(d)"
   ]
  },
  {
   "cell_type": "code",
   "execution_count": 18,
   "id": "3448502a",
   "metadata": {
    "collapsed": true,
    "jupyter": {
     "outputs_hidden": true
    }
   },
   "outputs": [
    {
     "data": {
      "text/plain": [
       "['salt',\n",
       " 'butter',\n",
       " 'sugar',\n",
       " 'onion',\n",
       " 'water',\n",
       " 'eggs',\n",
       " 'olive oil',\n",
       " 'flour',\n",
       " 'milk',\n",
       " 'garlic cloves',\n",
       " 'pepper',\n",
       " 'brown sugar',\n",
       " 'garlic',\n",
       " 'all-purpose flour',\n",
       " 'baking powder',\n",
       " 'egg',\n",
       " 'salt and pepper',\n",
       " 'parmesan cheese',\n",
       " 'lemon juice',\n",
       " 'baking soda',\n",
       " 'vegetable oil',\n",
       " 'vanilla',\n",
       " 'black pepper',\n",
       " 'cinnamon',\n",
       " 'tomatoes',\n",
       " 'sour cream',\n",
       " 'garlic powder',\n",
       " 'vanilla extract',\n",
       " 'oil',\n",
       " 'honey',\n",
       " 'garlic clove',\n",
       " 'cream cheese',\n",
       " 'onions',\n",
       " 'celery',\n",
       " 'cheddar cheese',\n",
       " 'unsalted butter',\n",
       " 'mayonnaise',\n",
       " 'soy sauce',\n",
       " 'chicken broth',\n",
       " 'paprika',\n",
       " 'extra virgin olive oil',\n",
       " 'worcestershire sauce',\n",
       " 'fresh parsley',\n",
       " 'cornstarch',\n",
       " 'fresh ground black pepper',\n",
       " 'parsley',\n",
       " 'carrots',\n",
       " 'chili powder',\n",
       " 'ground cinnamon',\n",
       " 'bacon']"
      ]
     },
     "execution_count": 18,
     "metadata": {},
     "output_type": "execute_result"
    }
   ],
   "source": [
    "long_list = long_string.split(',')\n",
    "df_popular = pd.DataFrame({'items':long_list})\n",
    "popular_items = list(df_popular['items'].value_counts().index[:50])\n",
    "popular_items"
   ]
  },
  {
   "cell_type": "code",
   "execution_count": 28,
   "id": "e5621c77",
   "metadata": {},
   "outputs": [],
   "source": [
    "dfj = pd.merge(dfv, dfi, how =  'left', left_on = 'recipe_id', right_on = 'recipe_id')"
   ]
  },
  {
   "cell_type": "code",
   "execution_count": 29,
   "id": "1ae623a5",
   "metadata": {},
   "outputs": [
    {
     "data": {
      "text/html": [
       "<div>\n",
       "<style scoped>\n",
       "    .dataframe tbody tr th:only-of-type {\n",
       "        vertical-align: middle;\n",
       "    }\n",
       "\n",
       "    .dataframe tbody tr th {\n",
       "        vertical-align: top;\n",
       "    }\n",
       "\n",
       "    .dataframe thead th {\n",
       "        text-align: right;\n",
       "    }\n",
       "</style>\n",
       "<table border=\"1\" class=\"dataframe\">\n",
       "  <thead>\n",
       "    <tr style=\"text-align: right;\">\n",
       "      <th></th>\n",
       "      <th>user_id</th>\n",
       "      <th>recipe_id</th>\n",
       "      <th>date</th>\n",
       "      <th>rating</th>\n",
       "      <th>cooked</th>\n",
       "      <th>name</th>\n",
       "      <th>minutes</th>\n",
       "      <th>contributor_id</th>\n",
       "      <th>submitted</th>\n",
       "      <th>steps</th>\n",
       "      <th>description</th>\n",
       "      <th>ingredients</th>\n",
       "    </tr>\n",
       "  </thead>\n",
       "  <tbody>\n",
       "    <tr>\n",
       "      <th>0</th>\n",
       "      <td>90764166.0</td>\n",
       "      <td>1768679.0</td>\n",
       "      <td>2011-09-10</td>\n",
       "      <td>5.0</td>\n",
       "      <td>1.0</td>\n",
       "      <td>baked german potato salad</td>\n",
       "      <td>55</td>\n",
       "      <td>83301801</td>\n",
       "      <td>2003-09-03</td>\n",
       "      <td>set oven to 350 degrees f\\tbutter a 3-quart ba...</td>\n",
       "      <td>this recipe was given to me by a german lady t...</td>\n",
       "      <td>[bacon, celery, onion, salt, all-purpose flour...</td>\n",
       "    </tr>\n",
       "    <tr>\n",
       "      <th>1</th>\n",
       "      <td>68112239.0</td>\n",
       "      <td>24923981.0</td>\n",
       "      <td>2007-03-30</td>\n",
       "      <td>5.0</td>\n",
       "      <td>1.0</td>\n",
       "      <td>red wine vinaigrette</td>\n",
       "      <td>3</td>\n",
       "      <td>30355466</td>\n",
       "      <td>2006-07-24</td>\n",
       "      <td>pour each ingredient into a small bowl\\twith a...</td>\n",
       "      <td>this is something i've been working on for my ...</td>\n",
       "      <td>[red wine vinegar, olive oil, lemon juice, dri...</td>\n",
       "    </tr>\n",
       "    <tr>\n",
       "      <th>2</th>\n",
       "      <td>32173358.0</td>\n",
       "      <td>57597698.0</td>\n",
       "      <td>2009-01-16</td>\n",
       "      <td>4.0</td>\n",
       "      <td>1.0</td>\n",
       "      <td>cornbread in a round low fat</td>\n",
       "      <td>30</td>\n",
       "      <td>91094577</td>\n",
       "      <td>2008-03-13</td>\n",
       "      <td>in one bowl mix cornmeal , flour , baking powd...</td>\n",
       "      <td>this comes from the new dr. cookie cookbook. i...</td>\n",
       "      <td>[yellow cornmeal, unbleached all-purpose flour...</td>\n",
       "    </tr>\n",
       "    <tr>\n",
       "      <th>3</th>\n",
       "      <td>30893740.0</td>\n",
       "      <td>16266088.0</td>\n",
       "      <td>2010-06-12</td>\n",
       "      <td>5.0</td>\n",
       "      <td>1.0</td>\n",
       "      <td>orange onion and olive salad munkaczina</td>\n",
       "      <td>20</td>\n",
       "      <td>68479185</td>\n",
       "      <td>2010-05-03</td>\n",
       "      <td>slice oranges crosswise and remove seeds and w...</td>\n",
       "      <td>this is a very simple and refreshing salad fro...</td>\n",
       "      <td>[oranges, onion, ripe olives, cayenne pepper, ...</td>\n",
       "    </tr>\n",
       "    <tr>\n",
       "      <th>4</th>\n",
       "      <td>69780905.0</td>\n",
       "      <td>62953151.0</td>\n",
       "      <td>2004-02-10</td>\n",
       "      <td>5.0</td>\n",
       "      <td>1.0</td>\n",
       "      <td>cheesy mostaccioli</td>\n",
       "      <td>70</td>\n",
       "      <td>04676371</td>\n",
       "      <td>2003-09-04</td>\n",
       "      <td>prepare the pasta according to the package dir...</td>\n",
       "      <td>this recipe is from an old pampered chef cookb...</td>\n",
       "      <td>[mostaccioli pasta, ground beef, spaghetti sau...</td>\n",
       "    </tr>\n",
       "  </tbody>\n",
       "</table>\n",
       "</div>"
      ],
      "text/plain": [
       "      user_id   recipe_id        date  rating  cooked  \\\n",
       "0  90764166.0   1768679.0  2011-09-10     5.0     1.0   \n",
       "1  68112239.0  24923981.0  2007-03-30     5.0     1.0   \n",
       "2  32173358.0  57597698.0  2009-01-16     4.0     1.0   \n",
       "3  30893740.0  16266088.0  2010-06-12     5.0     1.0   \n",
       "4  69780905.0  62953151.0  2004-02-10     5.0     1.0   \n",
       "\n",
       "                                      name  minutes contributor_id  \\\n",
       "0                baked german potato salad       55       83301801   \n",
       "1                     red wine vinaigrette        3       30355466   \n",
       "2             cornbread in a round low fat       30       91094577   \n",
       "3  orange onion and olive salad munkaczina       20       68479185   \n",
       "4                       cheesy mostaccioli       70       04676371   \n",
       "\n",
       "    submitted                                              steps  \\\n",
       "0  2003-09-03  set oven to 350 degrees f\\tbutter a 3-quart ba...   \n",
       "1  2006-07-24  pour each ingredient into a small bowl\\twith a...   \n",
       "2  2008-03-13  in one bowl mix cornmeal , flour , baking powd...   \n",
       "3  2010-05-03  slice oranges crosswise and remove seeds and w...   \n",
       "4  2003-09-04  prepare the pasta according to the package dir...   \n",
       "\n",
       "                                         description  \\\n",
       "0  this recipe was given to me by a german lady t...   \n",
       "1  this is something i've been working on for my ...   \n",
       "2  this comes from the new dr. cookie cookbook. i...   \n",
       "3  this is a very simple and refreshing salad fro...   \n",
       "4  this recipe is from an old pampered chef cookb...   \n",
       "\n",
       "                                         ingredients  \n",
       "0  [bacon, celery, onion, salt, all-purpose flour...  \n",
       "1  [red wine vinegar, olive oil, lemon juice, dri...  \n",
       "2  [yellow cornmeal, unbleached all-purpose flour...  \n",
       "3  [oranges, onion, ripe olives, cayenne pepper, ...  \n",
       "4  [mostaccioli pasta, ground beef, spaghetti sau...  "
      ]
     },
     "execution_count": 29,
     "metadata": {},
     "output_type": "execute_result"
    }
   ],
   "source": [
    "dfj.head()"
   ]
  },
  {
   "cell_type": "code",
   "execution_count": 26,
   "id": "937754e6",
   "metadata": {},
   "outputs": [],
   "source": [
    "dfj['pop_ing'] = 1"
   ]
  },
  {
   "cell_type": "code",
   "execution_count": 42,
   "id": "34138c52",
   "metadata": {},
   "outputs": [],
   "source": [
    "def Jaccard(s1, s2):\n",
    "    numer = len(s1.intersection(s2))\n",
    "    denom = len(s1.union(s2))\n",
    "    if denom == 0:\n",
    "        return 0\n",
    "    return numer / denom"
   ]
  },
  {
   "cell_type": "code",
   "execution_count": 17,
   "id": "3543d603",
   "metadata": {},
   "outputs": [],
   "source": [
    "sim  = []\n",
    "for i, d in dfv.iterrows():\n",
    "    recipes = set({})\n",
    "    for recipe in itemsPerUser[d['user_id']]:\n",
    "        recipes = recipes.union(usersPerItem[recipe])\n",
    "\n",
    "    if d['recipe_id'] not in usersPerItem:\n",
    "        sim.append(Jaccard(usersPerItem[d['recipe_id']], recipes))\n",
    "    else:\n",
    "        sim.append(0)"
   ]
  },
  {
   "cell_type": "code",
   "execution_count": 35,
   "id": "20d961dc",
   "metadata": {},
   "outputs": [],
   "source": [
    "# one-time as the above cell took a lot of time\n",
    "\n",
    "#pd.DataFrame({'sim':sim}).to_csv('sim.csv',index=False)\n",
    "sim = pd.read_csv('sim.csv')"
   ]
  },
  {
   "cell_type": "code",
   "execution_count": 37,
   "id": "d9d94a08",
   "metadata": {},
   "outputs": [],
   "source": [
    "sim = sim['sim']"
   ]
  },
  {
   "cell_type": "code",
   "execution_count": 40,
   "id": "ded3bc73",
   "metadata": {},
   "outputs": [],
   "source": [
    "sim = sim.tolist()"
   ]
  },
  {
   "cell_type": "code",
   "execution_count": 28,
   "id": "9d769e8c",
   "metadata": {},
   "outputs": [],
   "source": [
    "threshold = .005\n",
    "acc = []\n",
    "for thresh in threshold:\n",
    "    tptn = 0\n",
    "    for i, d in dfv.iterrows():         \n",
    "        if sim[i] > thresh:\n",
    "            if d['cooked'] != 0:\n",
    "                tptn += 1\n",
    "        else:\n",
    "            if d['cooked'] == 0:\n",
    "                tptn += 1\n",
    "    acc.append(tptn/dfv.shape[0])"
   ]
  },
  {
   "cell_type": "code",
   "execution_count": 29,
   "id": "022bcc8c",
   "metadata": {},
   "outputs": [
    {
     "name": "stdout",
     "output_type": "stream",
     "text": [
      "0.0010404040404040403 threshold has the best performance 0.640375\n"
     ]
    }
   ],
   "source": [
    "print(str(threshold[acc.index(np.max(acc))]) + ' threshold has the best performance ' + str(np.max(acc)))"
   ]
  },
  {
   "cell_type": "code",
   "execution_count": 68,
   "id": "b7c79544",
   "metadata": {},
   "outputs": [],
   "source": [
    "usersPerItem = defaultdict(set)\n",
    "itemsPerUser = defaultdict(set)\n",
    "for i, d in df.iterrows():\n",
    "    usersPerItem[str(d['recipe_id'])].add(str(d['user_id']))\n",
    "    itemsPerUser[str(d['user_id'])].add(str(d['recipe_id']))"
   ]
  },
  {
   "cell_type": "code",
   "execution_count": 66,
   "id": "e85cb4f3",
   "metadata": {},
   "outputs": [],
   "source": [
    "df_sort = pd.DataFrame(df['recipe_id'].value_counts()).reset_index()\n",
    "df_sort = df_sort.rename(columns = {'recipe_id':'count','index':'recipe_id'})\n",
    "\n",
    "popular = set()\n",
    "count = 0\n",
    "for i, d in zip(df_sort['count'],df_sort['recipe_id']):\n",
    "    count += i\n",
    "    popular.add(str(d))\n",
    "    if count > df.shape[0] * 0.73:\n",
    "        break"
   ]
  },
  {
   "cell_type": "markdown",
   "id": "5ab4cfb3",
   "metadata": {},
   "source": [
    "popularity only - 67.7\n",
    "similarity - 64.9"
   ]
  },
  {
   "cell_type": "code",
   "execution_count": 46,
   "id": "2bb83471",
   "metadata": {},
   "outputs": [],
   "source": [
    "accuracies = []\n",
    "percentiles = np.linspace(0.01,1,100) \n",
    "\n",
    "for perc in percentiles:\n",
    "    \n",
    "    popular = set()\n",
    "    count = 0\n",
    "    for i, d in zip(df_sort['count'],df_sort['recipe_id']):\n",
    "        count += i\n",
    "        popular.add(d)\n",
    "        if count > df.shape[0] * perc:\n",
    "            break\n",
    "\n",
    "    tptn = 0\n",
    "    for i, d in dfv.iterrows():\n",
    "        if d['recipe_id'] in popular:\n",
    "            if d['cooked'] == 1:\n",
    "                tptn += 1\n",
    "        else:\n",
    "            if d['cooked'] == 0:\n",
    "                tptn += 1\n",
    "                \n",
    "    accuracies.append(tptn/dfv.shape[0])"
   ]
  },
  {
   "cell_type": "code",
   "execution_count": 47,
   "id": "4f9672f6",
   "metadata": {},
   "outputs": [
    {
     "name": "stdout",
     "output_type": "stream",
     "text": [
      "0.51 percentile has the best performance 0.65413\n"
     ]
    }
   ],
   "source": [
    "print(str(percentiles[accuracies.index(np.max(accuracies))]) + ' percentile has the best performance ' + str(np.max(accuracies)))"
   ]
  },
  {
   "cell_type": "code",
   "execution_count": 297,
   "id": "da550abf",
   "metadata": {},
   "outputs": [],
   "source": [
    "# converted Professor's code in a Pandas implementation\n",
    "\n",
    "dft_sort = pd.DataFrame(dft['recipe_id'].value_counts()).reset_index()\n",
    "dft_sort = dft_sort.rename(columns = {'recipe_id':'count','index':'recipe_id'})"
   ]
  },
  {
   "cell_type": "code",
   "execution_count": 298,
   "id": "efa3ba6b",
   "metadata": {},
   "outputs": [
    {
     "data": {
      "text/html": [
       "<div>\n",
       "<style scoped>\n",
       "    .dataframe tbody tr th:only-of-type {\n",
       "        vertical-align: middle;\n",
       "    }\n",
       "\n",
       "    .dataframe tbody tr th {\n",
       "        vertical-align: top;\n",
       "    }\n",
       "\n",
       "    .dataframe thead th {\n",
       "        text-align: right;\n",
       "    }\n",
       "</style>\n",
       "<table border=\"1\" class=\"dataframe\">\n",
       "  <thead>\n",
       "    <tr style=\"text-align: right;\">\n",
       "      <th></th>\n",
       "      <th>recipe_id</th>\n",
       "      <th>count</th>\n",
       "    </tr>\n",
       "  </thead>\n",
       "  <tbody>\n",
       "    <tr>\n",
       "      <th>0</th>\n",
       "      <td>74912490</td>\n",
       "      <td>503</td>\n",
       "    </tr>\n",
       "    <tr>\n",
       "      <th>1</th>\n",
       "      <td>29147042</td>\n",
       "      <td>467</td>\n",
       "    </tr>\n",
       "    <tr>\n",
       "      <th>2</th>\n",
       "      <td>5898774</td>\n",
       "      <td>410</td>\n",
       "    </tr>\n",
       "    <tr>\n",
       "      <th>3</th>\n",
       "      <td>37919560</td>\n",
       "      <td>384</td>\n",
       "    </tr>\n",
       "    <tr>\n",
       "      <th>4</th>\n",
       "      <td>98124873</td>\n",
       "      <td>367</td>\n",
       "    </tr>\n",
       "  </tbody>\n",
       "</table>\n",
       "</div>"
      ],
      "text/plain": [
       "   recipe_id  count\n",
       "0   74912490    503\n",
       "1   29147042    467\n",
       "2    5898774    410\n",
       "3   37919560    384\n",
       "4   98124873    367"
      ]
     },
     "execution_count": 298,
     "metadata": {},
     "output_type": "execute_result"
    }
   ],
   "source": [
    "# we now have our data in descending value_count format\n",
    "\n",
    "dft_sort.head()"
   ]
  },
  {
   "cell_type": "code",
   "execution_count": 299,
   "id": "bc4ba3d8",
   "metadata": {},
   "outputs": [],
   "source": [
    "# inspired by baselines.py\n",
    "\n",
    "popular = set()\n",
    "count = 0\n",
    "for i, d in zip(dft_sort['count'],dft_sort['recipe_id']):\n",
    "    count += i\n",
    "    popular.add(d)\n",
    "    if count > dft.shape[0] * 0.5:\n",
    "        break"
   ]
  },
  {
   "cell_type": "code",
   "execution_count": 300,
   "id": "5324968e",
   "metadata": {},
   "outputs": [
    {
     "name": "stdout",
     "output_type": "stream",
     "text": [
      "Accuracy of baseline model on valiation data: 0.64191\n"
     ]
    }
   ],
   "source": [
    "# TP/TN\n",
    "\n",
    "tptn = 0\n",
    "for i, d in dfv.iterrows():\n",
    "    if d['recipe_id'] in popular:\n",
    "        if d['cooked'] == 1:\n",
    "            tptn += 1\n",
    "    else:\n",
    "        if d['cooked'] == 0:\n",
    "            tptn += 1\n",
    "\n",
    "print('Accuracy of baseline model on valiation data: ' + str(tptn/dfv.shape[0]))"
   ]
  },
  {
   "cell_type": "code",
   "execution_count": 301,
   "id": "dd74d7bc",
   "metadata": {},
   "outputs": [],
   "source": [
    "# finding the best threshold / percentile\n",
    "\n",
    "accuracies = []\n",
    "percentiles = np.linspace(0.01,1,100) \n",
    "\n",
    "for perc in percentiles:\n",
    "    \n",
    "    popular = set()\n",
    "    count = 0\n",
    "    for i, d in zip(dft_sort['count'],dft_sort['recipe_id']):\n",
    "        count += i\n",
    "        popular.add(d)\n",
    "        if count > dft.shape[0] * perc:\n",
    "            break\n",
    "\n",
    "    tptn = 0\n",
    "    for i, d in dfv.iterrows():\n",
    "        if d['recipe_id'] in popular:\n",
    "            if d['cooked'] == 1:\n",
    "                tptn += 1\n",
    "        else:\n",
    "            if d['cooked'] == 0:\n",
    "                tptn += 1\n",
    "                \n",
    "    accuracies.append(tptn/dfv.shape[0])"
   ]
  },
  {
   "cell_type": "code",
   "execution_count": 302,
   "id": "53081435",
   "metadata": {},
   "outputs": [
    {
     "name": "stdout",
     "output_type": "stream",
     "text": [
      "52 percentile has the best performance 0.64294\n"
     ]
    }
   ],
   "source": [
    "# Answer 2\n",
    "print(str(int(100*percentiles[accuracies.index(np.max(accuracies))])) + ' percentile has the best performance ' + str(np.max(accuracies)))"
   ]
  },
  {
   "cell_type": "code",
   "execution_count": 307,
   "id": "52c33a5c",
   "metadata": {},
   "outputs": [],
   "source": [
    "# calculating the max similarity and storing it in a list\n",
    "\n",
    "M = []\n",
    "for i, d in dfv.iterrows():\n",
    "    sim = []\n",
    "    for recipe in itemsPerUser[d['user_id']]:\n",
    "        if d['recipe_id'] in usersPerItem:\n",
    "            sim.append(Jaccard(usersPerItem[d['recipe_id']], usersPerItem[recipe]))\n",
    "        else:\n",
    "            sim.append(0)\n",
    "    M.append(max(sim, default = 0))"
   ]
  },
  {
   "cell_type": "code",
   "execution_count": 333,
   "id": "53d8e4ba",
   "metadata": {},
   "outputs": [],
   "source": [
    "# calculating best accuracy\n",
    "\n",
    "accuracies = []\n",
    "#threshold = [1/2**i for i in range(1,10)] + [1/3**i for i in range(1,7)] + [1/5**i for i in range(1,5)] + [1/7**i for i in range(1,4)]\n",
    "threshold = np.linspace(.001,.02,100)\n",
    "\n",
    "for thresh in threshold:\n",
    "    tptn = 0\n",
    "    for i, d in dfv.iterrows():\n",
    "        if M[i] > thresh:\n",
    "            if d['cooked'] == 1:\n",
    "                tptn += 1\n",
    "        else:\n",
    "            if d['cooked'] == 0:\n",
    "                tptn += 1\n",
    "                    \n",
    "    accuracies.append(tptn/dfv.shape[0])"
   ]
  },
  {
   "cell_type": "code",
   "execution_count": 336,
   "id": "8cceab13",
   "metadata": {},
   "outputs": [
    {
     "name": "stdout",
     "output_type": "stream",
     "text": [
      "0.010595959595959596 threshold has the best performance 0.619885\n"
     ]
    }
   ],
   "source": [
    "# Answer 3\n",
    "\n",
    "print(str(threshold[accuracies.index(np.max(accuracies))]) + ' threshold has the best performance ' + str(np.max(accuracies)))"
   ]
  },
  {
   "cell_type": "code",
   "execution_count": 337,
   "id": "73d5a814",
   "metadata": {},
   "outputs": [],
   "source": [
    "# improve the above accuracy, construct 'popular' based on the threshold from Answer 2\n",
    "\n",
    "popular = set()\n",
    "count = 0\n",
    "for i, d in zip(dft_sort['count'],dft_sort['recipe_id']):\n",
    "    count += i\n",
    "    popular.add(d)\n",
    "    if count > dft.shape[0] * 0.52: # from answer 2\n",
    "        break"
   ]
  },
  {
   "cell_type": "code",
   "execution_count": 338,
   "id": "1c44b607",
   "metadata": {},
   "outputs": [
    {
     "data": {
      "text/plain": [
       "0.63059"
      ]
     },
     "execution_count": 338,
     "metadata": {},
     "output_type": "execute_result"
    }
   ],
   "source": [
    "# improving the above predictor by incorporating both Jacard and popularity thresholds\n",
    "\n",
    "tptn = 0\n",
    "for i, d in dfv.iterrows():\n",
    "    if M[i] > 0.010595959595959596 and d['recipe_id'] in popular: # from answer 3\n",
    "        if d['cooked'] == 1:\n",
    "            tptn += 1\n",
    "    else:\n",
    "        if d['cooked'] == 0:\n",
    "            tptn += 1\n",
    "\n",
    "# Answer 4\n",
    "tptn/dfv.shape[0]"
   ]
  },
  {
   "cell_type": "markdown",
   "id": "63a33e4e",
   "metadata": {},
   "source": [
    "### Tune again for both the percentile and threshold"
   ]
  },
  {
   "cell_type": "code",
   "execution_count": 342,
   "id": "2bbba3af",
   "metadata": {},
   "outputs": [],
   "source": [
    "# put all the above steps in a function\n",
    "\n",
    "def q4(percentile, threshold):\n",
    "    popular = set()\n",
    "    count = 0\n",
    "    for i, d in zip(dft_sort['count'],dft_sort['recipe_id']):\n",
    "        count += i\n",
    "        popular.add(d)\n",
    "        if count > dft.shape[0] / percentile:\n",
    "            break\n",
    "    \n",
    "    tptn = 0\n",
    "    for i, d in dfv.iterrows():\n",
    "        if M[i] > threshold and d['recipe_id'] in popular:\n",
    "            if d['cooked'] == 1:\n",
    "                tptn += 1\n",
    "        else:\n",
    "            if d['cooked'] == 0:\n",
    "                tptn += 1\n",
    "\n",
    "    return (tptn/dfv.shape[0])"
   ]
  },
  {
   "cell_type": "code",
   "execution_count": 343,
   "id": "b6743c8f",
   "metadata": {},
   "outputs": [],
   "source": [
    "percentiles = [i/10 for i in range(10, 20)]\n",
    "acc = []\n",
    "for percentile in percentiles:\n",
    "    acc.append(q4(percentile, 0.010595959595959596)) # from Answer 3"
   ]
  },
  {
   "cell_type": "code",
   "execution_count": 344,
   "id": "530ac777",
   "metadata": {},
   "outputs": [
    {
     "name": "stdout",
     "output_type": "stream",
     "text": [
      "1.7 threshold has the best performance 0.63381\n"
     ]
    }
   ],
   "source": [
    "print(str(percentiles[acc.index(np.max(acc))]) + ' threshold has the best performance ' + str(np.max(acc)))"
   ]
  },
  {
   "cell_type": "code",
   "execution_count": 345,
   "id": "c985012c",
   "metadata": {},
   "outputs": [],
   "source": [
    "# using the above threshold\n",
    "\n",
    "thresholds = [i/5000 for i in range(50, 100, 10)]\n",
    "acc = []\n",
    "for threshold in thresholds:\n",
    "    acc.append(q4(1.7, threshold)) # from the above cell"
   ]
  },
  {
   "cell_type": "code",
   "execution_count": 346,
   "id": "dd111699",
   "metadata": {},
   "outputs": [
    {
     "name": "stdout",
     "output_type": "stream",
     "text": [
      "0.01 threshold has the best performance 0.633955\n"
     ]
    }
   ],
   "source": [
    "print(str(thresholds[acc.index(np.max(acc))]) + ' threshold has the best performance ' + str(np.max(acc)))"
   ]
  },
  {
   "cell_type": "code",
   "execution_count": 75,
   "id": "698ca23e",
   "metadata": {},
   "outputs": [],
   "source": [
    "# use the entire dataset to train the model with the above values 1.7 and 0.01\n",
    "\n",
    "popular = set()\n",
    "count = 0\n",
    "for i, d in zip(df_sort['count'],df_sort['recipe_id']):\n",
    "    count += i\n",
    "    popular.add(str(d))\n",
    "    if count > df.shape[0] *.73:\n",
    "        break"
   ]
  },
  {
   "cell_type": "code",
   "execution_count": null,
   "id": "90e0329c",
   "metadata": {},
   "outputs": [],
   "source": [
    "usersPerItem1 = defaultdict(set)\n",
    "itemsPerUser1 = defaultdict(set)\n",
    "for i, d in dft.iterrows():\n",
    "    usersPerItem1[str(d['recipe_id'])].add(str(d['user_id']))\n",
    "    itemsPerUser1[str(d['user_id'])].add(str(d['recipe_id']))"
   ]
  },
  {
   "cell_type": "code",
   "execution_count": 76,
   "id": "be84b618",
   "metadata": {},
   "outputs": [],
   "source": [
    "# write out the predictions\n",
    "# Kaggle - 'Thyronorm'\n",
    "\n",
    "predictions = open(\"predictions_Made.txt\", 'w')\n",
    "for l in open(\"stub_Made.txt\"):\n",
    "    if l.startswith(\"user_id\"):\n",
    "        predictions.write(l)\n",
    "        continue\n",
    "    u,i = l.strip().split('-')\n",
    "    #similar = []\n",
    "    #for recipe in itemsPerUser1[u]:\n",
    "     #   if i in usersPerItem1:\n",
    "      #      similar.append(Jaccard(usersPerItem1[i], usersPerItem1[recipe]))\n",
    "       # else:\n",
    "        #    similar.append(0)\n",
    "    r = np.random.choice(np.arange(0, 2), p=[.8,.2])\n",
    "    if i in popular:\n",
    "    #if max(similar, default = 0) > 0.005:\n",
    "        predictions.write(u + '-' + i + \",1\\n\")\n",
    "    else:\n",
    "        #predictions.write(u + '-' + i + \",\\n\")\n",
    "        predictions.write(u + '-' + i + \",\" + str(r) + \"\\n\")\n",
    "\n",
    "predictions.close()"
   ]
  },
  {
   "cell_type": "code",
   "execution_count": 57,
   "id": "c3e75920",
   "metadata": {},
   "outputs": [
    {
     "data": {
      "text/plain": [
       "5736"
      ]
     },
     "execution_count": 57,
     "metadata": {},
     "output_type": "execute_result"
    }
   ],
   "source": [
    "c1"
   ]
  },
  {
   "cell_type": "code",
   "execution_count": 58,
   "id": "cbab3b1d",
   "metadata": {},
   "outputs": [
    {
     "data": {
      "text/plain": [
       "14264"
      ]
     },
     "execution_count": 58,
     "metadata": {},
     "output_type": "execute_result"
    }
   ],
   "source": [
    "c2"
   ]
  },
  {
   "cell_type": "markdown",
   "id": "6a6b6b91",
   "metadata": {},
   "source": [
    "# Rating Prediction"
   ]
  },
  {
   "cell_type": "code",
   "execution_count": 6,
   "id": "f5c3bbbe",
   "metadata": {},
   "outputs": [],
   "source": [
    "path = \"renttherunway_final_data.json.gz\" \n",
    "f = gzip.open(path, 'rt', encoding=\"utf8\") \n",
    "data = []\n",
    "for l in f: \n",
    "    d = json.loads(l) \n",
    "    data.append(d)\n",
    "f.close()"
   ]
  },
  {
   "cell_type": "code",
   "execution_count": 1,
   "id": "9700fbe4",
   "metadata": {},
   "outputs": [],
   "source": [
    "def readCSV(path):\n",
    "    f = gzip.open(path, 'rt')\n",
    "    f.readline()\n",
    "    for l in f:\n",
    "        yield l.strip().split(',')"
   ]
  },
  {
   "cell_type": "code",
   "execution_count": 4,
   "id": "6f36b672",
   "metadata": {},
   "outputs": [],
   "source": [
    "recipeData = []\n",
    "for user, recipe, date, rating in readCSV(\"trainInteractions.csv.gz\"):\n",
    "    recipeData.append([user, recipe, int(rating)])"
   ]
  },
  {
   "cell_type": "code",
   "execution_count": 5,
   "id": "35ff0a9c",
   "metadata": {},
   "outputs": [],
   "source": [
    "# 80-20 split for training and validation\n",
    "\n",
    "numTraining = int(len(recipeData) * 0.80)\n",
    "recipeDataTrain = recipeData[:numTraining]\n",
    "recipeDataValid = recipeData[numTraining:]"
   ]
  },
  {
   "cell_type": "code",
   "execution_count": 6,
   "id": "36efb99c",
   "metadata": {},
   "outputs": [],
   "source": [
    "reviewsPerUser = defaultdict(list)\n",
    "reviewsPerItem = defaultdict(list)\n",
    "\n",
    "for user_id,recipe_id,r in recipeDataTrain:\n",
    "    reviewsPerUser[user_id].append(r)\n",
    "    reviewsPerItem[recipe_id].append(r)"
   ]
  },
  {
   "cell_type": "code",
   "execution_count": 7,
   "id": "0b20eb2f",
   "metadata": {},
   "outputs": [],
   "source": [
    "nUsers = len(reviewsPerUser)\n",
    "nItems = len(reviewsPerItem)\n",
    "users = list(reviewsPerUser.keys())\n",
    "items = list(reviewsPerItem.keys())"
   ]
  },
  {
   "cell_type": "code",
   "execution_count": 8,
   "id": "ab60aa66",
   "metadata": {},
   "outputs": [
    {
     "data": {
      "text/plain": [
       "4.5808"
      ]
     },
     "execution_count": 8,
     "metadata": {},
     "output_type": "execute_result"
    }
   ],
   "source": [
    "alpha = sum([d[2] for d in recipeDataTrain]) / len(recipeDataTrain)\n",
    "alpha"
   ]
  },
  {
   "cell_type": "code",
   "execution_count": 9,
   "id": "398634f3",
   "metadata": {},
   "outputs": [],
   "source": [
    "userBiases = defaultdict(float)\n",
    "itemBiases = defaultdict(float)"
   ]
  },
  {
   "cell_type": "code",
   "execution_count": 10,
   "id": "da765b7d",
   "metadata": {},
   "outputs": [],
   "source": [
    "# defining some basic functions\n",
    "\n",
    "def prediction(user, item):\n",
    "    userBias = 0\n",
    "    itemBias = 0\n",
    "    if user in userBiases:\n",
    "        userBias = userBiases[user]\n",
    "    if item in itemBiases:\n",
    "        itemBias = itemBiases[item]\n",
    "    pred = alpha + userBias + itemBias\n",
    "    if pred > 5:\n",
    "        pred = 5\n",
    "    elif pred < 0:\n",
    "        pred = 0\n",
    "    return pred\n",
    "def unpack(theta):\n",
    "    global alpha\n",
    "    global userBiases\n",
    "    global itemBiases\n",
    "    alpha = theta[0]\n",
    "    userBiases = dict(zip(users, theta[1:nUsers+1])) # as 0th is already alpha\n",
    "    itemBiases = dict(zip(items, theta[1+nUsers:]))\n",
    "def cost(theta, labels, lamb):\n",
    "    unpack(theta)\n",
    "    predictions = [prediction(uId, rId) for uId, rId, r in recipeDataTrain]\n",
    "    cost = mean_squared_error(predictions, labels)\n",
    "    for u in userBiases:\n",
    "        cost += lamb*userBiases[u]**2\n",
    "    for i in itemBiases:\n",
    "        cost += lamb*itemBiases[i]**2\n",
    "    return cost\n",
    "def derivative(theta, labels, lamb):\n",
    "    unpack(theta)\n",
    "    N = len(recipeDataTrain)\n",
    "    dalpha = 0\n",
    "    dUserBiases = defaultdict(float)\n",
    "    dItemBiases = defaultdict(float)\n",
    "    for uId, rId, r in recipeDataTrain:\n",
    "        pred = prediction(uId, rId)\n",
    "        diff = pred - r\n",
    "        dalpha += 2/N*diff\n",
    "        dUserBiases[uId] += 2/N*diff\n",
    "        dItemBiases[rId] += 2/N*diff\n",
    "    for u in userBiases:\n",
    "        dUserBiases[uId] += 2*lamb*userBiases[uId]\n",
    "    for i in itemBiases:\n",
    "        dItemBiases[rId] += 2*lamb*itemBiases[rId]\n",
    "    dtheta = [dalpha] + [dUserBiases[uId] for uId in users] + [dItemBiases[rId] for rId in items]\n",
    "    return np.array(dtheta)"
   ]
  },
  {
   "cell_type": "code",
   "execution_count": 11,
   "id": "c58cfc3e",
   "metadata": {},
   "outputs": [
    {
     "data": {
      "text/plain": [
       "0.89873136"
      ]
     },
     "execution_count": 11,
     "metadata": {},
     "output_type": "execute_result"
    }
   ],
   "source": [
    "# MSE if we always predict mean\n",
    "\n",
    "alwaysPredictMean = [alpha for d in recipeDataTrain]\n",
    "labels = [r for uId,rId,r in recipeDataTrain]\n",
    "mean_squared_error(alwaysPredictMean, labels)"
   ]
  },
  {
   "cell_type": "code",
   "execution_count": 12,
   "id": "e3892f01",
   "metadata": {},
   "outputs": [
    {
     "data": {
      "text/plain": [
       "(array([ 4.58080000e+00, -9.99073018e-05, -9.36398828e-06, ...,\n",
       "        -1.68523934e-06,  1.21634354e-06, -1.68523934e-06]),\n",
       " 0.8986650519796527,\n",
       " {'grad': array([ 2.86762882e-04,  1.72015107e-04,  1.61351631e-05, ...,\n",
       "          2.90388169e-06, -2.09023906e-06,  2.90347479e-06]),\n",
       "  'task': 'ABNORMAL_TERMINATION_IN_LNSRCH',\n",
       "  'funcalls': 44,\n",
       "  'nit': 1,\n",
       "  'warnflag': 2})"
      ]
     },
     "execution_count": 12,
     "metadata": {},
     "output_type": "execute_result"
    }
   ],
   "source": [
    "scipy.optimize.fmin_l_bfgs_b(cost, [alpha] + [0.0]*(nUsers+nItems), derivative, args = (labels, 1))"
   ]
  },
  {
   "cell_type": "code",
   "execution_count": 13,
   "id": "2542c7aa",
   "metadata": {},
   "outputs": [
    {
     "data": {
      "text/plain": [
       "0.9093902742036257"
      ]
     },
     "execution_count": 13,
     "metadata": {},
     "output_type": "execute_result"
    }
   ],
   "source": [
    "# MSE on validation when only training data was used in the above step\n",
    "\n",
    "predictions = [prediction(uId, rId) for uId, rId, r in recipeDataValid]\n",
    "labelsValid = [r for uId,rId,r in recipeDataValid]\n",
    "mean_squared_error(predictions, labelsValid)"
   ]
  },
  {
   "cell_type": "code",
   "execution_count": 14,
   "id": "9de72028",
   "metadata": {},
   "outputs": [],
   "source": [
    "def writePred(lambdaVal):\n",
    "    fileName = \"predictions_Rated_\" + str(lambdaVal) + \".txt\"\n",
    "    predictions = open(fileName, 'w')\n",
    "    for l in open(\"stub_Rated.txt\"):\n",
    "        if l.startswith(\"user_id\"):\n",
    "            predictions.write(l)\n",
    "            continue\n",
    "        uId,rId = l.strip().split('-')\n",
    "        predictions.write(uId + '-' + rId + ',' + str(prediction(uId, rId)) + '\\n')\n",
    "    predictions.close()"
   ]
  },
  {
   "cell_type": "code",
   "execution_count": 15,
   "id": "98c2086b",
   "metadata": {},
   "outputs": [
    {
     "name": "stdout",
     "output_type": "stream",
     "text": [
      "Lambda: 0.0000001000, MSE of validation set = 0.977422\n",
      "Lambda: 0.0000010000, MSE of validation set = 0.900194\n",
      "Lambda: 0.0000100000, MSE of validation set = 0.827652\n",
      "Lambda: 0.0001000000, MSE of validation set = 0.830766\n",
      "Lambda: 0.0010000000, MSE of validation set = 0.884592\n",
      "Lambda: 0.0100000000, MSE of validation set = 0.899688\n",
      "Lambda: 0.1000000000, MSE of validation set = 0.909171\n"
     ]
    }
   ],
   "source": [
    "# MSE on validation when only training data was used in the above step\n",
    "\n",
    "powers = [-7,-6,-5,-4,-3,-2,-1]\n",
    "for power in powers:\n",
    "    lambda_ = pow(10,power)\n",
    "    scipy.optimize.fmin_l_bfgs_b(cost, [alpha] + [0.0]*(nUsers+nItems), derivative, args = (labels, lambda_))\n",
    "    predictions = [prediction(uId, rId) for uId, rId, r in recipeDataValid]\n",
    "    labelsValid = [r for uId,rId,r in recipeDataValid]\n",
    "    mse = mean_squared_error(predictions, labelsValid)\n",
    "    print(\"Lambda: %.10f, MSE of validation set = %f\" % (lambda_, mse))\n",
    "    writePred(lambda_)"
   ]
  },
  {
   "cell_type": "code",
   "execution_count": 16,
   "id": "f91cb9f8",
   "metadata": {},
   "outputs": [
    {
     "name": "stdout",
     "output_type": "stream",
     "text": [
      "Lambda: 0.0000090000, MSE of validation set = 0.829340\n",
      "Lambda: 0.0000200000, MSE of validation set = 0.821910\n",
      "Lambda: 0.0000300000, MSE of validation set = 0.840676\n"
     ]
    }
   ],
   "source": [
    "# further drilling down on lambda from the above results\n",
    "\n",
    "factors = [.9,2,3]\n",
    "for factor in factors:\n",
    "    lambda_ = factor * pow(10,-5)\n",
    "    scipy.optimize.fmin_l_bfgs_b(cost, [alpha] + [0.0]*(nUsers+nItems), derivative, args = (labels, lambda_))\n",
    "    predictions = [prediction(uId, rId) for uId, rId, r in recipeDataValid]\n",
    "    labelsValid = [r for uId,rId,r in recipeDataValid]\n",
    "    mse = mean_squared_error(predictions, labelsValid)\n",
    "    print(\"Lambda: %.10f, MSE of validation set = %f\" % (lambda_, mse))\n",
    "    writePred(lambda_)"
   ]
  },
  {
   "cell_type": "code",
   "execution_count": 17,
   "id": "f309c45c",
   "metadata": {},
   "outputs": [],
   "source": [
    "recipeData = []\n",
    "for user, recipe, date, rating in readCSV(\"trainInteractions.csv.gz\"):\n",
    "    recipeData.append([user, recipe, int(rating)])"
   ]
  },
  {
   "cell_type": "code",
   "execution_count": 18,
   "id": "9fba496a",
   "metadata": {},
   "outputs": [],
   "source": [
    "reviewsPerUser = defaultdict(list)\n",
    "reviewsPerItem = defaultdict(list)\n",
    "\n",
    "for user_id,recipe_id,r in recipeData:\n",
    "    reviewsPerUser[user_id].append(r)\n",
    "    reviewsPerItem[recipe_id].append(r)"
   ]
  },
  {
   "cell_type": "code",
   "execution_count": 19,
   "id": "f05aec38",
   "metadata": {},
   "outputs": [],
   "source": [
    "nUsers = len(reviewsPerUser)\n",
    "nItems = len(reviewsPerItem)\n",
    "users = list(reviewsPerUser.keys())\n",
    "items = list(reviewsPerItem.keys())"
   ]
  },
  {
   "cell_type": "code",
   "execution_count": 20,
   "id": "fadc1264",
   "metadata": {},
   "outputs": [
    {
     "data": {
      "text/plain": [
       "4.580794"
      ]
     },
     "execution_count": 20,
     "metadata": {},
     "output_type": "execute_result"
    }
   ],
   "source": [
    "alpha = sum([d[2] for d in recipeData]) / len(recipeData)\n",
    "alpha"
   ]
  },
  {
   "cell_type": "code",
   "execution_count": 21,
   "id": "9b2cde72",
   "metadata": {},
   "outputs": [],
   "source": [
    "userBiases = defaultdict(float)\n",
    "itemBiases = defaultdict(float)"
   ]
  },
  {
   "cell_type": "code",
   "execution_count": 171,
   "id": "3e86cbef",
   "metadata": {},
   "outputs": [],
   "source": [
    "# defining some basic functions\n",
    "\n",
    "def prediction(user, item):\n",
    "    userBias = 0\n",
    "    itemBias = 0\n",
    "    if user in userBiases:\n",
    "        userBias = userBiases[user]\n",
    "    if item in itemBiases:\n",
    "        itemBias = itemBiases[item]\n",
    "    pred = alpha + userBias + itemBias\n",
    "    if pred > 5:\n",
    "        pred = 5\n",
    "    elif pred < 0:\n",
    "        pred = 0\n",
    "    return pred\n",
    "def unpack(theta):\n",
    "    global alpha\n",
    "    global userBiases\n",
    "    global itemBiases\n",
    "    alpha = theta[0]\n",
    "    userBiases = dict(zip(users, theta[1:nUsers+1])) # as 0th is already alpha\n",
    "    itemBiases = dict(zip(items, theta[1+nUsers:]))\n",
    "def cost(theta, labels, lamb):\n",
    "    unpack(theta)\n",
    "    predictions = [prediction(uId, rId) for uId, rId, r in recipeData]\n",
    "    cost = mean_squared_error(predictions, labels)\n",
    "    for u in userBiases:\n",
    "        cost += lamb*userBiases[u]**2\n",
    "    for i in itemBiases:\n",
    "        cost += lamb*itemBiases[i]**2\n",
    "    return cost\n",
    "def derivative(theta, labels, lamb):\n",
    "    unpack(theta)\n",
    "    N = len(recipeData)\n",
    "    dalpha = 0\n",
    "    dUserBiases = defaultdict(float)\n",
    "    dItemBiases = defaultdict(float)\n",
    "    for uId, rId, r in recipeData:\n",
    "        pred = prediction(uId, rId)\n",
    "        diff = pred - r\n",
    "        dalpha += 2/N*diff\n",
    "        dUserBiases[uId] += 2/N*diff\n",
    "        dItemBiases[rId] += 2/N*diff\n",
    "    for u in userBiases:\n",
    "        dUserBiases[uId] += 2*lamb*userBiases[uId]\n",
    "    for i in itemBiases:\n",
    "        dItemBiases[rId] += 2*lamb*itemBiases[rId]\n",
    "    dtheta = [dalpha] + [dUserBiases[uId] for uId in users] + [dItemBiases[rId] for rId in items]\n",
    "    return np.array(dtheta)"
   ]
  },
  {
   "cell_type": "code",
   "execution_count": 172,
   "id": "b52df059",
   "metadata": {},
   "outputs": [
    {
     "data": {
      "text/plain": [
       "0.9181778837731382"
      ]
     },
     "execution_count": 172,
     "metadata": {},
     "output_type": "execute_result"
    }
   ],
   "source": [
    "# MSE if we always predict mean\n",
    "\n",
    "alwaysPredictMean = [alpha for d in recipeData]\n",
    "labels = [r for uId,rId,r in recipeData]\n",
    "mean_squared_error(alwaysPredictMean, labels)"
   ]
  },
  {
   "cell_type": "code",
   "execution_count": 24,
   "id": "3c70c620",
   "metadata": {},
   "outputs": [
    {
     "data": {
      "text/plain": [
       "(array([ 4.58079399e+00, -5.30542108e-05, -7.15649092e-06, ...,\n",
       "         9.29627600e-07,  9.29627579e-07, -7.20274035e-06]),\n",
       " 0.9008262946622485,\n",
       " {'grad': array([ 2.74042795e-04,  9.56212061e-05,  1.29079697e-05, ...,\n",
       "         -1.67729030e-06, -1.67668436e-06, -2.18188459e+00]),\n",
       "  'task': 'ABNORMAL_TERMINATION_IN_LNSRCH',\n",
       "  'funcalls': 58,\n",
       "  'nit': 3,\n",
       "  'warnflag': 2})"
      ]
     },
     "execution_count": 24,
     "metadata": {},
     "output_type": "execute_result"
    }
   ],
   "source": [
    "scipy.optimize.fmin_l_bfgs_b(cost, [alpha] + [0.0]*(nUsers+nItems), derivative, args = (labels, 1))"
   ]
  },
  {
   "cell_type": "code",
   "execution_count": 25,
   "id": "c80b1072",
   "metadata": {},
   "outputs": [
    {
     "data": {
      "text/plain": [
       "0.9093889609810253"
      ]
     },
     "execution_count": 25,
     "metadata": {},
     "output_type": "execute_result"
    }
   ],
   "source": [
    "# MSE on validation when only training data was used in the above step\n",
    "\n",
    "predictions = [prediction(uId, rId) for uId, rId, r in recipeDataValid]\n",
    "labelsValid = [r for uId,rId,r in recipeDataValid]\n",
    "mean_squared_error(predictions, labelsValid)"
   ]
  },
  {
   "cell_type": "code",
   "execution_count": 26,
   "id": "f8684b56",
   "metadata": {},
   "outputs": [],
   "source": [
    "lambda_ =  2 * pow(10,-5)\n",
    "scipy.optimize.fmin_l_bfgs_b(cost, [alpha] + [0.0]*(nUsers+nItems), derivative, args = (labels, lambda_))\n",
    "predictions = [prediction(uId, rId) for uId, rId, r in recipeDataValid]\n",
    "labelsValid = [r for uId,rId,r in recipeDataValid]\n",
    "mse = mean_squared_error(predictions, labelsValid)\n",
    "writePred(lambda_)"
   ]
  },
  {
   "cell_type": "code",
   "execution_count": 27,
   "id": "07ad4957",
   "metadata": {},
   "outputs": [
    {
     "data": {
      "text/plain": [
       "0.7169955676706133"
      ]
     },
     "execution_count": 27,
     "metadata": {},
     "output_type": "execute_result"
    }
   ],
   "source": [
    "mse"
   ]
  },
  {
   "cell_type": "code",
   "execution_count": 173,
   "id": "516a262c",
   "metadata": {},
   "outputs": [],
   "source": [
    "userGamma = {}\n",
    "itemGamma = {}"
   ]
  },
  {
   "cell_type": "code",
   "execution_count": 174,
   "id": "0113c450",
   "metadata": {},
   "outputs": [],
   "source": [
    "K = 2"
   ]
  },
  {
   "cell_type": "code",
   "execution_count": 175,
   "id": "55b0e4f5",
   "metadata": {},
   "outputs": [],
   "source": [
    "for u in reviewsPerUser:\n",
    "    userGamma[u] = [random.random() * 0.1 - 0.05 for k in range(K)]"
   ]
  },
  {
   "cell_type": "code",
   "execution_count": 176,
   "id": "d89d23f3",
   "metadata": {},
   "outputs": [],
   "source": [
    "for i in reviewsPerItem:\n",
    "    itemGamma[i] = [random.random() * 0.1 - 0.05 for k in range(K)]"
   ]
  },
  {
   "cell_type": "code",
   "execution_count": 177,
   "id": "5d627eb3",
   "metadata": {},
   "outputs": [],
   "source": [
    "def unpack(theta):\n",
    "    global alpha\n",
    "    global userBiases\n",
    "    global itemBiases\n",
    "    global userGamma\n",
    "    global itemGamma\n",
    "    index = 0\n",
    "    alpha = theta[index]\n",
    "    index += 1\n",
    "    userBiases = dict(zip(users, theta[index:index+nUsers]))\n",
    "    index += nUsers\n",
    "    itemBiases = dict(zip(items, theta[index:index+nItems]))\n",
    "    index += nItems\n",
    "    for u in users:\n",
    "        userGamma[u] = theta[index:index+K]\n",
    "        index += K\n",
    "    for i in items:\n",
    "        itemGamma[i] = theta[index:index+K]\n",
    "        index += K"
   ]
  },
  {
   "cell_type": "markdown",
   "id": "ae148ba4",
   "metadata": {},
   "source": [
    "s = 0\n",
    "for u in userGamma:\n",
    "    s += np.mean(userGamma[u])"
   ]
  },
  {
   "cell_type": "code",
   "execution_count": 178,
   "id": "93a4f6f4",
   "metadata": {},
   "outputs": [],
   "source": [
    "def inner(x, y):\n",
    "    try:\n",
    "        return sum([a*b for a,b in zip(x,y)])\n",
    "    except TypeError:\n",
    "        return 0"
   ]
  },
  {
   "cell_type": "code",
   "execution_count": 179,
   "id": "1d2918a9",
   "metadata": {},
   "outputs": [],
   "source": [
    "def prediction(user, item):\n",
    "    userBias = 0\n",
    "    itemBias = 0\n",
    "    userGam = 0\n",
    "    itemGam = 0\n",
    "    if user in userBiases:\n",
    "        userBias = userBiases[user]\n",
    "        userGam = userGamma[user]\n",
    "    if item in itemBiases:\n",
    "        itemBias = itemBiases[item]\n",
    "        itemGam = itemGamma[item]\n",
    "    pred = alpha + userBias + itemBias + inner(userGam, itemGam)\n",
    "    if pred > 5:\n",
    "        pred = 5\n",
    "    elif pred < 0:\n",
    "        pred = 0\n",
    "    elif abs(round(pred) - pred) <= 0.05:\n",
    "        pred = round(pred)\n",
    "    return pred"
   ]
  },
  {
   "cell_type": "code",
   "execution_count": 180,
   "id": "f82ac17c",
   "metadata": {},
   "outputs": [],
   "source": [
    "def cost(theta, labels, lamb):\n",
    "    unpack(theta)\n",
    "    predictions = [prediction(uId, rId) for uId, rId, r in recipeData]\n",
    "    # predictions = [prediction(d['user_id'], d['recipe_id']) for d in dataset]\n",
    "    cost = mean_squared_error(predictions, labels)\n",
    "    print(\"MSE = \" + str(cost))\n",
    "    for u in users:\n",
    "        cost += lamb*userBiases[u]**2\n",
    "        for k in range(K):\n",
    "            cost += lamb*userGamma[u][k]**2\n",
    "    for i in items:\n",
    "        cost += lamb*itemBiases[i]**2\n",
    "        for k in range(K):\n",
    "            cost += lamb*itemGamma[i][k]**2\n",
    "    return cost"
   ]
  },
  {
   "cell_type": "code",
   "execution_count": 181,
   "id": "b9011c42",
   "metadata": {},
   "outputs": [],
   "source": [
    "def derivative(theta, labels, lamb):\n",
    "    unpack(theta)\n",
    "    N = len(recipeData)\n",
    "    dalpha = 0\n",
    "    dUserBiases = defaultdict(float)\n",
    "    dItemBiases = defaultdict(float)\n",
    "    dUserGamma = {}\n",
    "    dItemGamma = {}\n",
    "    for u in reviewsPerUser:\n",
    "        dUserGamma[u] = [0.0 for k in range(K)]\n",
    "    for i in reviewsPerItem:\n",
    "        dItemGamma[i] = [0.0 for k in range(K)]\n",
    "    for uId, rId, r in recipeData:\n",
    "        u,i = uId, rId\n",
    "        pred = prediction(u, i)\n",
    "        diff = pred - r\n",
    "        dalpha += 2/N*diff\n",
    "        dUserBiases[u] += 2/N*diff\n",
    "        dItemBiases[i] += 2/N*diff\n",
    "        for k in range(K):\n",
    "            dUserGamma[u][k] += 2/N*itemGamma[i][k]*diff\n",
    "            dItemGamma[i][k] += 2/N*userGamma[u][k]*diff\n",
    "    for u in userBiases:\n",
    "        dUserBiases[u] += 2*lamb*userBiases[u]\n",
    "        for k in range(K):\n",
    "            dUserGamma[u][k] += 2*lamb*userGamma[u][k]\n",
    "    for i in itemBiases:\n",
    "        dItemBiases[i] += 2*lamb*itemBiases[i]\n",
    "        for k in range(K):\n",
    "            dItemGamma[i][k] += 2*lamb*itemGamma[i][k]\n",
    "    dtheta = [dalpha] + [dUserBiases[u] for u in users] + [dItemBiases[i] for i in items]\n",
    "    for u in users:\n",
    "        dtheta += dUserGamma[u]\n",
    "    for i in items:\n",
    "        dtheta += dItemGamma[i]\n",
    "    return np.array(dtheta)"
   ]
  },
  {
   "cell_type": "code",
   "execution_count": 182,
   "id": "07b9cd16",
   "metadata": {},
   "outputs": [
    {
     "data": {
      "text/plain": [
       "0.9181778837731382"
      ]
     },
     "execution_count": 182,
     "metadata": {},
     "output_type": "execute_result"
    }
   ],
   "source": [
    "mean_squared_error(alwaysPredictMean, labels)"
   ]
  },
  {
   "cell_type": "code",
   "execution_count": 183,
   "id": "3f24adab",
   "metadata": {},
   "outputs": [],
   "source": [
    "random.seed(0)"
   ]
  },
  {
   "cell_type": "code",
   "execution_count": 184,
   "id": "5677ed45",
   "metadata": {},
   "outputs": [
    {
     "name": "stdout",
     "output_type": "stream",
     "text": [
      "MSE = 0.9181784459821148\n",
      "MSE = 1.076626\n",
      "MSE = 0.9525237505803338\n",
      "MSE = 0.9007268111867569\n",
      "MSE = 0.900593490331774\n",
      "MSE = 0.900064559485036\n",
      "MSE = 0.8980184772690489\n",
      "MSE = 0.8909484071340253\n",
      "MSE = 0.863084118735726\n",
      "MSE = 0.8456047478594836\n",
      "MSE = 0.829445375110184\n",
      "MSE = 0.8175261901358734\n",
      "MSE = 0.806410901370951\n",
      "MSE = 0.7969980878700884\n",
      "MSE = 0.779809655044309\n",
      "MSE = 0.7660567139060801\n",
      "MSE = 0.7616732697878908\n",
      "MSE = 0.7570327952460689\n",
      "MSE = 3.7895198802971097\n",
      "MSE = 0.7569134485272156\n",
      "MSE = 0.7544550623254171\n",
      "MSE = 0.7475203962416929\n",
      "MSE = 0.7377594208911964\n",
      "MSE = 0.7282723276677585\n",
      "MSE = 0.7196074326428364\n",
      "MSE = 0.7160161129107225\n",
      "MSE = 0.7141815112438771\n",
      "MSE = 0.7122471562187573\n",
      "MSE = 0.7114837260274574\n",
      "MSE = 0.7138782133680784\n",
      "MSE = 0.7110880892991449\n",
      "MSE = 0.7076862788544467\n",
      "MSE = 0.7048099179871917\n",
      "MSE = 0.7013582252239368\n",
      "MSE = 0.7010932583670129\n",
      "MSE = 0.6986421533077172\n",
      "MSE = 0.6983463665873955\n",
      "MSE = 0.6985798947881479\n",
      "MSE = 0.6982309842949427\n",
      "MSE = 0.6971055186580295\n",
      "MSE = 0.694342021369628\n",
      "MSE = 0.6915283342271\n",
      "MSE = 0.6927696933383986\n",
      "MSE = 0.6924076578388763\n",
      "MSE = 0.699798720762129\n",
      "MSE = 0.6920220995829749\n",
      "MSE = 0.6919618325711057\n",
      "MSE = 0.6878283278249001\n",
      "MSE = 0.6907694575549733\n",
      "MSE = 0.6908548741505705\n",
      "MSE = 0.6904028529072398\n",
      "MSE = 0.6896073266861662\n",
      "MSE = 0.6890159537952018\n",
      "MSE = 0.6881357549171986\n",
      "MSE = 0.6880435835834763\n",
      "MSE = 0.6876769773919477\n",
      "MSE = 0.6867489305811368\n",
      "MSE = 0.686561590434002\n",
      "MSE = 0.6913462733746484\n",
      "MSE = 0.6867004145517143\n",
      "MSE = 0.6868063410906468\n",
      "MSE = 0.6870102257038107\n",
      "MSE = 0.6869296595603125\n"
     ]
    },
    {
     "data": {
      "text/plain": [
       "(array([ 4.45216033e+00,  3.74473285e-02, -1.15457790e-01, ...,\n",
       "        -2.91888259e-03, -4.36140890e-03,  6.81503695e-03]),\n",
       " 0.7425028623521859,\n",
       " {'grad': array([ 1.84246871e-03,  1.08134332e-06, -6.66410379e-07, ...,\n",
       "         -7.03771777e-08, -1.76579036e-07,  2.73229806e-07]),\n",
       "  'task': 'STOP: TOTAL NO. of ITERATIONS REACHED LIMIT',\n",
       "  'funcalls': 63,\n",
       "  'nit': 50,\n",
       "  'warnflag': 1})"
      ]
     },
     "execution_count": 184,
     "metadata": {},
     "output_type": "execute_result"
    }
   ],
   "source": [
    "scipy.optimize.fmin_l_bfgs_b(cost, [alpha] + # Initialize alpha\n",
    "                                   [0.0]*(nUsers+nItems) + # Initialize beta\n",
    "                                   [random.random() * 0.1 - 0.05 for k in range(K*(nUsers+nItems))], # Gamma\n",
    "                             derivative, args = (labels, 2 * pow(10,-5)), maxiter = 50)"
   ]
  },
  {
   "cell_type": "code",
   "execution_count": 169,
   "id": "82741c8d",
   "metadata": {},
   "outputs": [
    {
     "data": {
      "text/plain": [
       "0.6936918715503715"
      ]
     },
     "execution_count": 169,
     "metadata": {},
     "output_type": "execute_result"
    }
   ],
   "source": [
    "predictions = [prediction(uId, rId) for uId, rId, r in recipeDataValid]\n",
    "labelsValid = [r for uId,rId,r in recipeDataValid]\n",
    "mse = mean_squared_error(predictions, labelsValid)\n",
    "mse"
   ]
  },
  {
   "cell_type": "code",
   "execution_count": 185,
   "id": "29a7682f",
   "metadata": {},
   "outputs": [],
   "source": [
    "writePred(lambda_)"
   ]
  },
  {
   "cell_type": "code",
   "execution_count": null,
   "id": "7b206bcd",
   "metadata": {},
   "outputs": [],
   "source": [
    "40 - .82318\n",
    "50 - .82164\n",
    "55 - .82231\n",
    "60 - .8221\n",
    "100 - .824\n",
    "500 - .84"
   ]
  },
  {
   "cell_type": "code",
   "execution_count": null,
   "id": "f2ba5756",
   "metadata": {},
   "outputs": [],
   "source": []
  }
 ],
 "metadata": {
  "kernelspec": {
   "display_name": "Python 3 (ipykernel)",
   "language": "python",
   "name": "python3"
  },
  "language_info": {
   "codemirror_mode": {
    "name": "ipython",
    "version": 3
   },
   "file_extension": ".py",
   "mimetype": "text/x-python",
   "name": "python",
   "nbconvert_exporter": "python",
   "pygments_lexer": "ipython3",
   "version": "3.9.10"
  }
 },
 "nbformat": 4,
 "nbformat_minor": 5
}
